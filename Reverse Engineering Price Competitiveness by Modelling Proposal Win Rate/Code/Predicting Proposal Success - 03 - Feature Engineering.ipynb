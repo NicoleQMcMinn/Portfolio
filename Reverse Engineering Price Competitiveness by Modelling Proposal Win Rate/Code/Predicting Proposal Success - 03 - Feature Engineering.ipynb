{
  "nbformat": 4,
  "nbformat_minor": 0,
  "metadata": {
    "colab": {
      "provenance": [],
      "collapsed_sections": [
        "gKyy0NXs40ve",
        "ia8rx1RF7Nx8",
        "XUNo5qKK8gcu",
        "EaykfAT3auqJ",
        "MaqM8wunHF4Z",
        "5XSZc7Z0RX2Q",
        "ELYI6ty1TNOQ",
        "_nFceM1qYIna",
        "x4RQX7rnNBly"
      ],
      "authorship_tag": "ABX9TyMxu53u2prmj2j9x0TgfaUm"
    },
    "kernelspec": {
      "name": "python3",
      "display_name": "Python 3"
    },
    "language_info": {
      "name": "python"
    }
  },
  "cells": [
    {
      "cell_type": "markdown",
      "source": [
        "# ***Predicting Proposal Success - 03 - Feature Engineering***"
      ],
      "metadata": {
        "id": "QR81AV-V3pxK"
      }
    },
    {
      "cell_type": "markdown",
      "source": [
        "**Purpose:** Prepare the proposals data for the two modelling problems that were identified during EDA: RFS and Non-RFS.\n",
        "The modelling that this data will be supporting is a one-off exploration of factors influencing proposal outcomes, so the below is not built in a pipeline fashion"
      ],
      "metadata": {
        "id": "xrchH3IO3xvw"
      }
    },
    {
      "cell_type": "markdown",
      "source": [
        "**Next Steps:** Modelling for ALL and RFS proposals"
      ],
      "metadata": {
        "id": "uIopK-AN4w_H"
      }
    },
    {
      "cell_type": "markdown",
      "source": [
        "# **File Setup**"
      ],
      "metadata": {
        "id": "gKyy0NXs40ve"
      }
    },
    {
      "cell_type": "code",
      "source": [
        "import pandas as pd\n",
        "import numpy as np\n",
        "import matplotlib.pyplot as plt\n",
        "import seaborn as sns\n",
        "import io\n",
        "from sklearn.preprocessing import StandardScaler\n",
        "from sklearn.model_selection import train_test_split\n",
        "from sklearn.cluster import KMeans"
      ],
      "metadata": {
        "id": "mB-T08r_44gF"
      },
      "execution_count": null,
      "outputs": []
    },
    {
      "cell_type": "markdown",
      "source": [
        "We are importing the output from 'Predicting Proposal Success - 02 - EDA' which can be found here: https://colab.research.google.com/drive/1GoAupEBPMN40NJz67RT4ppdBMWjcIdPu?usp=sharing"
      ],
      "metadata": {
        "id": "28eqaPxnnrUZ"
      }
    },
    {
      "cell_type": "code",
      "execution_count": null,
      "metadata": {
        "colab": {
          "base_uri": "https://localhost:8080/",
          "height": 92
        },
        "id": "cLuSyQCj3kQ1",
        "outputId": "efe804b4-f96c-4f4f-e484-9dbbc264cbdf"
      },
      "outputs": [
        {
          "output_type": "display_data",
          "data": {
            "text/plain": [
              "<IPython.core.display.HTML object>"
            ],
            "text/html": [
              "\n",
              "     <input type=\"file\" id=\"files-8744aeb3-1aef-499c-9576-75a5baec98d9\" name=\"files[]\" multiple disabled\n",
              "        style=\"border:none\" />\n",
              "     <output id=\"result-8744aeb3-1aef-499c-9576-75a5baec98d9\">\n",
              "      Upload widget is only available when the cell has been executed in the\n",
              "      current browser session. Please rerun this cell to enable.\n",
              "      </output>\n",
              "      <script>// Copyright 2017 Google LLC\n",
              "//\n",
              "// Licensed under the Apache License, Version 2.0 (the \"License\");\n",
              "// you may not use this file except in compliance with the License.\n",
              "// You may obtain a copy of the License at\n",
              "//\n",
              "//      http://www.apache.org/licenses/LICENSE-2.0\n",
              "//\n",
              "// Unless required by applicable law or agreed to in writing, software\n",
              "// distributed under the License is distributed on an \"AS IS\" BASIS,\n",
              "// WITHOUT WARRANTIES OR CONDITIONS OF ANY KIND, either express or implied.\n",
              "// See the License for the specific language governing permissions and\n",
              "// limitations under the License.\n",
              "\n",
              "/**\n",
              " * @fileoverview Helpers for google.colab Python module.\n",
              " */\n",
              "(function(scope) {\n",
              "function span(text, styleAttributes = {}) {\n",
              "  const element = document.createElement('span');\n",
              "  element.textContent = text;\n",
              "  for (const key of Object.keys(styleAttributes)) {\n",
              "    element.style[key] = styleAttributes[key];\n",
              "  }\n",
              "  return element;\n",
              "}\n",
              "\n",
              "// Max number of bytes which will be uploaded at a time.\n",
              "const MAX_PAYLOAD_SIZE = 100 * 1024;\n",
              "\n",
              "function _uploadFiles(inputId, outputId) {\n",
              "  const steps = uploadFilesStep(inputId, outputId);\n",
              "  const outputElement = document.getElementById(outputId);\n",
              "  // Cache steps on the outputElement to make it available for the next call\n",
              "  // to uploadFilesContinue from Python.\n",
              "  outputElement.steps = steps;\n",
              "\n",
              "  return _uploadFilesContinue(outputId);\n",
              "}\n",
              "\n",
              "// This is roughly an async generator (not supported in the browser yet),\n",
              "// where there are multiple asynchronous steps and the Python side is going\n",
              "// to poll for completion of each step.\n",
              "// This uses a Promise to block the python side on completion of each step,\n",
              "// then passes the result of the previous step as the input to the next step.\n",
              "function _uploadFilesContinue(outputId) {\n",
              "  const outputElement = document.getElementById(outputId);\n",
              "  const steps = outputElement.steps;\n",
              "\n",
              "  const next = steps.next(outputElement.lastPromiseValue);\n",
              "  return Promise.resolve(next.value.promise).then((value) => {\n",
              "    // Cache the last promise value to make it available to the next\n",
              "    // step of the generator.\n",
              "    outputElement.lastPromiseValue = value;\n",
              "    return next.value.response;\n",
              "  });\n",
              "}\n",
              "\n",
              "/**\n",
              " * Generator function which is called between each async step of the upload\n",
              " * process.\n",
              " * @param {string} inputId Element ID of the input file picker element.\n",
              " * @param {string} outputId Element ID of the output display.\n",
              " * @return {!Iterable<!Object>} Iterable of next steps.\n",
              " */\n",
              "function* uploadFilesStep(inputId, outputId) {\n",
              "  const inputElement = document.getElementById(inputId);\n",
              "  inputElement.disabled = false;\n",
              "\n",
              "  const outputElement = document.getElementById(outputId);\n",
              "  outputElement.innerHTML = '';\n",
              "\n",
              "  const pickedPromise = new Promise((resolve) => {\n",
              "    inputElement.addEventListener('change', (e) => {\n",
              "      resolve(e.target.files);\n",
              "    });\n",
              "  });\n",
              "\n",
              "  const cancel = document.createElement('button');\n",
              "  inputElement.parentElement.appendChild(cancel);\n",
              "  cancel.textContent = 'Cancel upload';\n",
              "  const cancelPromise = new Promise((resolve) => {\n",
              "    cancel.onclick = () => {\n",
              "      resolve(null);\n",
              "    };\n",
              "  });\n",
              "\n",
              "  // Wait for the user to pick the files.\n",
              "  const files = yield {\n",
              "    promise: Promise.race([pickedPromise, cancelPromise]),\n",
              "    response: {\n",
              "      action: 'starting',\n",
              "    }\n",
              "  };\n",
              "\n",
              "  cancel.remove();\n",
              "\n",
              "  // Disable the input element since further picks are not allowed.\n",
              "  inputElement.disabled = true;\n",
              "\n",
              "  if (!files) {\n",
              "    return {\n",
              "      response: {\n",
              "        action: 'complete',\n",
              "      }\n",
              "    };\n",
              "  }\n",
              "\n",
              "  for (const file of files) {\n",
              "    const li = document.createElement('li');\n",
              "    li.append(span(file.name, {fontWeight: 'bold'}));\n",
              "    li.append(span(\n",
              "        `(${file.type || 'n/a'}) - ${file.size} bytes, ` +\n",
              "        `last modified: ${\n",
              "            file.lastModifiedDate ? file.lastModifiedDate.toLocaleDateString() :\n",
              "                                    'n/a'} - `));\n",
              "    const percent = span('0% done');\n",
              "    li.appendChild(percent);\n",
              "\n",
              "    outputElement.appendChild(li);\n",
              "\n",
              "    const fileDataPromise = new Promise((resolve) => {\n",
              "      const reader = new FileReader();\n",
              "      reader.onload = (e) => {\n",
              "        resolve(e.target.result);\n",
              "      };\n",
              "      reader.readAsArrayBuffer(file);\n",
              "    });\n",
              "    // Wait for the data to be ready.\n",
              "    let fileData = yield {\n",
              "      promise: fileDataPromise,\n",
              "      response: {\n",
              "        action: 'continue',\n",
              "      }\n",
              "    };\n",
              "\n",
              "    // Use a chunked sending to avoid message size limits. See b/62115660.\n",
              "    let position = 0;\n",
              "    do {\n",
              "      const length = Math.min(fileData.byteLength - position, MAX_PAYLOAD_SIZE);\n",
              "      const chunk = new Uint8Array(fileData, position, length);\n",
              "      position += length;\n",
              "\n",
              "      const base64 = btoa(String.fromCharCode.apply(null, chunk));\n",
              "      yield {\n",
              "        response: {\n",
              "          action: 'append',\n",
              "          file: file.name,\n",
              "          data: base64,\n",
              "        },\n",
              "      };\n",
              "\n",
              "      let percentDone = fileData.byteLength === 0 ?\n",
              "          100 :\n",
              "          Math.round((position / fileData.byteLength) * 100);\n",
              "      percent.textContent = `${percentDone}% done`;\n",
              "\n",
              "    } while (position < fileData.byteLength);\n",
              "  }\n",
              "\n",
              "  // All done.\n",
              "  yield {\n",
              "    response: {\n",
              "      action: 'complete',\n",
              "    }\n",
              "  };\n",
              "}\n",
              "\n",
              "scope.google = scope.google || {};\n",
              "scope.google.colab = scope.google.colab || {};\n",
              "scope.google.colab._files = {\n",
              "  _uploadFiles,\n",
              "  _uploadFilesContinue,\n",
              "};\n",
              "})(self);\n",
              "</script> "
            ]
          },
          "metadata": {}
        },
        {
          "output_type": "stream",
          "name": "stdout",
          "text": [
            "Saving 2.1 EDA Output.csv to 2.1 EDA Output (7).csv\n",
            "(3052, 26)\n"
          ]
        }
      ],
      "source": [
        "from google.colab import files\n",
        "uploaded = files.upload()\n",
        "\n",
        "for filename, file_content in uploaded.items():\n",
        "   prop = pd.read_csv(io.BytesIO(file_content))\n",
        "   prop.set_index(prop.columns[0], inplace=True)\n",
        "\n",
        "print(prop.shape)"
      ]
    },
    {
      "cell_type": "code",
      "source": [
        "prop.info()"
      ],
      "metadata": {
        "colab": {
          "base_uri": "https://localhost:8080/"
        },
        "id": "wPkEWnZf5ay7",
        "outputId": "aad34d2f-5b40-44ea-a4e6-9065a4a95252"
      },
      "execution_count": null,
      "outputs": [
        {
          "output_type": "stream",
          "name": "stdout",
          "text": [
            "<class 'pandas.core.frame.DataFrame'>\n",
            "Index: 3052 entries, 0 to 3151\n",
            "Data columns (total 26 columns):\n",
            " #   Column           Non-Null Count  Dtype  \n",
            "---  ------           --------------  -----  \n",
            " 0   proposal_num     3048 non-null   object \n",
            " 1   registry_region  3052 non-null   object \n",
            " 2   sow              3052 non-null   object \n",
            " 3   rfp              3052 non-null   int64  \n",
            " 4   units_orig       2845 non-null   object \n",
            " 5   storeys_orig     2769 non-null   object \n",
            " 6   townhouse_orig   2688 non-null   object \n",
            " 7   parking_orig     2709 non-null   object \n",
            " 8   prev_rfs         3052 non-null   object \n",
            " 9   reminder         3048 non-null   object \n",
            " 10  fee_probable     3052 non-null   float64\n",
            " 11  issued_date      3052 non-null   object \n",
            " 12  outcome          3052 non-null   int64  \n",
            " 13  prev_wins        3052 non-null   float64\n",
            " 14  townhouse_flag   3052 non-null   int64  \n",
            " 15  storeys          1086 non-null   float64\n",
            " 16  comm_flag        3052 non-null   float64\n",
            " 17  comm_units       196 non-null    float64\n",
            " 18  potl_units       114 non-null    float64\n",
            " 19  res_units        1371 non-null   float64\n",
            " 20  building_age     1667 non-null   float64\n",
            " 21  project_type     3052 non-null   object \n",
            " 22  quarter          3052 non-null   object \n",
            " 23  region           3052 non-null   object \n",
            " 24  building_type    3052 non-null   object \n",
            " 25  units            1642 non-null   float64\n",
            "dtypes: float64(9), int64(3), object(14)\n",
            "memory usage: 643.8+ KB\n"
          ]
        }
      ]
    },
    {
      "cell_type": "code",
      "source": [
        "#We'll remove the columns that were not identified as significant during EDA\n",
        "prop = prop[['region', 'prev_rfs', 'reminder', 'fee_probable', 'outcome', 'project_type', 'building_type', 'units','sow']]"
      ],
      "metadata": {
        "id": "39LSUQd85fAl"
      },
      "execution_count": null,
      "outputs": []
    },
    {
      "cell_type": "code",
      "source": [
        "prop.head()"
      ],
      "metadata": {
        "colab": {
          "base_uri": "https://localhost:8080/",
          "height": 238
        },
        "id": "LVhHhIrH6oA6",
        "outputId": "a4f02155-22a5-4daf-e9c7-c69cfdd97477"
      },
      "execution_count": null,
      "outputs": [
        {
          "output_type": "execute_result",
          "data": {
            "text/plain": [
              "             region prev_rfs reminder  fee_probable  outcome project_type  \\\n",
              "Unnamed: 0                                                                  \n",
              "0               TOR      Yes       No        2795.0        1          RFS   \n",
              "1                PC       No       No        2500.0        0          RFS   \n",
              "2               TOR      Yes      Yes        3795.0        1          RFS   \n",
              "3           Unknown      Yes       No        1508.0        1          RFS   \n",
              "4               TOR      Yes       No        5825.0        0          RFS   \n",
              "\n",
              "           building_type  units          sow  \n",
              "Unnamed: 0                                    \n",
              "0                unknown    NaN   Update RFS  \n",
              "1            residential   39.0  Class 2 RFS  \n",
              "2               highrise   46.0   Update RFS  \n",
              "3                unknown    NaN  Class 3 RFS  \n",
              "4               highrise  320.0  Class 2 RFS  "
            ],
            "text/html": [
              "\n",
              "  <div id=\"df-f3fdf0cc-3075-419b-be71-7e3ae4e8b1b5\" class=\"colab-df-container\">\n",
              "    <div>\n",
              "<style scoped>\n",
              "    .dataframe tbody tr th:only-of-type {\n",
              "        vertical-align: middle;\n",
              "    }\n",
              "\n",
              "    .dataframe tbody tr th {\n",
              "        vertical-align: top;\n",
              "    }\n",
              "\n",
              "    .dataframe thead th {\n",
              "        text-align: right;\n",
              "    }\n",
              "</style>\n",
              "<table border=\"1\" class=\"dataframe\">\n",
              "  <thead>\n",
              "    <tr style=\"text-align: right;\">\n",
              "      <th></th>\n",
              "      <th>region</th>\n",
              "      <th>prev_rfs</th>\n",
              "      <th>reminder</th>\n",
              "      <th>fee_probable</th>\n",
              "      <th>outcome</th>\n",
              "      <th>project_type</th>\n",
              "      <th>building_type</th>\n",
              "      <th>units</th>\n",
              "      <th>sow</th>\n",
              "    </tr>\n",
              "    <tr>\n",
              "      <th>Unnamed: 0</th>\n",
              "      <th></th>\n",
              "      <th></th>\n",
              "      <th></th>\n",
              "      <th></th>\n",
              "      <th></th>\n",
              "      <th></th>\n",
              "      <th></th>\n",
              "      <th></th>\n",
              "      <th></th>\n",
              "    </tr>\n",
              "  </thead>\n",
              "  <tbody>\n",
              "    <tr>\n",
              "      <th>0</th>\n",
              "      <td>TOR</td>\n",
              "      <td>Yes</td>\n",
              "      <td>No</td>\n",
              "      <td>2795.0</td>\n",
              "      <td>1</td>\n",
              "      <td>RFS</td>\n",
              "      <td>unknown</td>\n",
              "      <td>NaN</td>\n",
              "      <td>Update RFS</td>\n",
              "    </tr>\n",
              "    <tr>\n",
              "      <th>1</th>\n",
              "      <td>PC</td>\n",
              "      <td>No</td>\n",
              "      <td>No</td>\n",
              "      <td>2500.0</td>\n",
              "      <td>0</td>\n",
              "      <td>RFS</td>\n",
              "      <td>residential</td>\n",
              "      <td>39.0</td>\n",
              "      <td>Class 2 RFS</td>\n",
              "    </tr>\n",
              "    <tr>\n",
              "      <th>2</th>\n",
              "      <td>TOR</td>\n",
              "      <td>Yes</td>\n",
              "      <td>Yes</td>\n",
              "      <td>3795.0</td>\n",
              "      <td>1</td>\n",
              "      <td>RFS</td>\n",
              "      <td>highrise</td>\n",
              "      <td>46.0</td>\n",
              "      <td>Update RFS</td>\n",
              "    </tr>\n",
              "    <tr>\n",
              "      <th>3</th>\n",
              "      <td>Unknown</td>\n",
              "      <td>Yes</td>\n",
              "      <td>No</td>\n",
              "      <td>1508.0</td>\n",
              "      <td>1</td>\n",
              "      <td>RFS</td>\n",
              "      <td>unknown</td>\n",
              "      <td>NaN</td>\n",
              "      <td>Class 3 RFS</td>\n",
              "    </tr>\n",
              "    <tr>\n",
              "      <th>4</th>\n",
              "      <td>TOR</td>\n",
              "      <td>Yes</td>\n",
              "      <td>No</td>\n",
              "      <td>5825.0</td>\n",
              "      <td>0</td>\n",
              "      <td>RFS</td>\n",
              "      <td>highrise</td>\n",
              "      <td>320.0</td>\n",
              "      <td>Class 2 RFS</td>\n",
              "    </tr>\n",
              "  </tbody>\n",
              "</table>\n",
              "</div>\n",
              "    <div class=\"colab-df-buttons\">\n",
              "\n",
              "  <div class=\"colab-df-container\">\n",
              "    <button class=\"colab-df-convert\" onclick=\"convertToInteractive('df-f3fdf0cc-3075-419b-be71-7e3ae4e8b1b5')\"\n",
              "            title=\"Convert this dataframe to an interactive table.\"\n",
              "            style=\"display:none;\">\n",
              "\n",
              "  <svg xmlns=\"http://www.w3.org/2000/svg\" height=\"24px\" viewBox=\"0 -960 960 960\">\n",
              "    <path d=\"M120-120v-720h720v720H120Zm60-500h600v-160H180v160Zm220 220h160v-160H400v160Zm0 220h160v-160H400v160ZM180-400h160v-160H180v160Zm440 0h160v-160H620v160ZM180-180h160v-160H180v160Zm440 0h160v-160H620v160Z\"/>\n",
              "  </svg>\n",
              "    </button>\n",
              "\n",
              "  <style>\n",
              "    .colab-df-container {\n",
              "      display:flex;\n",
              "      gap: 12px;\n",
              "    }\n",
              "\n",
              "    .colab-df-convert {\n",
              "      background-color: #E8F0FE;\n",
              "      border: none;\n",
              "      border-radius: 50%;\n",
              "      cursor: pointer;\n",
              "      display: none;\n",
              "      fill: #1967D2;\n",
              "      height: 32px;\n",
              "      padding: 0 0 0 0;\n",
              "      width: 32px;\n",
              "    }\n",
              "\n",
              "    .colab-df-convert:hover {\n",
              "      background-color: #E2EBFA;\n",
              "      box-shadow: 0px 1px 2px rgba(60, 64, 67, 0.3), 0px 1px 3px 1px rgba(60, 64, 67, 0.15);\n",
              "      fill: #174EA6;\n",
              "    }\n",
              "\n",
              "    .colab-df-buttons div {\n",
              "      margin-bottom: 4px;\n",
              "    }\n",
              "\n",
              "    [theme=dark] .colab-df-convert {\n",
              "      background-color: #3B4455;\n",
              "      fill: #D2E3FC;\n",
              "    }\n",
              "\n",
              "    [theme=dark] .colab-df-convert:hover {\n",
              "      background-color: #434B5C;\n",
              "      box-shadow: 0px 1px 3px 1px rgba(0, 0, 0, 0.15);\n",
              "      filter: drop-shadow(0px 1px 2px rgba(0, 0, 0, 0.3));\n",
              "      fill: #FFFFFF;\n",
              "    }\n",
              "  </style>\n",
              "\n",
              "    <script>\n",
              "      const buttonEl =\n",
              "        document.querySelector('#df-f3fdf0cc-3075-419b-be71-7e3ae4e8b1b5 button.colab-df-convert');\n",
              "      buttonEl.style.display =\n",
              "        google.colab.kernel.accessAllowed ? 'block' : 'none';\n",
              "\n",
              "      async function convertToInteractive(key) {\n",
              "        const element = document.querySelector('#df-f3fdf0cc-3075-419b-be71-7e3ae4e8b1b5');\n",
              "        const dataTable =\n",
              "          await google.colab.kernel.invokeFunction('convertToInteractive',\n",
              "                                                    [key], {});\n",
              "        if (!dataTable) return;\n",
              "\n",
              "        const docLinkHtml = 'Like what you see? Visit the ' +\n",
              "          '<a target=\"_blank\" href=https://colab.research.google.com/notebooks/data_table.ipynb>data table notebook</a>'\n",
              "          + ' to learn more about interactive tables.';\n",
              "        element.innerHTML = '';\n",
              "        dataTable['output_type'] = 'display_data';\n",
              "        await google.colab.output.renderOutput(dataTable, element);\n",
              "        const docLink = document.createElement('div');\n",
              "        docLink.innerHTML = docLinkHtml;\n",
              "        element.appendChild(docLink);\n",
              "      }\n",
              "    </script>\n",
              "  </div>\n",
              "\n",
              "\n",
              "<div id=\"df-83351637-11d5-4987-b58f-2ba8e8af69c7\">\n",
              "  <button class=\"colab-df-quickchart\" onclick=\"quickchart('df-83351637-11d5-4987-b58f-2ba8e8af69c7')\"\n",
              "            title=\"Suggest charts\"\n",
              "            style=\"display:none;\">\n",
              "\n",
              "<svg xmlns=\"http://www.w3.org/2000/svg\" height=\"24px\"viewBox=\"0 0 24 24\"\n",
              "     width=\"24px\">\n",
              "    <g>\n",
              "        <path d=\"M19 3H5c-1.1 0-2 .9-2 2v14c0 1.1.9 2 2 2h14c1.1 0 2-.9 2-2V5c0-1.1-.9-2-2-2zM9 17H7v-7h2v7zm4 0h-2V7h2v10zm4 0h-2v-4h2v4z\"/>\n",
              "    </g>\n",
              "</svg>\n",
              "  </button>\n",
              "\n",
              "<style>\n",
              "  .colab-df-quickchart {\n",
              "      --bg-color: #E8F0FE;\n",
              "      --fill-color: #1967D2;\n",
              "      --hover-bg-color: #E2EBFA;\n",
              "      --hover-fill-color: #174EA6;\n",
              "      --disabled-fill-color: #AAA;\n",
              "      --disabled-bg-color: #DDD;\n",
              "  }\n",
              "\n",
              "  [theme=dark] .colab-df-quickchart {\n",
              "      --bg-color: #3B4455;\n",
              "      --fill-color: #D2E3FC;\n",
              "      --hover-bg-color: #434B5C;\n",
              "      --hover-fill-color: #FFFFFF;\n",
              "      --disabled-bg-color: #3B4455;\n",
              "      --disabled-fill-color: #666;\n",
              "  }\n",
              "\n",
              "  .colab-df-quickchart {\n",
              "    background-color: var(--bg-color);\n",
              "    border: none;\n",
              "    border-radius: 50%;\n",
              "    cursor: pointer;\n",
              "    display: none;\n",
              "    fill: var(--fill-color);\n",
              "    height: 32px;\n",
              "    padding: 0;\n",
              "    width: 32px;\n",
              "  }\n",
              "\n",
              "  .colab-df-quickchart:hover {\n",
              "    background-color: var(--hover-bg-color);\n",
              "    box-shadow: 0 1px 2px rgba(60, 64, 67, 0.3), 0 1px 3px 1px rgba(60, 64, 67, 0.15);\n",
              "    fill: var(--button-hover-fill-color);\n",
              "  }\n",
              "\n",
              "  .colab-df-quickchart-complete:disabled,\n",
              "  .colab-df-quickchart-complete:disabled:hover {\n",
              "    background-color: var(--disabled-bg-color);\n",
              "    fill: var(--disabled-fill-color);\n",
              "    box-shadow: none;\n",
              "  }\n",
              "\n",
              "  .colab-df-spinner {\n",
              "    border: 2px solid var(--fill-color);\n",
              "    border-color: transparent;\n",
              "    border-bottom-color: var(--fill-color);\n",
              "    animation:\n",
              "      spin 1s steps(1) infinite;\n",
              "  }\n",
              "\n",
              "  @keyframes spin {\n",
              "    0% {\n",
              "      border-color: transparent;\n",
              "      border-bottom-color: var(--fill-color);\n",
              "      border-left-color: var(--fill-color);\n",
              "    }\n",
              "    20% {\n",
              "      border-color: transparent;\n",
              "      border-left-color: var(--fill-color);\n",
              "      border-top-color: var(--fill-color);\n",
              "    }\n",
              "    30% {\n",
              "      border-color: transparent;\n",
              "      border-left-color: var(--fill-color);\n",
              "      border-top-color: var(--fill-color);\n",
              "      border-right-color: var(--fill-color);\n",
              "    }\n",
              "    40% {\n",
              "      border-color: transparent;\n",
              "      border-right-color: var(--fill-color);\n",
              "      border-top-color: var(--fill-color);\n",
              "    }\n",
              "    60% {\n",
              "      border-color: transparent;\n",
              "      border-right-color: var(--fill-color);\n",
              "    }\n",
              "    80% {\n",
              "      border-color: transparent;\n",
              "      border-right-color: var(--fill-color);\n",
              "      border-bottom-color: var(--fill-color);\n",
              "    }\n",
              "    90% {\n",
              "      border-color: transparent;\n",
              "      border-bottom-color: var(--fill-color);\n",
              "    }\n",
              "  }\n",
              "</style>\n",
              "\n",
              "  <script>\n",
              "    async function quickchart(key) {\n",
              "      const quickchartButtonEl =\n",
              "        document.querySelector('#' + key + ' button');\n",
              "      quickchartButtonEl.disabled = true;  // To prevent multiple clicks.\n",
              "      quickchartButtonEl.classList.add('colab-df-spinner');\n",
              "      try {\n",
              "        const charts = await google.colab.kernel.invokeFunction(\n",
              "            'suggestCharts', [key], {});\n",
              "      } catch (error) {\n",
              "        console.error('Error during call to suggestCharts:', error);\n",
              "      }\n",
              "      quickchartButtonEl.classList.remove('colab-df-spinner');\n",
              "      quickchartButtonEl.classList.add('colab-df-quickchart-complete');\n",
              "    }\n",
              "    (() => {\n",
              "      let quickchartButtonEl =\n",
              "        document.querySelector('#df-83351637-11d5-4987-b58f-2ba8e8af69c7 button');\n",
              "      quickchartButtonEl.style.display =\n",
              "        google.colab.kernel.accessAllowed ? 'block' : 'none';\n",
              "    })();\n",
              "  </script>\n",
              "</div>\n",
              "\n",
              "    </div>\n",
              "  </div>\n"
            ],
            "application/vnd.google.colaboratory.intrinsic+json": {
              "type": "dataframe",
              "variable_name": "prop",
              "summary": "{\n  \"name\": \"prop\",\n  \"rows\": 3052,\n  \"fields\": [\n    {\n      \"column\": \"Unnamed: 0\",\n      \"properties\": {\n        \"dtype\": \"number\",\n        \"std\": 906,\n        \"min\": 0,\n        \"max\": 3151,\n        \"num_unique_values\": 3052,\n        \"samples\": [\n          270,\n          544,\n          1240\n        ],\n        \"semantic_type\": \"\",\n        \"description\": \"\"\n      }\n    },\n    {\n      \"column\": \"region\",\n      \"properties\": {\n        \"dtype\": \"category\",\n        \"num_unique_values\": 10,\n        \"samples\": [\n          \"WIN\",\n          \"PC\",\n          \"YR\"\n        ],\n        \"semantic_type\": \"\",\n        \"description\": \"\"\n      }\n    },\n    {\n      \"column\": \"prev_rfs\",\n      \"properties\": {\n        \"dtype\": \"category\",\n        \"num_unique_values\": 3,\n        \"samples\": [\n          \"Yes\",\n          \"No\",\n          \"-\"\n        ],\n        \"semantic_type\": \"\",\n        \"description\": \"\"\n      }\n    },\n    {\n      \"column\": \"reminder\",\n      \"properties\": {\n        \"dtype\": \"category\",\n        \"num_unique_values\": 3,\n        \"samples\": [\n          \"No\",\n          \"Yes\",\n          \"-\"\n        ],\n        \"semantic_type\": \"\",\n        \"description\": \"\"\n      }\n    },\n    {\n      \"column\": \"fee_probable\",\n      \"properties\": {\n        \"dtype\": \"number\",\n        \"std\": 37277.18569455055,\n        \"min\": 175.0,\n        \"max\": 651000.0,\n        \"num_unique_values\": 811,\n        \"samples\": [\n          59662.0,\n          4800.0,\n          900.0\n        ],\n        \"semantic_type\": \"\",\n        \"description\": \"\"\n      }\n    },\n    {\n      \"column\": \"outcome\",\n      \"properties\": {\n        \"dtype\": \"number\",\n        \"std\": 0,\n        \"min\": 0,\n        \"max\": 1,\n        \"num_unique_values\": 2,\n        \"samples\": [\n          0,\n          1\n        ],\n        \"semantic_type\": \"\",\n        \"description\": \"\"\n      }\n    },\n    {\n      \"column\": \"project_type\",\n      \"properties\": {\n        \"dtype\": \"category\",\n        \"num_unique_values\": 10,\n        \"samples\": [\n          \"PCA\",\n          \"Other\"\n        ],\n        \"semantic_type\": \"\",\n        \"description\": \"\"\n      }\n    },\n    {\n      \"column\": \"building_type\",\n      \"properties\": {\n        \"dtype\": \"category\",\n        \"num_unique_values\": 7,\n        \"samples\": [\n          \"unknown\",\n          \"residential\"\n        ],\n        \"semantic_type\": \"\",\n        \"description\": \"\"\n      }\n    },\n    {\n      \"column\": \"units\",\n      \"properties\": {\n        \"dtype\": \"number\",\n        \"std\": 142.73325187002118,\n        \"min\": 1.0,\n        \"max\": 1343.0,\n        \"num_unique_values\": 341,\n        \"samples\": [\n          154.0,\n          55.0\n        ],\n        \"semantic_type\": \"\",\n        \"description\": \"\"\n      }\n    },\n    {\n      \"column\": \"sow\",\n      \"properties\": {\n        \"dtype\": \"category\",\n        \"num_unique_values\": 35,\n        \"samples\": [\n          \"PCA & ESA\",\n          \"Roofing\"\n        ],\n        \"semantic_type\": \"\",\n        \"description\": \"\"\n      }\n    }\n  ]\n}"
            }
          },
          "metadata": {},
          "execution_count": 725
        }
      ]
    },
    {
      "cell_type": "markdown",
      "source": [
        "# **Classifier: outcome**"
      ],
      "metadata": {
        "id": "ia8rx1RF7Nx8"
      }
    },
    {
      "cell_type": "markdown",
      "source": [
        "outcome is the the final classification that we will be looking to predict for both the RFS and ALL models. This column has already been cleaned, but lets take a look again just to make sure it is good to go from a modelling perspective"
      ],
      "metadata": {
        "id": "Wx7_4O0U7VJZ"
      }
    },
    {
      "cell_type": "code",
      "source": [
        "prop['outcome'].value_counts(dropna=False)"
      ],
      "metadata": {
        "colab": {
          "base_uri": "https://localhost:8080/",
          "height": 216
        },
        "id": "cqsasTvw7jMt",
        "outputId": "0daafc5a-4a4d-4903-ab3b-fc570bdf4a24"
      },
      "execution_count": null,
      "outputs": [
        {
          "output_type": "execute_result",
          "data": {
            "text/plain": [
              "outcome\n",
              "1    1553\n",
              "0    1499\n",
              "Name: count, dtype: int64"
            ],
            "text/html": [
              "<div>\n",
              "<style scoped>\n",
              "    .dataframe tbody tr th:only-of-type {\n",
              "        vertical-align: middle;\n",
              "    }\n",
              "\n",
              "    .dataframe tbody tr th {\n",
              "        vertical-align: top;\n",
              "    }\n",
              "\n",
              "    .dataframe thead th {\n",
              "        text-align: right;\n",
              "    }\n",
              "</style>\n",
              "<table border=\"1\" class=\"dataframe\">\n",
              "  <thead>\n",
              "    <tr style=\"text-align: right;\">\n",
              "      <th></th>\n",
              "      <th>count</th>\n",
              "    </tr>\n",
              "    <tr>\n",
              "      <th>outcome</th>\n",
              "      <th></th>\n",
              "    </tr>\n",
              "  </thead>\n",
              "  <tbody>\n",
              "    <tr>\n",
              "      <th>1</th>\n",
              "      <td>1553</td>\n",
              "    </tr>\n",
              "    <tr>\n",
              "      <th>0</th>\n",
              "      <td>1499</td>\n",
              "    </tr>\n",
              "  </tbody>\n",
              "</table>\n",
              "</div><br><label><b>dtype:</b> int64</label>"
            ]
          },
          "metadata": {},
          "execution_count": 726
        }
      ]
    },
    {
      "cell_type": "markdown",
      "source": [
        "Confirmed that there are no nulls in this column and everything is classified as 0 for loss or 1 for win"
      ],
      "metadata": {
        "id": "RP4tal3R8Y59"
      }
    },
    {
      "cell_type": "markdown",
      "source": [
        "# **Non-RFS Model Feature Prep**"
      ],
      "metadata": {
        "id": "XUNo5qKK8gcu"
      }
    },
    {
      "cell_type": "markdown",
      "source": [
        "This model will be applied across all project types, excluding RFS"
      ],
      "metadata": {
        "id": "Ckw7tShwBRoi"
      }
    },
    {
      "cell_type": "markdown",
      "source": [
        "There were only three columns that were identified as usable for All projects types:\n",
        "*   region\n",
        "*   fee_probable\n",
        "*   project_type **OR**\n",
        "*   sow\n",
        "\n",
        "The project_type vs sow choice will be made when we look at collinearity\n",
        "\n",
        "\n",
        "\n",
        "\n",
        "\n",
        "\n",
        "\n",
        "\n",
        "\n",
        "\n",
        "\n",
        "\n"
      ],
      "metadata": {
        "id": "dK48BSWv8pSE"
      }
    },
    {
      "cell_type": "code",
      "source": [
        "#project_type and sow\n",
        "all = prop[['region', 'fee_probable', 'project_type', 'outcome', 'sow']]\n",
        "\n",
        "#remove RFS projects\n",
        "all = all[all['project_type'] != 'RFS']"
      ],
      "metadata": {
        "id": "IRoED56tBQ9O"
      },
      "execution_count": null,
      "outputs": []
    },
    {
      "cell_type": "code",
      "source": [
        "all.info()"
      ],
      "metadata": {
        "colab": {
          "base_uri": "https://localhost:8080/"
        },
        "id": "Ba-cV6YgB3K5",
        "outputId": "3a846ec5-6810-4eb9-8ec7-3a918b24d5c5"
      },
      "execution_count": null,
      "outputs": [
        {
          "output_type": "stream",
          "name": "stdout",
          "text": [
            "<class 'pandas.core.frame.DataFrame'>\n",
            "Index: 1682 entries, 8 to 3151\n",
            "Data columns (total 5 columns):\n",
            " #   Column        Non-Null Count  Dtype  \n",
            "---  ------        --------------  -----  \n",
            " 0   region        1682 non-null   object \n",
            " 1   fee_probable  1682 non-null   float64\n",
            " 2   project_type  1682 non-null   object \n",
            " 3   outcome       1682 non-null   int64  \n",
            " 4   sow           1682 non-null   object \n",
            "dtypes: float64(1), int64(1), object(3)\n",
            "memory usage: 78.8+ KB\n"
          ]
        }
      ]
    },
    {
      "cell_type": "code",
      "source": [
        "all.head()"
      ],
      "metadata": {
        "colab": {
          "base_uri": "https://localhost:8080/",
          "height": 588
        },
        "id": "b9cRP33b9DFj",
        "outputId": "9f8a7d88-bc5a-429a-9370-38026a2e7579"
      },
      "execution_count": null,
      "outputs": [
        {
          "output_type": "execute_result",
          "data": {
            "text/plain": [
              "             region  fee_probable project_type  outcome                 sow\n",
              "Unnamed: 0                                                                 \n",
              "8                EO        8190.0        Other        0        PA1, C1, PA2\n",
              "31          Unknown        1890.0        Other        0  C2 RFS with C3 Fee\n",
              "32          Unknown        1920.0        Other        0  C2 RFS with C3 Fee\n",
              "33          Unknown        1770.0        Other        0  C2 RFS with C3 Fee\n",
              "34               EO        2360.0        Other        0  C2 RFS with C3 Fee"
            ],
            "text/html": [
              "\n",
              "  <div id=\"df-7a28a59d-061c-4d08-a527-9fb169440a8c\" class=\"colab-df-container\">\n",
              "    <div>\n",
              "<style scoped>\n",
              "    .dataframe tbody tr th:only-of-type {\n",
              "        vertical-align: middle;\n",
              "    }\n",
              "\n",
              "    .dataframe tbody tr th {\n",
              "        vertical-align: top;\n",
              "    }\n",
              "\n",
              "    .dataframe thead th {\n",
              "        text-align: right;\n",
              "    }\n",
              "</style>\n",
              "<table border=\"1\" class=\"dataframe\">\n",
              "  <thead>\n",
              "    <tr style=\"text-align: right;\">\n",
              "      <th></th>\n",
              "      <th>region</th>\n",
              "      <th>fee_probable</th>\n",
              "      <th>project_type</th>\n",
              "      <th>outcome</th>\n",
              "      <th>sow</th>\n",
              "    </tr>\n",
              "    <tr>\n",
              "      <th>Unnamed: 0</th>\n",
              "      <th></th>\n",
              "      <th></th>\n",
              "      <th></th>\n",
              "      <th></th>\n",
              "      <th></th>\n",
              "    </tr>\n",
              "  </thead>\n",
              "  <tbody>\n",
              "    <tr>\n",
              "      <th>8</th>\n",
              "      <td>EO</td>\n",
              "      <td>8190.0</td>\n",
              "      <td>Other</td>\n",
              "      <td>0</td>\n",
              "      <td>PA1, C1, PA2</td>\n",
              "    </tr>\n",
              "    <tr>\n",
              "      <th>31</th>\n",
              "      <td>Unknown</td>\n",
              "      <td>1890.0</td>\n",
              "      <td>Other</td>\n",
              "      <td>0</td>\n",
              "      <td>C2 RFS with C3 Fee</td>\n",
              "    </tr>\n",
              "    <tr>\n",
              "      <th>32</th>\n",
              "      <td>Unknown</td>\n",
              "      <td>1920.0</td>\n",
              "      <td>Other</td>\n",
              "      <td>0</td>\n",
              "      <td>C2 RFS with C3 Fee</td>\n",
              "    </tr>\n",
              "    <tr>\n",
              "      <th>33</th>\n",
              "      <td>Unknown</td>\n",
              "      <td>1770.0</td>\n",
              "      <td>Other</td>\n",
              "      <td>0</td>\n",
              "      <td>C2 RFS with C3 Fee</td>\n",
              "    </tr>\n",
              "    <tr>\n",
              "      <th>34</th>\n",
              "      <td>EO</td>\n",
              "      <td>2360.0</td>\n",
              "      <td>Other</td>\n",
              "      <td>0</td>\n",
              "      <td>C2 RFS with C3 Fee</td>\n",
              "    </tr>\n",
              "  </tbody>\n",
              "</table>\n",
              "</div>\n",
              "    <div class=\"colab-df-buttons\">\n",
              "\n",
              "  <div class=\"colab-df-container\">\n",
              "    <button class=\"colab-df-convert\" onclick=\"convertToInteractive('df-7a28a59d-061c-4d08-a527-9fb169440a8c')\"\n",
              "            title=\"Convert this dataframe to an interactive table.\"\n",
              "            style=\"display:none;\">\n",
              "\n",
              "  <svg xmlns=\"http://www.w3.org/2000/svg\" height=\"24px\" viewBox=\"0 -960 960 960\">\n",
              "    <path d=\"M120-120v-720h720v720H120Zm60-500h600v-160H180v160Zm220 220h160v-160H400v160Zm0 220h160v-160H400v160ZM180-400h160v-160H180v160Zm440 0h160v-160H620v160ZM180-180h160v-160H180v160Zm440 0h160v-160H620v160Z\"/>\n",
              "  </svg>\n",
              "    </button>\n",
              "\n",
              "  <style>\n",
              "    .colab-df-container {\n",
              "      display:flex;\n",
              "      gap: 12px;\n",
              "    }\n",
              "\n",
              "    .colab-df-convert {\n",
              "      background-color: #E8F0FE;\n",
              "      border: none;\n",
              "      border-radius: 50%;\n",
              "      cursor: pointer;\n",
              "      display: none;\n",
              "      fill: #1967D2;\n",
              "      height: 32px;\n",
              "      padding: 0 0 0 0;\n",
              "      width: 32px;\n",
              "    }\n",
              "\n",
              "    .colab-df-convert:hover {\n",
              "      background-color: #E2EBFA;\n",
              "      box-shadow: 0px 1px 2px rgba(60, 64, 67, 0.3), 0px 1px 3px 1px rgba(60, 64, 67, 0.15);\n",
              "      fill: #174EA6;\n",
              "    }\n",
              "\n",
              "    .colab-df-buttons div {\n",
              "      margin-bottom: 4px;\n",
              "    }\n",
              "\n",
              "    [theme=dark] .colab-df-convert {\n",
              "      background-color: #3B4455;\n",
              "      fill: #D2E3FC;\n",
              "    }\n",
              "\n",
              "    [theme=dark] .colab-df-convert:hover {\n",
              "      background-color: #434B5C;\n",
              "      box-shadow: 0px 1px 3px 1px rgba(0, 0, 0, 0.15);\n",
              "      filter: drop-shadow(0px 1px 2px rgba(0, 0, 0, 0.3));\n",
              "      fill: #FFFFFF;\n",
              "    }\n",
              "  </style>\n",
              "\n",
              "    <script>\n",
              "      const buttonEl =\n",
              "        document.querySelector('#df-7a28a59d-061c-4d08-a527-9fb169440a8c button.colab-df-convert');\n",
              "      buttonEl.style.display =\n",
              "        google.colab.kernel.accessAllowed ? 'block' : 'none';\n",
              "\n",
              "      async function convertToInteractive(key) {\n",
              "        const element = document.querySelector('#df-7a28a59d-061c-4d08-a527-9fb169440a8c');\n",
              "        const dataTable =\n",
              "          await google.colab.kernel.invokeFunction('convertToInteractive',\n",
              "                                                    [key], {});\n",
              "        if (!dataTable) return;\n",
              "\n",
              "        const docLinkHtml = 'Like what you see? Visit the ' +\n",
              "          '<a target=\"_blank\" href=https://colab.research.google.com/notebooks/data_table.ipynb>data table notebook</a>'\n",
              "          + ' to learn more about interactive tables.';\n",
              "        element.innerHTML = '';\n",
              "        dataTable['output_type'] = 'display_data';\n",
              "        await google.colab.output.renderOutput(dataTable, element);\n",
              "        const docLink = document.createElement('div');\n",
              "        docLink.innerHTML = docLinkHtml;\n",
              "        element.appendChild(docLink);\n",
              "      }\n",
              "    </script>\n",
              "  </div>\n",
              "\n",
              "\n",
              "<div id=\"df-23a984ba-745c-41f4-99a5-fa61e3621b08\">\n",
              "  <button class=\"colab-df-quickchart\" onclick=\"quickchart('df-23a984ba-745c-41f4-99a5-fa61e3621b08')\"\n",
              "            title=\"Suggest charts\"\n",
              "            style=\"display:none;\">\n",
              "\n",
              "<svg xmlns=\"http://www.w3.org/2000/svg\" height=\"24px\"viewBox=\"0 0 24 24\"\n",
              "     width=\"24px\">\n",
              "    <g>\n",
              "        <path d=\"M19 3H5c-1.1 0-2 .9-2 2v14c0 1.1.9 2 2 2h14c1.1 0 2-.9 2-2V5c0-1.1-.9-2-2-2zM9 17H7v-7h2v7zm4 0h-2V7h2v10zm4 0h-2v-4h2v4z\"/>\n",
              "    </g>\n",
              "</svg>\n",
              "  </button>\n",
              "\n",
              "<style>\n",
              "  .colab-df-quickchart {\n",
              "      --bg-color: #E8F0FE;\n",
              "      --fill-color: #1967D2;\n",
              "      --hover-bg-color: #E2EBFA;\n",
              "      --hover-fill-color: #174EA6;\n",
              "      --disabled-fill-color: #AAA;\n",
              "      --disabled-bg-color: #DDD;\n",
              "  }\n",
              "\n",
              "  [theme=dark] .colab-df-quickchart {\n",
              "      --bg-color: #3B4455;\n",
              "      --fill-color: #D2E3FC;\n",
              "      --hover-bg-color: #434B5C;\n",
              "      --hover-fill-color: #FFFFFF;\n",
              "      --disabled-bg-color: #3B4455;\n",
              "      --disabled-fill-color: #666;\n",
              "  }\n",
              "\n",
              "  .colab-df-quickchart {\n",
              "    background-color: var(--bg-color);\n",
              "    border: none;\n",
              "    border-radius: 50%;\n",
              "    cursor: pointer;\n",
              "    display: none;\n",
              "    fill: var(--fill-color);\n",
              "    height: 32px;\n",
              "    padding: 0;\n",
              "    width: 32px;\n",
              "  }\n",
              "\n",
              "  .colab-df-quickchart:hover {\n",
              "    background-color: var(--hover-bg-color);\n",
              "    box-shadow: 0 1px 2px rgba(60, 64, 67, 0.3), 0 1px 3px 1px rgba(60, 64, 67, 0.15);\n",
              "    fill: var(--button-hover-fill-color);\n",
              "  }\n",
              "\n",
              "  .colab-df-quickchart-complete:disabled,\n",
              "  .colab-df-quickchart-complete:disabled:hover {\n",
              "    background-color: var(--disabled-bg-color);\n",
              "    fill: var(--disabled-fill-color);\n",
              "    box-shadow: none;\n",
              "  }\n",
              "\n",
              "  .colab-df-spinner {\n",
              "    border: 2px solid var(--fill-color);\n",
              "    border-color: transparent;\n",
              "    border-bottom-color: var(--fill-color);\n",
              "    animation:\n",
              "      spin 1s steps(1) infinite;\n",
              "  }\n",
              "\n",
              "  @keyframes spin {\n",
              "    0% {\n",
              "      border-color: transparent;\n",
              "      border-bottom-color: var(--fill-color);\n",
              "      border-left-color: var(--fill-color);\n",
              "    }\n",
              "    20% {\n",
              "      border-color: transparent;\n",
              "      border-left-color: var(--fill-color);\n",
              "      border-top-color: var(--fill-color);\n",
              "    }\n",
              "    30% {\n",
              "      border-color: transparent;\n",
              "      border-left-color: var(--fill-color);\n",
              "      border-top-color: var(--fill-color);\n",
              "      border-right-color: var(--fill-color);\n",
              "    }\n",
              "    40% {\n",
              "      border-color: transparent;\n",
              "      border-right-color: var(--fill-color);\n",
              "      border-top-color: var(--fill-color);\n",
              "    }\n",
              "    60% {\n",
              "      border-color: transparent;\n",
              "      border-right-color: var(--fill-color);\n",
              "    }\n",
              "    80% {\n",
              "      border-color: transparent;\n",
              "      border-right-color: var(--fill-color);\n",
              "      border-bottom-color: var(--fill-color);\n",
              "    }\n",
              "    90% {\n",
              "      border-color: transparent;\n",
              "      border-bottom-color: var(--fill-color);\n",
              "    }\n",
              "  }\n",
              "</style>\n",
              "\n",
              "  <script>\n",
              "    async function quickchart(key) {\n",
              "      const quickchartButtonEl =\n",
              "        document.querySelector('#' + key + ' button');\n",
              "      quickchartButtonEl.disabled = true;  // To prevent multiple clicks.\n",
              "      quickchartButtonEl.classList.add('colab-df-spinner');\n",
              "      try {\n",
              "        const charts = await google.colab.kernel.invokeFunction(\n",
              "            'suggestCharts', [key], {});\n",
              "      } catch (error) {\n",
              "        console.error('Error during call to suggestCharts:', error);\n",
              "      }\n",
              "      quickchartButtonEl.classList.remove('colab-df-spinner');\n",
              "      quickchartButtonEl.classList.add('colab-df-quickchart-complete');\n",
              "    }\n",
              "    (() => {\n",
              "      let quickchartButtonEl =\n",
              "        document.querySelector('#df-23a984ba-745c-41f4-99a5-fa61e3621b08 button');\n",
              "      quickchartButtonEl.style.display =\n",
              "        google.colab.kernel.accessAllowed ? 'block' : 'none';\n",
              "    })();\n",
              "  </script>\n",
              "</div>\n",
              "\n",
              "    </div>\n",
              "  </div>\n"
            ],
            "application/vnd.google.colaboratory.intrinsic+json": {
              "type": "dataframe",
              "variable_name": "all",
              "summary": "{\n  \"name\": \"all\",\n  \"rows\": 1682,\n  \"fields\": [\n    {\n      \"column\": \"Unnamed: 0\",\n      \"properties\": {\n        \"dtype\": \"number\",\n        \"std\": 794,\n        \"min\": 8,\n        \"max\": 3151,\n        \"num_unique_values\": 1682,\n        \"samples\": [\n          2664,\n          1617,\n          3023\n        ],\n        \"semantic_type\": \"\",\n        \"description\": \"\"\n      }\n    },\n    {\n      \"column\": \"region\",\n      \"properties\": {\n        \"dtype\": \"category\",\n        \"num_unique_values\": 10,\n        \"samples\": [\n          \"LON\",\n          \"Unknown\",\n          \"PC\"\n        ],\n        \"semantic_type\": \"\",\n        \"description\": \"\"\n      }\n    },\n    {\n      \"column\": \"fee_probable\",\n      \"properties\": {\n        \"dtype\": \"number\",\n        \"std\": 49242.396321327506,\n        \"min\": 175.0,\n        \"max\": 651000.0,\n        \"num_unique_values\": 763,\n        \"samples\": [\n          6485.0,\n          3100.0,\n          14500.0\n        ],\n        \"semantic_type\": \"\",\n        \"description\": \"\"\n      }\n    },\n    {\n      \"column\": \"project_type\",\n      \"properties\": {\n        \"dtype\": \"category\",\n        \"num_unique_values\": 9,\n        \"samples\": [\n          \"PCA\",\n          \"PA & Class 1 RFS\",\n          \"Garage\"\n        ],\n        \"semantic_type\": \"\",\n        \"description\": \"\"\n      }\n    },\n    {\n      \"column\": \"outcome\",\n      \"properties\": {\n        \"dtype\": \"number\",\n        \"std\": 0,\n        \"min\": 0,\n        \"max\": 1,\n        \"num_unique_values\": 2,\n        \"samples\": [\n          1,\n          0\n        ],\n        \"semantic_type\": \"\",\n        \"description\": \"\"\n      }\n    },\n    {\n      \"column\": \"sow\",\n      \"properties\": {\n        \"dtype\": \"category\",\n        \"num_unique_values\": 31,\n        \"samples\": [\n          \"Accessibility Audit\",\n          \"Pavement\"\n        ],\n        \"semantic_type\": \"\",\n        \"description\": \"\"\n      }\n    }\n  ]\n}"
            }
          },
          "metadata": {},
          "execution_count": 729
        }
      ]
    },
    {
      "cell_type": "code",
      "source": [
        "all = all.reset_index(drop=True)"
      ],
      "metadata": {
        "id": "tMQMDtkYBSov"
      },
      "execution_count": null,
      "outputs": []
    },
    {
      "cell_type": "code",
      "source": [
        "all.info()"
      ],
      "metadata": {
        "colab": {
          "base_uri": "https://localhost:8080/"
        },
        "id": "AgSa7hD9Bk1P",
        "outputId": "001c2371-d0c7-4eb5-e749-042549ec20e7"
      },
      "execution_count": null,
      "outputs": [
        {
          "output_type": "stream",
          "name": "stdout",
          "text": [
            "<class 'pandas.core.frame.DataFrame'>\n",
            "RangeIndex: 1682 entries, 0 to 1681\n",
            "Data columns (total 5 columns):\n",
            " #   Column        Non-Null Count  Dtype  \n",
            "---  ------        --------------  -----  \n",
            " 0   region        1682 non-null   object \n",
            " 1   fee_probable  1682 non-null   float64\n",
            " 2   project_type  1682 non-null   object \n",
            " 3   outcome       1682 non-null   int64  \n",
            " 4   sow           1682 non-null   object \n",
            "dtypes: float64(1), int64(1), object(3)\n",
            "memory usage: 65.8+ KB\n"
          ]
        }
      ]
    },
    {
      "cell_type": "markdown",
      "source": [
        "**project_type**"
      ],
      "metadata": {
        "id": "x_0M2HdPBtCN"
      }
    },
    {
      "cell_type": "code",
      "source": [
        "all['project_type'].value_counts(dropna=False)"
      ],
      "metadata": {
        "colab": {
          "base_uri": "https://localhost:8080/",
          "height": 453
        },
        "id": "G7FO8XoLCDeP",
        "outputId": "b01836be-dcdb-456f-aa93-73add2ed3d43"
      },
      "execution_count": null,
      "outputs": [
        {
          "output_type": "execute_result",
          "data": {
            "text/plain": [
              "project_type\n",
              "BCA                 291\n",
              "Consult             285\n",
              "PCA                 268\n",
              "Envelope            204\n",
              "Other               179\n",
              "Roofing             153\n",
              "Mechanical          116\n",
              "Garage               98\n",
              "PA & Class 1 RFS     88\n",
              "Name: count, dtype: int64"
            ],
            "text/html": [
              "<div>\n",
              "<style scoped>\n",
              "    .dataframe tbody tr th:only-of-type {\n",
              "        vertical-align: middle;\n",
              "    }\n",
              "\n",
              "    .dataframe tbody tr th {\n",
              "        vertical-align: top;\n",
              "    }\n",
              "\n",
              "    .dataframe thead th {\n",
              "        text-align: right;\n",
              "    }\n",
              "</style>\n",
              "<table border=\"1\" class=\"dataframe\">\n",
              "  <thead>\n",
              "    <tr style=\"text-align: right;\">\n",
              "      <th></th>\n",
              "      <th>count</th>\n",
              "    </tr>\n",
              "    <tr>\n",
              "      <th>project_type</th>\n",
              "      <th></th>\n",
              "    </tr>\n",
              "  </thead>\n",
              "  <tbody>\n",
              "    <tr>\n",
              "      <th>BCA</th>\n",
              "      <td>291</td>\n",
              "    </tr>\n",
              "    <tr>\n",
              "      <th>Consult</th>\n",
              "      <td>285</td>\n",
              "    </tr>\n",
              "    <tr>\n",
              "      <th>PCA</th>\n",
              "      <td>268</td>\n",
              "    </tr>\n",
              "    <tr>\n",
              "      <th>Envelope</th>\n",
              "      <td>204</td>\n",
              "    </tr>\n",
              "    <tr>\n",
              "      <th>Other</th>\n",
              "      <td>179</td>\n",
              "    </tr>\n",
              "    <tr>\n",
              "      <th>Roofing</th>\n",
              "      <td>153</td>\n",
              "    </tr>\n",
              "    <tr>\n",
              "      <th>Mechanical</th>\n",
              "      <td>116</td>\n",
              "    </tr>\n",
              "    <tr>\n",
              "      <th>Garage</th>\n",
              "      <td>98</td>\n",
              "    </tr>\n",
              "    <tr>\n",
              "      <th>PA &amp; Class 1 RFS</th>\n",
              "      <td>88</td>\n",
              "    </tr>\n",
              "  </tbody>\n",
              "</table>\n",
              "</div><br><label><b>dtype:</b> int64</label>"
            ]
          },
          "metadata": {},
          "execution_count": 732
        }
      ]
    },
    {
      "cell_type": "markdown",
      "source": [
        "During EDA, project_type was found to have impact, but it was also found to be perhaps a bit too high-level. We will be evaluating whether the project_types can be better grouped using the sow column. To this end, we'll start with one-hot encoding both project_type and sow and will revisit this later"
      ],
      "metadata": {
        "id": "gAOrN_hABxFq"
      }
    },
    {
      "cell_type": "code",
      "source": [
        "all = pd.get_dummies(all, columns=['project_type'], prefix = 'project_type')"
      ],
      "metadata": {
        "id": "iiGIimwObTgk"
      },
      "execution_count": null,
      "outputs": []
    },
    {
      "cell_type": "code",
      "source": [
        "all.head()"
      ],
      "metadata": {
        "colab": {
          "base_uri": "https://localhost:8080/",
          "height": 556
        },
        "id": "tlqW2D2ubeNM",
        "outputId": "4ac0371c-0401-427e-b206-e61d1872d8ed"
      },
      "execution_count": null,
      "outputs": [
        {
          "output_type": "execute_result",
          "data": {
            "text/plain": [
              "    region  fee_probable  outcome                 sow  project_type_BCA  \\\n",
              "0       EO        8190.0        0        PA1, C1, PA2             False   \n",
              "1  Unknown        1890.0        0  C2 RFS with C3 Fee             False   \n",
              "2  Unknown        1920.0        0  C2 RFS with C3 Fee             False   \n",
              "3  Unknown        1770.0        0  C2 RFS with C3 Fee             False   \n",
              "4       EO        2360.0        0  C2 RFS with C3 Fee             False   \n",
              "\n",
              "   project_type_Consult  project_type_Envelope  project_type_Garage  \\\n",
              "0                 False                  False                False   \n",
              "1                 False                  False                False   \n",
              "2                 False                  False                False   \n",
              "3                 False                  False                False   \n",
              "4                 False                  False                False   \n",
              "\n",
              "   project_type_Mechanical  project_type_Other  project_type_PA & Class 1 RFS  \\\n",
              "0                    False                True                          False   \n",
              "1                    False                True                          False   \n",
              "2                    False                True                          False   \n",
              "3                    False                True                          False   \n",
              "4                    False                True                          False   \n",
              "\n",
              "   project_type_PCA  project_type_Roofing  \n",
              "0             False                 False  \n",
              "1             False                 False  \n",
              "2             False                 False  \n",
              "3             False                 False  \n",
              "4             False                 False  "
            ],
            "text/html": [
              "\n",
              "  <div id=\"df-7d010657-3b4a-4e97-9bb7-cdf3a90ae0fb\" class=\"colab-df-container\">\n",
              "    <div>\n",
              "<style scoped>\n",
              "    .dataframe tbody tr th:only-of-type {\n",
              "        vertical-align: middle;\n",
              "    }\n",
              "\n",
              "    .dataframe tbody tr th {\n",
              "        vertical-align: top;\n",
              "    }\n",
              "\n",
              "    .dataframe thead th {\n",
              "        text-align: right;\n",
              "    }\n",
              "</style>\n",
              "<table border=\"1\" class=\"dataframe\">\n",
              "  <thead>\n",
              "    <tr style=\"text-align: right;\">\n",
              "      <th></th>\n",
              "      <th>region</th>\n",
              "      <th>fee_probable</th>\n",
              "      <th>outcome</th>\n",
              "      <th>sow</th>\n",
              "      <th>project_type_BCA</th>\n",
              "      <th>project_type_Consult</th>\n",
              "      <th>project_type_Envelope</th>\n",
              "      <th>project_type_Garage</th>\n",
              "      <th>project_type_Mechanical</th>\n",
              "      <th>project_type_Other</th>\n",
              "      <th>project_type_PA &amp; Class 1 RFS</th>\n",
              "      <th>project_type_PCA</th>\n",
              "      <th>project_type_Roofing</th>\n",
              "    </tr>\n",
              "  </thead>\n",
              "  <tbody>\n",
              "    <tr>\n",
              "      <th>0</th>\n",
              "      <td>EO</td>\n",
              "      <td>8190.0</td>\n",
              "      <td>0</td>\n",
              "      <td>PA1, C1, PA2</td>\n",
              "      <td>False</td>\n",
              "      <td>False</td>\n",
              "      <td>False</td>\n",
              "      <td>False</td>\n",
              "      <td>False</td>\n",
              "      <td>True</td>\n",
              "      <td>False</td>\n",
              "      <td>False</td>\n",
              "      <td>False</td>\n",
              "    </tr>\n",
              "    <tr>\n",
              "      <th>1</th>\n",
              "      <td>Unknown</td>\n",
              "      <td>1890.0</td>\n",
              "      <td>0</td>\n",
              "      <td>C2 RFS with C3 Fee</td>\n",
              "      <td>False</td>\n",
              "      <td>False</td>\n",
              "      <td>False</td>\n",
              "      <td>False</td>\n",
              "      <td>False</td>\n",
              "      <td>True</td>\n",
              "      <td>False</td>\n",
              "      <td>False</td>\n",
              "      <td>False</td>\n",
              "    </tr>\n",
              "    <tr>\n",
              "      <th>2</th>\n",
              "      <td>Unknown</td>\n",
              "      <td>1920.0</td>\n",
              "      <td>0</td>\n",
              "      <td>C2 RFS with C3 Fee</td>\n",
              "      <td>False</td>\n",
              "      <td>False</td>\n",
              "      <td>False</td>\n",
              "      <td>False</td>\n",
              "      <td>False</td>\n",
              "      <td>True</td>\n",
              "      <td>False</td>\n",
              "      <td>False</td>\n",
              "      <td>False</td>\n",
              "    </tr>\n",
              "    <tr>\n",
              "      <th>3</th>\n",
              "      <td>Unknown</td>\n",
              "      <td>1770.0</td>\n",
              "      <td>0</td>\n",
              "      <td>C2 RFS with C3 Fee</td>\n",
              "      <td>False</td>\n",
              "      <td>False</td>\n",
              "      <td>False</td>\n",
              "      <td>False</td>\n",
              "      <td>False</td>\n",
              "      <td>True</td>\n",
              "      <td>False</td>\n",
              "      <td>False</td>\n",
              "      <td>False</td>\n",
              "    </tr>\n",
              "    <tr>\n",
              "      <th>4</th>\n",
              "      <td>EO</td>\n",
              "      <td>2360.0</td>\n",
              "      <td>0</td>\n",
              "      <td>C2 RFS with C3 Fee</td>\n",
              "      <td>False</td>\n",
              "      <td>False</td>\n",
              "      <td>False</td>\n",
              "      <td>False</td>\n",
              "      <td>False</td>\n",
              "      <td>True</td>\n",
              "      <td>False</td>\n",
              "      <td>False</td>\n",
              "      <td>False</td>\n",
              "    </tr>\n",
              "  </tbody>\n",
              "</table>\n",
              "</div>\n",
              "    <div class=\"colab-df-buttons\">\n",
              "\n",
              "  <div class=\"colab-df-container\">\n",
              "    <button class=\"colab-df-convert\" onclick=\"convertToInteractive('df-7d010657-3b4a-4e97-9bb7-cdf3a90ae0fb')\"\n",
              "            title=\"Convert this dataframe to an interactive table.\"\n",
              "            style=\"display:none;\">\n",
              "\n",
              "  <svg xmlns=\"http://www.w3.org/2000/svg\" height=\"24px\" viewBox=\"0 -960 960 960\">\n",
              "    <path d=\"M120-120v-720h720v720H120Zm60-500h600v-160H180v160Zm220 220h160v-160H400v160Zm0 220h160v-160H400v160ZM180-400h160v-160H180v160Zm440 0h160v-160H620v160ZM180-180h160v-160H180v160Zm440 0h160v-160H620v160Z\"/>\n",
              "  </svg>\n",
              "    </button>\n",
              "\n",
              "  <style>\n",
              "    .colab-df-container {\n",
              "      display:flex;\n",
              "      gap: 12px;\n",
              "    }\n",
              "\n",
              "    .colab-df-convert {\n",
              "      background-color: #E8F0FE;\n",
              "      border: none;\n",
              "      border-radius: 50%;\n",
              "      cursor: pointer;\n",
              "      display: none;\n",
              "      fill: #1967D2;\n",
              "      height: 32px;\n",
              "      padding: 0 0 0 0;\n",
              "      width: 32px;\n",
              "    }\n",
              "\n",
              "    .colab-df-convert:hover {\n",
              "      background-color: #E2EBFA;\n",
              "      box-shadow: 0px 1px 2px rgba(60, 64, 67, 0.3), 0px 1px 3px 1px rgba(60, 64, 67, 0.15);\n",
              "      fill: #174EA6;\n",
              "    }\n",
              "\n",
              "    .colab-df-buttons div {\n",
              "      margin-bottom: 4px;\n",
              "    }\n",
              "\n",
              "    [theme=dark] .colab-df-convert {\n",
              "      background-color: #3B4455;\n",
              "      fill: #D2E3FC;\n",
              "    }\n",
              "\n",
              "    [theme=dark] .colab-df-convert:hover {\n",
              "      background-color: #434B5C;\n",
              "      box-shadow: 0px 1px 3px 1px rgba(0, 0, 0, 0.15);\n",
              "      filter: drop-shadow(0px 1px 2px rgba(0, 0, 0, 0.3));\n",
              "      fill: #FFFFFF;\n",
              "    }\n",
              "  </style>\n",
              "\n",
              "    <script>\n",
              "      const buttonEl =\n",
              "        document.querySelector('#df-7d010657-3b4a-4e97-9bb7-cdf3a90ae0fb button.colab-df-convert');\n",
              "      buttonEl.style.display =\n",
              "        google.colab.kernel.accessAllowed ? 'block' : 'none';\n",
              "\n",
              "      async function convertToInteractive(key) {\n",
              "        const element = document.querySelector('#df-7d010657-3b4a-4e97-9bb7-cdf3a90ae0fb');\n",
              "        const dataTable =\n",
              "          await google.colab.kernel.invokeFunction('convertToInteractive',\n",
              "                                                    [key], {});\n",
              "        if (!dataTable) return;\n",
              "\n",
              "        const docLinkHtml = 'Like what you see? Visit the ' +\n",
              "          '<a target=\"_blank\" href=https://colab.research.google.com/notebooks/data_table.ipynb>data table notebook</a>'\n",
              "          + ' to learn more about interactive tables.';\n",
              "        element.innerHTML = '';\n",
              "        dataTable['output_type'] = 'display_data';\n",
              "        await google.colab.output.renderOutput(dataTable, element);\n",
              "        const docLink = document.createElement('div');\n",
              "        docLink.innerHTML = docLinkHtml;\n",
              "        element.appendChild(docLink);\n",
              "      }\n",
              "    </script>\n",
              "  </div>\n",
              "\n",
              "\n",
              "<div id=\"df-b5c3003a-9bec-4f17-a535-9e9f7f5bcbf2\">\n",
              "  <button class=\"colab-df-quickchart\" onclick=\"quickchart('df-b5c3003a-9bec-4f17-a535-9e9f7f5bcbf2')\"\n",
              "            title=\"Suggest charts\"\n",
              "            style=\"display:none;\">\n",
              "\n",
              "<svg xmlns=\"http://www.w3.org/2000/svg\" height=\"24px\"viewBox=\"0 0 24 24\"\n",
              "     width=\"24px\">\n",
              "    <g>\n",
              "        <path d=\"M19 3H5c-1.1 0-2 .9-2 2v14c0 1.1.9 2 2 2h14c1.1 0 2-.9 2-2V5c0-1.1-.9-2-2-2zM9 17H7v-7h2v7zm4 0h-2V7h2v10zm4 0h-2v-4h2v4z\"/>\n",
              "    </g>\n",
              "</svg>\n",
              "  </button>\n",
              "\n",
              "<style>\n",
              "  .colab-df-quickchart {\n",
              "      --bg-color: #E8F0FE;\n",
              "      --fill-color: #1967D2;\n",
              "      --hover-bg-color: #E2EBFA;\n",
              "      --hover-fill-color: #174EA6;\n",
              "      --disabled-fill-color: #AAA;\n",
              "      --disabled-bg-color: #DDD;\n",
              "  }\n",
              "\n",
              "  [theme=dark] .colab-df-quickchart {\n",
              "      --bg-color: #3B4455;\n",
              "      --fill-color: #D2E3FC;\n",
              "      --hover-bg-color: #434B5C;\n",
              "      --hover-fill-color: #FFFFFF;\n",
              "      --disabled-bg-color: #3B4455;\n",
              "      --disabled-fill-color: #666;\n",
              "  }\n",
              "\n",
              "  .colab-df-quickchart {\n",
              "    background-color: var(--bg-color);\n",
              "    border: none;\n",
              "    border-radius: 50%;\n",
              "    cursor: pointer;\n",
              "    display: none;\n",
              "    fill: var(--fill-color);\n",
              "    height: 32px;\n",
              "    padding: 0;\n",
              "    width: 32px;\n",
              "  }\n",
              "\n",
              "  .colab-df-quickchart:hover {\n",
              "    background-color: var(--hover-bg-color);\n",
              "    box-shadow: 0 1px 2px rgba(60, 64, 67, 0.3), 0 1px 3px 1px rgba(60, 64, 67, 0.15);\n",
              "    fill: var(--button-hover-fill-color);\n",
              "  }\n",
              "\n",
              "  .colab-df-quickchart-complete:disabled,\n",
              "  .colab-df-quickchart-complete:disabled:hover {\n",
              "    background-color: var(--disabled-bg-color);\n",
              "    fill: var(--disabled-fill-color);\n",
              "    box-shadow: none;\n",
              "  }\n",
              "\n",
              "  .colab-df-spinner {\n",
              "    border: 2px solid var(--fill-color);\n",
              "    border-color: transparent;\n",
              "    border-bottom-color: var(--fill-color);\n",
              "    animation:\n",
              "      spin 1s steps(1) infinite;\n",
              "  }\n",
              "\n",
              "  @keyframes spin {\n",
              "    0% {\n",
              "      border-color: transparent;\n",
              "      border-bottom-color: var(--fill-color);\n",
              "      border-left-color: var(--fill-color);\n",
              "    }\n",
              "    20% {\n",
              "      border-color: transparent;\n",
              "      border-left-color: var(--fill-color);\n",
              "      border-top-color: var(--fill-color);\n",
              "    }\n",
              "    30% {\n",
              "      border-color: transparent;\n",
              "      border-left-color: var(--fill-color);\n",
              "      border-top-color: var(--fill-color);\n",
              "      border-right-color: var(--fill-color);\n",
              "    }\n",
              "    40% {\n",
              "      border-color: transparent;\n",
              "      border-right-color: var(--fill-color);\n",
              "      border-top-color: var(--fill-color);\n",
              "    }\n",
              "    60% {\n",
              "      border-color: transparent;\n",
              "      border-right-color: var(--fill-color);\n",
              "    }\n",
              "    80% {\n",
              "      border-color: transparent;\n",
              "      border-right-color: var(--fill-color);\n",
              "      border-bottom-color: var(--fill-color);\n",
              "    }\n",
              "    90% {\n",
              "      border-color: transparent;\n",
              "      border-bottom-color: var(--fill-color);\n",
              "    }\n",
              "  }\n",
              "</style>\n",
              "\n",
              "  <script>\n",
              "    async function quickchart(key) {\n",
              "      const quickchartButtonEl =\n",
              "        document.querySelector('#' + key + ' button');\n",
              "      quickchartButtonEl.disabled = true;  // To prevent multiple clicks.\n",
              "      quickchartButtonEl.classList.add('colab-df-spinner');\n",
              "      try {\n",
              "        const charts = await google.colab.kernel.invokeFunction(\n",
              "            'suggestCharts', [key], {});\n",
              "      } catch (error) {\n",
              "        console.error('Error during call to suggestCharts:', error);\n",
              "      }\n",
              "      quickchartButtonEl.classList.remove('colab-df-spinner');\n",
              "      quickchartButtonEl.classList.add('colab-df-quickchart-complete');\n",
              "    }\n",
              "    (() => {\n",
              "      let quickchartButtonEl =\n",
              "        document.querySelector('#df-b5c3003a-9bec-4f17-a535-9e9f7f5bcbf2 button');\n",
              "      quickchartButtonEl.style.display =\n",
              "        google.colab.kernel.accessAllowed ? 'block' : 'none';\n",
              "    })();\n",
              "  </script>\n",
              "</div>\n",
              "\n",
              "    </div>\n",
              "  </div>\n"
            ],
            "application/vnd.google.colaboratory.intrinsic+json": {
              "type": "dataframe",
              "variable_name": "all",
              "summary": "{\n  \"name\": \"all\",\n  \"rows\": 1682,\n  \"fields\": [\n    {\n      \"column\": \"region\",\n      \"properties\": {\n        \"dtype\": \"category\",\n        \"num_unique_values\": 10,\n        \"samples\": [\n          \"LON\",\n          \"Unknown\",\n          \"PC\"\n        ],\n        \"semantic_type\": \"\",\n        \"description\": \"\"\n      }\n    },\n    {\n      \"column\": \"fee_probable\",\n      \"properties\": {\n        \"dtype\": \"number\",\n        \"std\": 49242.396321327506,\n        \"min\": 175.0,\n        \"max\": 651000.0,\n        \"num_unique_values\": 763,\n        \"samples\": [\n          6485.0,\n          3100.0,\n          14500.0\n        ],\n        \"semantic_type\": \"\",\n        \"description\": \"\"\n      }\n    },\n    {\n      \"column\": \"outcome\",\n      \"properties\": {\n        \"dtype\": \"number\",\n        \"std\": 0,\n        \"min\": 0,\n        \"max\": 1,\n        \"num_unique_values\": 2,\n        \"samples\": [\n          1,\n          0\n        ],\n        \"semantic_type\": \"\",\n        \"description\": \"\"\n      }\n    },\n    {\n      \"column\": \"sow\",\n      \"properties\": {\n        \"dtype\": \"category\",\n        \"num_unique_values\": 31,\n        \"samples\": [\n          \"Accessibility Audit\",\n          \"Pavement\"\n        ],\n        \"semantic_type\": \"\",\n        \"description\": \"\"\n      }\n    },\n    {\n      \"column\": \"project_type_BCA\",\n      \"properties\": {\n        \"dtype\": \"boolean\",\n        \"num_unique_values\": 2,\n        \"samples\": [\n          true,\n          false\n        ],\n        \"semantic_type\": \"\",\n        \"description\": \"\"\n      }\n    },\n    {\n      \"column\": \"project_type_Consult\",\n      \"properties\": {\n        \"dtype\": \"boolean\",\n        \"num_unique_values\": 2,\n        \"samples\": [\n          true,\n          false\n        ],\n        \"semantic_type\": \"\",\n        \"description\": \"\"\n      }\n    },\n    {\n      \"column\": \"project_type_Envelope\",\n      \"properties\": {\n        \"dtype\": \"boolean\",\n        \"num_unique_values\": 2,\n        \"samples\": [\n          true,\n          false\n        ],\n        \"semantic_type\": \"\",\n        \"description\": \"\"\n      }\n    },\n    {\n      \"column\": \"project_type_Garage\",\n      \"properties\": {\n        \"dtype\": \"boolean\",\n        \"num_unique_values\": 2,\n        \"samples\": [\n          true,\n          false\n        ],\n        \"semantic_type\": \"\",\n        \"description\": \"\"\n      }\n    },\n    {\n      \"column\": \"project_type_Mechanical\",\n      \"properties\": {\n        \"dtype\": \"boolean\",\n        \"num_unique_values\": 2,\n        \"samples\": [\n          true,\n          false\n        ],\n        \"semantic_type\": \"\",\n        \"description\": \"\"\n      }\n    },\n    {\n      \"column\": \"project_type_Other\",\n      \"properties\": {\n        \"dtype\": \"boolean\",\n        \"num_unique_values\": 2,\n        \"samples\": [\n          false,\n          true\n        ],\n        \"semantic_type\": \"\",\n        \"description\": \"\"\n      }\n    },\n    {\n      \"column\": \"project_type_PA & Class 1 RFS\",\n      \"properties\": {\n        \"dtype\": \"boolean\",\n        \"num_unique_values\": 2,\n        \"samples\": [\n          true,\n          false\n        ],\n        \"semantic_type\": \"\",\n        \"description\": \"\"\n      }\n    },\n    {\n      \"column\": \"project_type_PCA\",\n      \"properties\": {\n        \"dtype\": \"boolean\",\n        \"num_unique_values\": 2,\n        \"samples\": [\n          true,\n          false\n        ],\n        \"semantic_type\": \"\",\n        \"description\": \"\"\n      }\n    },\n    {\n      \"column\": \"project_type_Roofing\",\n      \"properties\": {\n        \"dtype\": \"boolean\",\n        \"num_unique_values\": 2,\n        \"samples\": [\n          true,\n          false\n        ],\n        \"semantic_type\": \"\",\n        \"description\": \"\"\n      }\n    }\n  ]\n}"
            }
          },
          "metadata": {},
          "execution_count": 734
        }
      ]
    },
    {
      "cell_type": "code",
      "source": [
        "all.shape"
      ],
      "metadata": {
        "colab": {
          "base_uri": "https://localhost:8080/"
        },
        "id": "lMPsbBsG-LfA",
        "outputId": "47c440d8-703c-443b-9d04-81287198d547"
      },
      "execution_count": null,
      "outputs": [
        {
          "output_type": "execute_result",
          "data": {
            "text/plain": [
              "(1682, 13)"
            ]
          },
          "metadata": {},
          "execution_count": 735
        }
      ]
    },
    {
      "cell_type": "markdown",
      "source": [
        "**sow**"
      ],
      "metadata": {
        "id": "GyWqxz8Ack94"
      }
    },
    {
      "cell_type": "code",
      "source": [
        "all['sow'].describe()"
      ],
      "metadata": {
        "colab": {
          "base_uri": "https://localhost:8080/",
          "height": 247
        },
        "id": "NQpw1OWgcj8l",
        "outputId": "f5c2199d-800e-4ea9-e85b-7e6fa23671f3"
      },
      "execution_count": null,
      "outputs": [
        {
          "output_type": "execute_result",
          "data": {
            "text/plain": [
              "count        1682\n",
              "unique         31\n",
              "top       Consult\n",
              "freq          285\n",
              "Name: sow, dtype: object"
            ],
            "text/html": [
              "<div>\n",
              "<style scoped>\n",
              "    .dataframe tbody tr th:only-of-type {\n",
              "        vertical-align: middle;\n",
              "    }\n",
              "\n",
              "    .dataframe tbody tr th {\n",
              "        vertical-align: top;\n",
              "    }\n",
              "\n",
              "    .dataframe thead th {\n",
              "        text-align: right;\n",
              "    }\n",
              "</style>\n",
              "<table border=\"1\" class=\"dataframe\">\n",
              "  <thead>\n",
              "    <tr style=\"text-align: right;\">\n",
              "      <th></th>\n",
              "      <th>sow</th>\n",
              "    </tr>\n",
              "  </thead>\n",
              "  <tbody>\n",
              "    <tr>\n",
              "      <th>count</th>\n",
              "      <td>1682</td>\n",
              "    </tr>\n",
              "    <tr>\n",
              "      <th>unique</th>\n",
              "      <td>31</td>\n",
              "    </tr>\n",
              "    <tr>\n",
              "      <th>top</th>\n",
              "      <td>Consult</td>\n",
              "    </tr>\n",
              "    <tr>\n",
              "      <th>freq</th>\n",
              "      <td>285</td>\n",
              "    </tr>\n",
              "  </tbody>\n",
              "</table>\n",
              "</div><br><label><b>dtype:</b> object</label>"
            ]
          },
          "metadata": {},
          "execution_count": 736
        }
      ]
    },
    {
      "cell_type": "code",
      "source": [
        "all['sow'].value_counts(dropna=False)"
      ],
      "metadata": {
        "colab": {
          "base_uri": "https://localhost:8080/",
          "height": 1000
        },
        "id": "oZkS7Nbtc3Q-",
        "outputId": "1bb9a4c0-9692-45e1-94ea-b5068bdde9a2"
      },
      "execution_count": null,
      "outputs": [
        {
          "output_type": "execute_result",
          "data": {
            "text/plain": [
              "sow\n",
              "Consult                285\n",
              "PCA                    268\n",
              "BCA                    258\n",
              "Roofing                153\n",
              "Mechanical             116\n",
              "Envelope               101\n",
              "Garage                  98\n",
              "PA & Class 1 RFS        88\n",
              "PPA                     52\n",
              "Balcony                 46\n",
              "BCA & RFS               33\n",
              "PA1, C1, PA2            27\n",
              "Structural              27\n",
              "Pavement                22\n",
              "Windows                 18\n",
              "Renovation              15\n",
              "Landscaping             14\n",
              "PA Follow-Up            12\n",
              "Accessibility Audit      9\n",
              "Sealants                 8\n",
              "Bulletin 18              7\n",
              "PA Year 7                6\n",
              "C2 RFS with C3 Fee       5\n",
              "PA Year 1                4\n",
              "Electrical               2\n",
              "Doors                    2\n",
              "Stairs                   2\n",
              "PCA/ESA                  1\n",
              "PA Year 2                1\n",
              "Energy Audits            1\n",
              "PCA & ESA                1\n",
              "Name: count, dtype: int64"
            ],
            "text/html": [
              "<div>\n",
              "<style scoped>\n",
              "    .dataframe tbody tr th:only-of-type {\n",
              "        vertical-align: middle;\n",
              "    }\n",
              "\n",
              "    .dataframe tbody tr th {\n",
              "        vertical-align: top;\n",
              "    }\n",
              "\n",
              "    .dataframe thead th {\n",
              "        text-align: right;\n",
              "    }\n",
              "</style>\n",
              "<table border=\"1\" class=\"dataframe\">\n",
              "  <thead>\n",
              "    <tr style=\"text-align: right;\">\n",
              "      <th></th>\n",
              "      <th>count</th>\n",
              "    </tr>\n",
              "    <tr>\n",
              "      <th>sow</th>\n",
              "      <th></th>\n",
              "    </tr>\n",
              "  </thead>\n",
              "  <tbody>\n",
              "    <tr>\n",
              "      <th>Consult</th>\n",
              "      <td>285</td>\n",
              "    </tr>\n",
              "    <tr>\n",
              "      <th>PCA</th>\n",
              "      <td>268</td>\n",
              "    </tr>\n",
              "    <tr>\n",
              "      <th>BCA</th>\n",
              "      <td>258</td>\n",
              "    </tr>\n",
              "    <tr>\n",
              "      <th>Roofing</th>\n",
              "      <td>153</td>\n",
              "    </tr>\n",
              "    <tr>\n",
              "      <th>Mechanical</th>\n",
              "      <td>116</td>\n",
              "    </tr>\n",
              "    <tr>\n",
              "      <th>Envelope</th>\n",
              "      <td>101</td>\n",
              "    </tr>\n",
              "    <tr>\n",
              "      <th>Garage</th>\n",
              "      <td>98</td>\n",
              "    </tr>\n",
              "    <tr>\n",
              "      <th>PA &amp; Class 1 RFS</th>\n",
              "      <td>88</td>\n",
              "    </tr>\n",
              "    <tr>\n",
              "      <th>PPA</th>\n",
              "      <td>52</td>\n",
              "    </tr>\n",
              "    <tr>\n",
              "      <th>Balcony</th>\n",
              "      <td>46</td>\n",
              "    </tr>\n",
              "    <tr>\n",
              "      <th>BCA &amp; RFS</th>\n",
              "      <td>33</td>\n",
              "    </tr>\n",
              "    <tr>\n",
              "      <th>PA1, C1, PA2</th>\n",
              "      <td>27</td>\n",
              "    </tr>\n",
              "    <tr>\n",
              "      <th>Structural</th>\n",
              "      <td>27</td>\n",
              "    </tr>\n",
              "    <tr>\n",
              "      <th>Pavement</th>\n",
              "      <td>22</td>\n",
              "    </tr>\n",
              "    <tr>\n",
              "      <th>Windows</th>\n",
              "      <td>18</td>\n",
              "    </tr>\n",
              "    <tr>\n",
              "      <th>Renovation</th>\n",
              "      <td>15</td>\n",
              "    </tr>\n",
              "    <tr>\n",
              "      <th>Landscaping</th>\n",
              "      <td>14</td>\n",
              "    </tr>\n",
              "    <tr>\n",
              "      <th>PA Follow-Up</th>\n",
              "      <td>12</td>\n",
              "    </tr>\n",
              "    <tr>\n",
              "      <th>Accessibility Audit</th>\n",
              "      <td>9</td>\n",
              "    </tr>\n",
              "    <tr>\n",
              "      <th>Sealants</th>\n",
              "      <td>8</td>\n",
              "    </tr>\n",
              "    <tr>\n",
              "      <th>Bulletin 18</th>\n",
              "      <td>7</td>\n",
              "    </tr>\n",
              "    <tr>\n",
              "      <th>PA Year 7</th>\n",
              "      <td>6</td>\n",
              "    </tr>\n",
              "    <tr>\n",
              "      <th>C2 RFS with C3 Fee</th>\n",
              "      <td>5</td>\n",
              "    </tr>\n",
              "    <tr>\n",
              "      <th>PA Year 1</th>\n",
              "      <td>4</td>\n",
              "    </tr>\n",
              "    <tr>\n",
              "      <th>Electrical</th>\n",
              "      <td>2</td>\n",
              "    </tr>\n",
              "    <tr>\n",
              "      <th>Doors</th>\n",
              "      <td>2</td>\n",
              "    </tr>\n",
              "    <tr>\n",
              "      <th>Stairs</th>\n",
              "      <td>2</td>\n",
              "    </tr>\n",
              "    <tr>\n",
              "      <th>PCA/ESA</th>\n",
              "      <td>1</td>\n",
              "    </tr>\n",
              "    <tr>\n",
              "      <th>PA Year 2</th>\n",
              "      <td>1</td>\n",
              "    </tr>\n",
              "    <tr>\n",
              "      <th>Energy Audits</th>\n",
              "      <td>1</td>\n",
              "    </tr>\n",
              "    <tr>\n",
              "      <th>PCA &amp; ESA</th>\n",
              "      <td>1</td>\n",
              "    </tr>\n",
              "  </tbody>\n",
              "</table>\n",
              "</div><br><label><b>dtype:</b> int64</label>"
            ]
          },
          "metadata": {},
          "execution_count": 737
        }
      ]
    },
    {
      "cell_type": "markdown",
      "source": [
        "As per client direction, we will group  Renovation, Windows, Landscaping, Sealants, Stairs, and Doors into a revised 'Renovation' category"
      ],
      "metadata": {
        "id": "04DtkuCehJfc"
      }
    },
    {
      "cell_type": "code",
      "source": [
        "all.loc[all['sow'].isin(['Windows', 'Landscaping', 'Sealants', 'Stairs', 'Doors']), 'sow'] = 'Renovation'"
      ],
      "metadata": {
        "id": "CwrlK1xqhgcw"
      },
      "execution_count": null,
      "outputs": []
    },
    {
      "cell_type": "markdown",
      "source": [
        "We'll group anything remianing that is under 20 instances as 'Other'"
      ],
      "metadata": {
        "id": "Yhy7_X-HdQNO"
      }
    },
    {
      "cell_type": "code",
      "source": [
        "counts = all['sow'].value_counts()\n",
        "mask = all['sow'].isin(counts[counts < 20].index)\n",
        "all.loc[mask, 'sow'] = 'Other'"
      ],
      "metadata": {
        "id": "x5DZjap7dJX0"
      },
      "execution_count": null,
      "outputs": []
    },
    {
      "cell_type": "code",
      "source": [
        "all['sow'].describe()"
      ],
      "metadata": {
        "colab": {
          "base_uri": "https://localhost:8080/",
          "height": 247
        },
        "id": "oZ-Fb6zhd7ZM",
        "outputId": "c13646ca-2c9d-4b13-8b4d-8eab645f8a06"
      },
      "execution_count": null,
      "outputs": [
        {
          "output_type": "execute_result",
          "data": {
            "text/plain": [
              "count        1682\n",
              "unique         16\n",
              "top       Consult\n",
              "freq          285\n",
              "Name: sow, dtype: object"
            ],
            "text/html": [
              "<div>\n",
              "<style scoped>\n",
              "    .dataframe tbody tr th:only-of-type {\n",
              "        vertical-align: middle;\n",
              "    }\n",
              "\n",
              "    .dataframe tbody tr th {\n",
              "        vertical-align: top;\n",
              "    }\n",
              "\n",
              "    .dataframe thead th {\n",
              "        text-align: right;\n",
              "    }\n",
              "</style>\n",
              "<table border=\"1\" class=\"dataframe\">\n",
              "  <thead>\n",
              "    <tr style=\"text-align: right;\">\n",
              "      <th></th>\n",
              "      <th>sow</th>\n",
              "    </tr>\n",
              "  </thead>\n",
              "  <tbody>\n",
              "    <tr>\n",
              "      <th>count</th>\n",
              "      <td>1682</td>\n",
              "    </tr>\n",
              "    <tr>\n",
              "      <th>unique</th>\n",
              "      <td>16</td>\n",
              "    </tr>\n",
              "    <tr>\n",
              "      <th>top</th>\n",
              "      <td>Consult</td>\n",
              "    </tr>\n",
              "    <tr>\n",
              "      <th>freq</th>\n",
              "      <td>285</td>\n",
              "    </tr>\n",
              "  </tbody>\n",
              "</table>\n",
              "</div><br><label><b>dtype:</b> object</label>"
            ]
          },
          "metadata": {},
          "execution_count": 740
        }
      ]
    },
    {
      "cell_type": "markdown",
      "source": [
        "Now the column is ready to be made into dummies"
      ],
      "metadata": {
        "id": "5RsZBgnmeZkt"
      }
    },
    {
      "cell_type": "code",
      "source": [
        "all = pd.get_dummies(all, columns=['sow'], prefix = 'sow')"
      ],
      "metadata": {
        "id": "qdKD3Co0ekL2"
      },
      "execution_count": null,
      "outputs": []
    },
    {
      "cell_type": "code",
      "source": [
        "all.shape"
      ],
      "metadata": {
        "colab": {
          "base_uri": "https://localhost:8080/"
        },
        "id": "f_KjdgBO99CT",
        "outputId": "756d090a-4f93-467b-ac33-1bfb3918a793"
      },
      "execution_count": null,
      "outputs": [
        {
          "output_type": "execute_result",
          "data": {
            "text/plain": [
              "(1682, 28)"
            ]
          },
          "metadata": {},
          "execution_count": 742
        }
      ]
    },
    {
      "cell_type": "markdown",
      "source": [
        "**Region**"
      ],
      "metadata": {
        "id": "h-O8t5SMBB_G"
      }
    },
    {
      "cell_type": "markdown",
      "source": [
        "This column has already been cleaned since it was grouped from a more detailed indicator. We'll check for completeness just in case"
      ],
      "metadata": {
        "id": "5Rn6uq47BEc0"
      }
    },
    {
      "cell_type": "code",
      "source": [
        "all['region'].value_counts(dropna=False)"
      ],
      "metadata": {
        "colab": {
          "base_uri": "https://localhost:8080/",
          "height": 467
        },
        "id": "IIaBcRcQEwcL",
        "outputId": "0cbde7b8-53ca-4b7d-e2d5-bded73166bde"
      },
      "execution_count": null,
      "outputs": [
        {
          "output_type": "execute_result",
          "data": {
            "text/plain": [
              "region\n",
              "Unknown    1091\n",
              "TOR         241\n",
              "EO          117\n",
              "YR           87\n",
              "PC           54\n",
              "HUR          42\n",
              "GH           37\n",
              "LON           6\n",
              "GR            4\n",
              "WIN           3\n",
              "Name: count, dtype: int64"
            ],
            "text/html": [
              "<div>\n",
              "<style scoped>\n",
              "    .dataframe tbody tr th:only-of-type {\n",
              "        vertical-align: middle;\n",
              "    }\n",
              "\n",
              "    .dataframe tbody tr th {\n",
              "        vertical-align: top;\n",
              "    }\n",
              "\n",
              "    .dataframe thead th {\n",
              "        text-align: right;\n",
              "    }\n",
              "</style>\n",
              "<table border=\"1\" class=\"dataframe\">\n",
              "  <thead>\n",
              "    <tr style=\"text-align: right;\">\n",
              "      <th></th>\n",
              "      <th>count</th>\n",
              "    </tr>\n",
              "    <tr>\n",
              "      <th>region</th>\n",
              "      <th></th>\n",
              "    </tr>\n",
              "  </thead>\n",
              "  <tbody>\n",
              "    <tr>\n",
              "      <th>Unknown</th>\n",
              "      <td>1091</td>\n",
              "    </tr>\n",
              "    <tr>\n",
              "      <th>TOR</th>\n",
              "      <td>241</td>\n",
              "    </tr>\n",
              "    <tr>\n",
              "      <th>EO</th>\n",
              "      <td>117</td>\n",
              "    </tr>\n",
              "    <tr>\n",
              "      <th>YR</th>\n",
              "      <td>87</td>\n",
              "    </tr>\n",
              "    <tr>\n",
              "      <th>PC</th>\n",
              "      <td>54</td>\n",
              "    </tr>\n",
              "    <tr>\n",
              "      <th>HUR</th>\n",
              "      <td>42</td>\n",
              "    </tr>\n",
              "    <tr>\n",
              "      <th>GH</th>\n",
              "      <td>37</td>\n",
              "    </tr>\n",
              "    <tr>\n",
              "      <th>LON</th>\n",
              "      <td>6</td>\n",
              "    </tr>\n",
              "    <tr>\n",
              "      <th>GR</th>\n",
              "      <td>4</td>\n",
              "    </tr>\n",
              "    <tr>\n",
              "      <th>WIN</th>\n",
              "      <td>3</td>\n",
              "    </tr>\n",
              "  </tbody>\n",
              "</table>\n",
              "</div><br><label><b>dtype:</b> int64</label>"
            ]
          },
          "metadata": {},
          "execution_count": 743
        }
      ]
    },
    {
      "cell_type": "code",
      "source": [
        "#Lets roll the low-count regions into an 'Other' category\n",
        "all['region'] = all['region'].replace({\n",
        "    'WIN': 'Other',\n",
        "    'GR': 'Other',\n",
        "    'LON': 'Other'\n",
        "})"
      ],
      "metadata": {
        "id": "7xItjeSeE6Wh"
      },
      "execution_count": null,
      "outputs": []
    },
    {
      "cell_type": "code",
      "source": [
        "all['region'].value_counts(dropna=False)"
      ],
      "metadata": {
        "colab": {
          "base_uri": "https://localhost:8080/",
          "height": 404
        },
        "id": "Hgjmn8ZnHOo6",
        "outputId": "aca1a2eb-2f9d-45c6-80d6-932d76ec7b87"
      },
      "execution_count": null,
      "outputs": [
        {
          "output_type": "execute_result",
          "data": {
            "text/plain": [
              "region\n",
              "Unknown    1091\n",
              "TOR         241\n",
              "EO          117\n",
              "YR           87\n",
              "PC           54\n",
              "HUR          42\n",
              "GH           37\n",
              "Other        13\n",
              "Name: count, dtype: int64"
            ],
            "text/html": [
              "<div>\n",
              "<style scoped>\n",
              "    .dataframe tbody tr th:only-of-type {\n",
              "        vertical-align: middle;\n",
              "    }\n",
              "\n",
              "    .dataframe tbody tr th {\n",
              "        vertical-align: top;\n",
              "    }\n",
              "\n",
              "    .dataframe thead th {\n",
              "        text-align: right;\n",
              "    }\n",
              "</style>\n",
              "<table border=\"1\" class=\"dataframe\">\n",
              "  <thead>\n",
              "    <tr style=\"text-align: right;\">\n",
              "      <th></th>\n",
              "      <th>count</th>\n",
              "    </tr>\n",
              "    <tr>\n",
              "      <th>region</th>\n",
              "      <th></th>\n",
              "    </tr>\n",
              "  </thead>\n",
              "  <tbody>\n",
              "    <tr>\n",
              "      <th>Unknown</th>\n",
              "      <td>1091</td>\n",
              "    </tr>\n",
              "    <tr>\n",
              "      <th>TOR</th>\n",
              "      <td>241</td>\n",
              "    </tr>\n",
              "    <tr>\n",
              "      <th>EO</th>\n",
              "      <td>117</td>\n",
              "    </tr>\n",
              "    <tr>\n",
              "      <th>YR</th>\n",
              "      <td>87</td>\n",
              "    </tr>\n",
              "    <tr>\n",
              "      <th>PC</th>\n",
              "      <td>54</td>\n",
              "    </tr>\n",
              "    <tr>\n",
              "      <th>HUR</th>\n",
              "      <td>42</td>\n",
              "    </tr>\n",
              "    <tr>\n",
              "      <th>GH</th>\n",
              "      <td>37</td>\n",
              "    </tr>\n",
              "    <tr>\n",
              "      <th>Other</th>\n",
              "      <td>13</td>\n",
              "    </tr>\n",
              "  </tbody>\n",
              "</table>\n",
              "</div><br><label><b>dtype:</b> int64</label>"
            ]
          },
          "metadata": {},
          "execution_count": 745
        }
      ]
    },
    {
      "cell_type": "markdown",
      "source": [
        "Ready for one-hot encoding"
      ],
      "metadata": {
        "id": "9xVWfyhMHXXv"
      }
    },
    {
      "cell_type": "code",
      "source": [
        "#one-hot encode the region column\n",
        "all = pd.get_dummies(all, columns=['region'], prefix = 'region')"
      ],
      "metadata": {
        "id": "M9ZOtciqHa7P"
      },
      "execution_count": null,
      "outputs": []
    },
    {
      "cell_type": "code",
      "source": [
        "all.head()"
      ],
      "metadata": {
        "colab": {
          "base_uri": "https://localhost:8080/",
          "height": 273
        },
        "id": "d6A7j74nH_9h",
        "outputId": "5e0fe09f-81e6-44c5-abed-b00461ac7b3c"
      },
      "execution_count": null,
      "outputs": [
        {
          "output_type": "execute_result",
          "data": {
            "text/plain": [
              "   fee_probable  outcome  project_type_BCA  project_type_Consult  \\\n",
              "0        8190.0        0             False                 False   \n",
              "1        1890.0        0             False                 False   \n",
              "2        1920.0        0             False                 False   \n",
              "3        1770.0        0             False                 False   \n",
              "4        2360.0        0             False                 False   \n",
              "\n",
              "   project_type_Envelope  project_type_Garage  project_type_Mechanical  \\\n",
              "0                  False                False                    False   \n",
              "1                  False                False                    False   \n",
              "2                  False                False                    False   \n",
              "3                  False                False                    False   \n",
              "4                  False                False                    False   \n",
              "\n",
              "   project_type_Other  project_type_PA & Class 1 RFS  project_type_PCA  ...  \\\n",
              "0                True                          False             False  ...   \n",
              "1                True                          False             False  ...   \n",
              "2                True                          False             False  ...   \n",
              "3                True                          False             False  ...   \n",
              "4                True                          False             False  ...   \n",
              "\n",
              "   sow_Roofing  sow_Structural  region_EO  region_GH  region_HUR  \\\n",
              "0        False           False       True      False       False   \n",
              "1        False           False      False      False       False   \n",
              "2        False           False      False      False       False   \n",
              "3        False           False      False      False       False   \n",
              "4        False           False       True      False       False   \n",
              "\n",
              "   region_Other  region_PC  region_TOR  region_Unknown  region_YR  \n",
              "0         False      False       False           False      False  \n",
              "1         False      False       False            True      False  \n",
              "2         False      False       False            True      False  \n",
              "3         False      False       False            True      False  \n",
              "4         False      False       False           False      False  \n",
              "\n",
              "[5 rows x 35 columns]"
            ],
            "text/html": [
              "\n",
              "  <div id=\"df-b8ab6cf3-bc01-4b1f-8af2-f2ca5a118ba6\" class=\"colab-df-container\">\n",
              "    <div>\n",
              "<style scoped>\n",
              "    .dataframe tbody tr th:only-of-type {\n",
              "        vertical-align: middle;\n",
              "    }\n",
              "\n",
              "    .dataframe tbody tr th {\n",
              "        vertical-align: top;\n",
              "    }\n",
              "\n",
              "    .dataframe thead th {\n",
              "        text-align: right;\n",
              "    }\n",
              "</style>\n",
              "<table border=\"1\" class=\"dataframe\">\n",
              "  <thead>\n",
              "    <tr style=\"text-align: right;\">\n",
              "      <th></th>\n",
              "      <th>fee_probable</th>\n",
              "      <th>outcome</th>\n",
              "      <th>project_type_BCA</th>\n",
              "      <th>project_type_Consult</th>\n",
              "      <th>project_type_Envelope</th>\n",
              "      <th>project_type_Garage</th>\n",
              "      <th>project_type_Mechanical</th>\n",
              "      <th>project_type_Other</th>\n",
              "      <th>project_type_PA &amp; Class 1 RFS</th>\n",
              "      <th>project_type_PCA</th>\n",
              "      <th>...</th>\n",
              "      <th>sow_Roofing</th>\n",
              "      <th>sow_Structural</th>\n",
              "      <th>region_EO</th>\n",
              "      <th>region_GH</th>\n",
              "      <th>region_HUR</th>\n",
              "      <th>region_Other</th>\n",
              "      <th>region_PC</th>\n",
              "      <th>region_TOR</th>\n",
              "      <th>region_Unknown</th>\n",
              "      <th>region_YR</th>\n",
              "    </tr>\n",
              "  </thead>\n",
              "  <tbody>\n",
              "    <tr>\n",
              "      <th>0</th>\n",
              "      <td>8190.0</td>\n",
              "      <td>0</td>\n",
              "      <td>False</td>\n",
              "      <td>False</td>\n",
              "      <td>False</td>\n",
              "      <td>False</td>\n",
              "      <td>False</td>\n",
              "      <td>True</td>\n",
              "      <td>False</td>\n",
              "      <td>False</td>\n",
              "      <td>...</td>\n",
              "      <td>False</td>\n",
              "      <td>False</td>\n",
              "      <td>True</td>\n",
              "      <td>False</td>\n",
              "      <td>False</td>\n",
              "      <td>False</td>\n",
              "      <td>False</td>\n",
              "      <td>False</td>\n",
              "      <td>False</td>\n",
              "      <td>False</td>\n",
              "    </tr>\n",
              "    <tr>\n",
              "      <th>1</th>\n",
              "      <td>1890.0</td>\n",
              "      <td>0</td>\n",
              "      <td>False</td>\n",
              "      <td>False</td>\n",
              "      <td>False</td>\n",
              "      <td>False</td>\n",
              "      <td>False</td>\n",
              "      <td>True</td>\n",
              "      <td>False</td>\n",
              "      <td>False</td>\n",
              "      <td>...</td>\n",
              "      <td>False</td>\n",
              "      <td>False</td>\n",
              "      <td>False</td>\n",
              "      <td>False</td>\n",
              "      <td>False</td>\n",
              "      <td>False</td>\n",
              "      <td>False</td>\n",
              "      <td>False</td>\n",
              "      <td>True</td>\n",
              "      <td>False</td>\n",
              "    </tr>\n",
              "    <tr>\n",
              "      <th>2</th>\n",
              "      <td>1920.0</td>\n",
              "      <td>0</td>\n",
              "      <td>False</td>\n",
              "      <td>False</td>\n",
              "      <td>False</td>\n",
              "      <td>False</td>\n",
              "      <td>False</td>\n",
              "      <td>True</td>\n",
              "      <td>False</td>\n",
              "      <td>False</td>\n",
              "      <td>...</td>\n",
              "      <td>False</td>\n",
              "      <td>False</td>\n",
              "      <td>False</td>\n",
              "      <td>False</td>\n",
              "      <td>False</td>\n",
              "      <td>False</td>\n",
              "      <td>False</td>\n",
              "      <td>False</td>\n",
              "      <td>True</td>\n",
              "      <td>False</td>\n",
              "    </tr>\n",
              "    <tr>\n",
              "      <th>3</th>\n",
              "      <td>1770.0</td>\n",
              "      <td>0</td>\n",
              "      <td>False</td>\n",
              "      <td>False</td>\n",
              "      <td>False</td>\n",
              "      <td>False</td>\n",
              "      <td>False</td>\n",
              "      <td>True</td>\n",
              "      <td>False</td>\n",
              "      <td>False</td>\n",
              "      <td>...</td>\n",
              "      <td>False</td>\n",
              "      <td>False</td>\n",
              "      <td>False</td>\n",
              "      <td>False</td>\n",
              "      <td>False</td>\n",
              "      <td>False</td>\n",
              "      <td>False</td>\n",
              "      <td>False</td>\n",
              "      <td>True</td>\n",
              "      <td>False</td>\n",
              "    </tr>\n",
              "    <tr>\n",
              "      <th>4</th>\n",
              "      <td>2360.0</td>\n",
              "      <td>0</td>\n",
              "      <td>False</td>\n",
              "      <td>False</td>\n",
              "      <td>False</td>\n",
              "      <td>False</td>\n",
              "      <td>False</td>\n",
              "      <td>True</td>\n",
              "      <td>False</td>\n",
              "      <td>False</td>\n",
              "      <td>...</td>\n",
              "      <td>False</td>\n",
              "      <td>False</td>\n",
              "      <td>True</td>\n",
              "      <td>False</td>\n",
              "      <td>False</td>\n",
              "      <td>False</td>\n",
              "      <td>False</td>\n",
              "      <td>False</td>\n",
              "      <td>False</td>\n",
              "      <td>False</td>\n",
              "    </tr>\n",
              "  </tbody>\n",
              "</table>\n",
              "<p>5 rows × 35 columns</p>\n",
              "</div>\n",
              "    <div class=\"colab-df-buttons\">\n",
              "\n",
              "  <div class=\"colab-df-container\">\n",
              "    <button class=\"colab-df-convert\" onclick=\"convertToInteractive('df-b8ab6cf3-bc01-4b1f-8af2-f2ca5a118ba6')\"\n",
              "            title=\"Convert this dataframe to an interactive table.\"\n",
              "            style=\"display:none;\">\n",
              "\n",
              "  <svg xmlns=\"http://www.w3.org/2000/svg\" height=\"24px\" viewBox=\"0 -960 960 960\">\n",
              "    <path d=\"M120-120v-720h720v720H120Zm60-500h600v-160H180v160Zm220 220h160v-160H400v160Zm0 220h160v-160H400v160ZM180-400h160v-160H180v160Zm440 0h160v-160H620v160ZM180-180h160v-160H180v160Zm440 0h160v-160H620v160Z\"/>\n",
              "  </svg>\n",
              "    </button>\n",
              "\n",
              "  <style>\n",
              "    .colab-df-container {\n",
              "      display:flex;\n",
              "      gap: 12px;\n",
              "    }\n",
              "\n",
              "    .colab-df-convert {\n",
              "      background-color: #E8F0FE;\n",
              "      border: none;\n",
              "      border-radius: 50%;\n",
              "      cursor: pointer;\n",
              "      display: none;\n",
              "      fill: #1967D2;\n",
              "      height: 32px;\n",
              "      padding: 0 0 0 0;\n",
              "      width: 32px;\n",
              "    }\n",
              "\n",
              "    .colab-df-convert:hover {\n",
              "      background-color: #E2EBFA;\n",
              "      box-shadow: 0px 1px 2px rgba(60, 64, 67, 0.3), 0px 1px 3px 1px rgba(60, 64, 67, 0.15);\n",
              "      fill: #174EA6;\n",
              "    }\n",
              "\n",
              "    .colab-df-buttons div {\n",
              "      margin-bottom: 4px;\n",
              "    }\n",
              "\n",
              "    [theme=dark] .colab-df-convert {\n",
              "      background-color: #3B4455;\n",
              "      fill: #D2E3FC;\n",
              "    }\n",
              "\n",
              "    [theme=dark] .colab-df-convert:hover {\n",
              "      background-color: #434B5C;\n",
              "      box-shadow: 0px 1px 3px 1px rgba(0, 0, 0, 0.15);\n",
              "      filter: drop-shadow(0px 1px 2px rgba(0, 0, 0, 0.3));\n",
              "      fill: #FFFFFF;\n",
              "    }\n",
              "  </style>\n",
              "\n",
              "    <script>\n",
              "      const buttonEl =\n",
              "        document.querySelector('#df-b8ab6cf3-bc01-4b1f-8af2-f2ca5a118ba6 button.colab-df-convert');\n",
              "      buttonEl.style.display =\n",
              "        google.colab.kernel.accessAllowed ? 'block' : 'none';\n",
              "\n",
              "      async function convertToInteractive(key) {\n",
              "        const element = document.querySelector('#df-b8ab6cf3-bc01-4b1f-8af2-f2ca5a118ba6');\n",
              "        const dataTable =\n",
              "          await google.colab.kernel.invokeFunction('convertToInteractive',\n",
              "                                                    [key], {});\n",
              "        if (!dataTable) return;\n",
              "\n",
              "        const docLinkHtml = 'Like what you see? Visit the ' +\n",
              "          '<a target=\"_blank\" href=https://colab.research.google.com/notebooks/data_table.ipynb>data table notebook</a>'\n",
              "          + ' to learn more about interactive tables.';\n",
              "        element.innerHTML = '';\n",
              "        dataTable['output_type'] = 'display_data';\n",
              "        await google.colab.output.renderOutput(dataTable, element);\n",
              "        const docLink = document.createElement('div');\n",
              "        docLink.innerHTML = docLinkHtml;\n",
              "        element.appendChild(docLink);\n",
              "      }\n",
              "    </script>\n",
              "  </div>\n",
              "\n",
              "\n",
              "<div id=\"df-76b2df38-3db0-45be-a13f-8a00d88a4ac0\">\n",
              "  <button class=\"colab-df-quickchart\" onclick=\"quickchart('df-76b2df38-3db0-45be-a13f-8a00d88a4ac0')\"\n",
              "            title=\"Suggest charts\"\n",
              "            style=\"display:none;\">\n",
              "\n",
              "<svg xmlns=\"http://www.w3.org/2000/svg\" height=\"24px\"viewBox=\"0 0 24 24\"\n",
              "     width=\"24px\">\n",
              "    <g>\n",
              "        <path d=\"M19 3H5c-1.1 0-2 .9-2 2v14c0 1.1.9 2 2 2h14c1.1 0 2-.9 2-2V5c0-1.1-.9-2-2-2zM9 17H7v-7h2v7zm4 0h-2V7h2v10zm4 0h-2v-4h2v4z\"/>\n",
              "    </g>\n",
              "</svg>\n",
              "  </button>\n",
              "\n",
              "<style>\n",
              "  .colab-df-quickchart {\n",
              "      --bg-color: #E8F0FE;\n",
              "      --fill-color: #1967D2;\n",
              "      --hover-bg-color: #E2EBFA;\n",
              "      --hover-fill-color: #174EA6;\n",
              "      --disabled-fill-color: #AAA;\n",
              "      --disabled-bg-color: #DDD;\n",
              "  }\n",
              "\n",
              "  [theme=dark] .colab-df-quickchart {\n",
              "      --bg-color: #3B4455;\n",
              "      --fill-color: #D2E3FC;\n",
              "      --hover-bg-color: #434B5C;\n",
              "      --hover-fill-color: #FFFFFF;\n",
              "      --disabled-bg-color: #3B4455;\n",
              "      --disabled-fill-color: #666;\n",
              "  }\n",
              "\n",
              "  .colab-df-quickchart {\n",
              "    background-color: var(--bg-color);\n",
              "    border: none;\n",
              "    border-radius: 50%;\n",
              "    cursor: pointer;\n",
              "    display: none;\n",
              "    fill: var(--fill-color);\n",
              "    height: 32px;\n",
              "    padding: 0;\n",
              "    width: 32px;\n",
              "  }\n",
              "\n",
              "  .colab-df-quickchart:hover {\n",
              "    background-color: var(--hover-bg-color);\n",
              "    box-shadow: 0 1px 2px rgba(60, 64, 67, 0.3), 0 1px 3px 1px rgba(60, 64, 67, 0.15);\n",
              "    fill: var(--button-hover-fill-color);\n",
              "  }\n",
              "\n",
              "  .colab-df-quickchart-complete:disabled,\n",
              "  .colab-df-quickchart-complete:disabled:hover {\n",
              "    background-color: var(--disabled-bg-color);\n",
              "    fill: var(--disabled-fill-color);\n",
              "    box-shadow: none;\n",
              "  }\n",
              "\n",
              "  .colab-df-spinner {\n",
              "    border: 2px solid var(--fill-color);\n",
              "    border-color: transparent;\n",
              "    border-bottom-color: var(--fill-color);\n",
              "    animation:\n",
              "      spin 1s steps(1) infinite;\n",
              "  }\n",
              "\n",
              "  @keyframes spin {\n",
              "    0% {\n",
              "      border-color: transparent;\n",
              "      border-bottom-color: var(--fill-color);\n",
              "      border-left-color: var(--fill-color);\n",
              "    }\n",
              "    20% {\n",
              "      border-color: transparent;\n",
              "      border-left-color: var(--fill-color);\n",
              "      border-top-color: var(--fill-color);\n",
              "    }\n",
              "    30% {\n",
              "      border-color: transparent;\n",
              "      border-left-color: var(--fill-color);\n",
              "      border-top-color: var(--fill-color);\n",
              "      border-right-color: var(--fill-color);\n",
              "    }\n",
              "    40% {\n",
              "      border-color: transparent;\n",
              "      border-right-color: var(--fill-color);\n",
              "      border-top-color: var(--fill-color);\n",
              "    }\n",
              "    60% {\n",
              "      border-color: transparent;\n",
              "      border-right-color: var(--fill-color);\n",
              "    }\n",
              "    80% {\n",
              "      border-color: transparent;\n",
              "      border-right-color: var(--fill-color);\n",
              "      border-bottom-color: var(--fill-color);\n",
              "    }\n",
              "    90% {\n",
              "      border-color: transparent;\n",
              "      border-bottom-color: var(--fill-color);\n",
              "    }\n",
              "  }\n",
              "</style>\n",
              "\n",
              "  <script>\n",
              "    async function quickchart(key) {\n",
              "      const quickchartButtonEl =\n",
              "        document.querySelector('#' + key + ' button');\n",
              "      quickchartButtonEl.disabled = true;  // To prevent multiple clicks.\n",
              "      quickchartButtonEl.classList.add('colab-df-spinner');\n",
              "      try {\n",
              "        const charts = await google.colab.kernel.invokeFunction(\n",
              "            'suggestCharts', [key], {});\n",
              "      } catch (error) {\n",
              "        console.error('Error during call to suggestCharts:', error);\n",
              "      }\n",
              "      quickchartButtonEl.classList.remove('colab-df-spinner');\n",
              "      quickchartButtonEl.classList.add('colab-df-quickchart-complete');\n",
              "    }\n",
              "    (() => {\n",
              "      let quickchartButtonEl =\n",
              "        document.querySelector('#df-76b2df38-3db0-45be-a13f-8a00d88a4ac0 button');\n",
              "      quickchartButtonEl.style.display =\n",
              "        google.colab.kernel.accessAllowed ? 'block' : 'none';\n",
              "    })();\n",
              "  </script>\n",
              "</div>\n",
              "\n",
              "    </div>\n",
              "  </div>\n"
            ],
            "application/vnd.google.colaboratory.intrinsic+json": {
              "type": "dataframe",
              "variable_name": "all"
            }
          },
          "metadata": {},
          "execution_count": 747
        }
      ]
    },
    {
      "cell_type": "code",
      "source": [
        "all.shape"
      ],
      "metadata": {
        "colab": {
          "base_uri": "https://localhost:8080/"
        },
        "id": "XREvpxgt-EDP",
        "outputId": "a6f27bfa-4f37-40e5-cf96-8a20e9e68de3"
      },
      "execution_count": null,
      "outputs": [
        {
          "output_type": "execute_result",
          "data": {
            "text/plain": [
              "(1682, 35)"
            ]
          },
          "metadata": {},
          "execution_count": 748
        }
      ]
    },
    {
      "cell_type": "markdown",
      "source": [
        "**fee_probable**"
      ],
      "metadata": {
        "id": "TFJnqCzFPiA8"
      }
    },
    {
      "cell_type": "code",
      "source": [
        "#Let's start by dropping the two rows with nulls in the fee_probable column\n",
        "all = all.dropna(subset=['fee_probable'])"
      ],
      "metadata": {
        "id": "gIcYa1oTPyzv"
      },
      "execution_count": null,
      "outputs": []
    },
    {
      "cell_type": "code",
      "source": [
        "all.info()"
      ],
      "metadata": {
        "colab": {
          "base_uri": "https://localhost:8080/"
        },
        "id": "2I8UIspAQA51",
        "outputId": "be39bdf2-2e47-4e6c-b697-bda8e2b51ec1"
      },
      "execution_count": null,
      "outputs": [
        {
          "output_type": "stream",
          "name": "stdout",
          "text": [
            "<class 'pandas.core.frame.DataFrame'>\n",
            "RangeIndex: 1682 entries, 0 to 1681\n",
            "Data columns (total 35 columns):\n",
            " #   Column                         Non-Null Count  Dtype  \n",
            "---  ------                         --------------  -----  \n",
            " 0   fee_probable                   1682 non-null   float64\n",
            " 1   outcome                        1682 non-null   int64  \n",
            " 2   project_type_BCA               1682 non-null   bool   \n",
            " 3   project_type_Consult           1682 non-null   bool   \n",
            " 4   project_type_Envelope          1682 non-null   bool   \n",
            " 5   project_type_Garage            1682 non-null   bool   \n",
            " 6   project_type_Mechanical        1682 non-null   bool   \n",
            " 7   project_type_Other             1682 non-null   bool   \n",
            " 8   project_type_PA & Class 1 RFS  1682 non-null   bool   \n",
            " 9   project_type_PCA               1682 non-null   bool   \n",
            " 10  project_type_Roofing           1682 non-null   bool   \n",
            " 11  sow_BCA                        1682 non-null   bool   \n",
            " 12  sow_BCA & RFS                  1682 non-null   bool   \n",
            " 13  sow_Balcony                    1682 non-null   bool   \n",
            " 14  sow_Consult                    1682 non-null   bool   \n",
            " 15  sow_Envelope                   1682 non-null   bool   \n",
            " 16  sow_Garage                     1682 non-null   bool   \n",
            " 17  sow_Mechanical                 1682 non-null   bool   \n",
            " 18  sow_Other                      1682 non-null   bool   \n",
            " 19  sow_PA & Class 1 RFS           1682 non-null   bool   \n",
            " 20  sow_PA1, C1, PA2               1682 non-null   bool   \n",
            " 21  sow_PCA                        1682 non-null   bool   \n",
            " 22  sow_PPA                        1682 non-null   bool   \n",
            " 23  sow_Pavement                   1682 non-null   bool   \n",
            " 24  sow_Renovation                 1682 non-null   bool   \n",
            " 25  sow_Roofing                    1682 non-null   bool   \n",
            " 26  sow_Structural                 1682 non-null   bool   \n",
            " 27  region_EO                      1682 non-null   bool   \n",
            " 28  region_GH                      1682 non-null   bool   \n",
            " 29  region_HUR                     1682 non-null   bool   \n",
            " 30  region_Other                   1682 non-null   bool   \n",
            " 31  region_PC                      1682 non-null   bool   \n",
            " 32  region_TOR                     1682 non-null   bool   \n",
            " 33  region_Unknown                 1682 non-null   bool   \n",
            " 34  region_YR                      1682 non-null   bool   \n",
            "dtypes: bool(33), float64(1), int64(1)\n",
            "memory usage: 80.6 KB\n"
          ]
        }
      ]
    },
    {
      "cell_type": "code",
      "source": [
        "all['fee_probable'].describe()"
      ],
      "metadata": {
        "colab": {
          "base_uri": "https://localhost:8080/",
          "height": 372
        },
        "id": "WWAGseejQDq2",
        "outputId": "ebf900f6-3964-401b-8dee-832f71766144"
      },
      "execution_count": null,
      "outputs": [
        {
          "output_type": "execute_result",
          "data": {
            "text/plain": [
              "count      1682.000000\n",
              "mean      17929.524376\n",
              "std       49242.396321\n",
              "min         175.000000\n",
              "25%        2992.000000\n",
              "50%        5495.000000\n",
              "75%       12000.000000\n",
              "max      651000.000000\n",
              "Name: fee_probable, dtype: float64"
            ],
            "text/html": [
              "<div>\n",
              "<style scoped>\n",
              "    .dataframe tbody tr th:only-of-type {\n",
              "        vertical-align: middle;\n",
              "    }\n",
              "\n",
              "    .dataframe tbody tr th {\n",
              "        vertical-align: top;\n",
              "    }\n",
              "\n",
              "    .dataframe thead th {\n",
              "        text-align: right;\n",
              "    }\n",
              "</style>\n",
              "<table border=\"1\" class=\"dataframe\">\n",
              "  <thead>\n",
              "    <tr style=\"text-align: right;\">\n",
              "      <th></th>\n",
              "      <th>fee_probable</th>\n",
              "    </tr>\n",
              "  </thead>\n",
              "  <tbody>\n",
              "    <tr>\n",
              "      <th>count</th>\n",
              "      <td>1682.000000</td>\n",
              "    </tr>\n",
              "    <tr>\n",
              "      <th>mean</th>\n",
              "      <td>17929.524376</td>\n",
              "    </tr>\n",
              "    <tr>\n",
              "      <th>std</th>\n",
              "      <td>49242.396321</td>\n",
              "    </tr>\n",
              "    <tr>\n",
              "      <th>min</th>\n",
              "      <td>175.000000</td>\n",
              "    </tr>\n",
              "    <tr>\n",
              "      <th>25%</th>\n",
              "      <td>2992.000000</td>\n",
              "    </tr>\n",
              "    <tr>\n",
              "      <th>50%</th>\n",
              "      <td>5495.000000</td>\n",
              "    </tr>\n",
              "    <tr>\n",
              "      <th>75%</th>\n",
              "      <td>12000.000000</td>\n",
              "    </tr>\n",
              "    <tr>\n",
              "      <th>max</th>\n",
              "      <td>651000.000000</td>\n",
              "    </tr>\n",
              "  </tbody>\n",
              "</table>\n",
              "</div><br><label><b>dtype:</b> float64</label>"
            ]
          },
          "metadata": {},
          "execution_count": 751
        }
      ]
    },
    {
      "cell_type": "markdown",
      "source": [
        "The distribution of this column is extremely left-skewed with a high number of outliers on the right. During EDA the attempts to describe the shape were not successful, so we will have to bucket the values"
      ],
      "metadata": {
        "id": "UKeYwIjTPmQs"
      }
    },
    {
      "cell_type": "markdown",
      "source": [
        "We need to do this transformation after splitting the dataset into train/test. This will be done in the next section"
      ],
      "metadata": {
        "id": "W-t5cheUQ_7A"
      }
    },
    {
      "cell_type": "markdown",
      "source": [
        "# **Non-RFS Model Transformations**"
      ],
      "metadata": {
        "id": "EaykfAT3auqJ"
      }
    },
    {
      "cell_type": "markdown",
      "source": [
        "The ALL model data is ready for transformations now"
      ],
      "metadata": {
        "id": "WdpFPNJGe0yv"
      }
    },
    {
      "cell_type": "code",
      "source": [
        "all.info()"
      ],
      "metadata": {
        "colab": {
          "base_uri": "https://localhost:8080/"
        },
        "id": "-cCYPIEHe6uD",
        "outputId": "ead2a24b-b142-4ffa-f4b4-fff543deb5b7"
      },
      "execution_count": null,
      "outputs": [
        {
          "output_type": "stream",
          "name": "stdout",
          "text": [
            "<class 'pandas.core.frame.DataFrame'>\n",
            "RangeIndex: 1682 entries, 0 to 1681\n",
            "Data columns (total 35 columns):\n",
            " #   Column                         Non-Null Count  Dtype  \n",
            "---  ------                         --------------  -----  \n",
            " 0   fee_probable                   1682 non-null   float64\n",
            " 1   outcome                        1682 non-null   int64  \n",
            " 2   project_type_BCA               1682 non-null   bool   \n",
            " 3   project_type_Consult           1682 non-null   bool   \n",
            " 4   project_type_Envelope          1682 non-null   bool   \n",
            " 5   project_type_Garage            1682 non-null   bool   \n",
            " 6   project_type_Mechanical        1682 non-null   bool   \n",
            " 7   project_type_Other             1682 non-null   bool   \n",
            " 8   project_type_PA & Class 1 RFS  1682 non-null   bool   \n",
            " 9   project_type_PCA               1682 non-null   bool   \n",
            " 10  project_type_Roofing           1682 non-null   bool   \n",
            " 11  sow_BCA                        1682 non-null   bool   \n",
            " 12  sow_BCA & RFS                  1682 non-null   bool   \n",
            " 13  sow_Balcony                    1682 non-null   bool   \n",
            " 14  sow_Consult                    1682 non-null   bool   \n",
            " 15  sow_Envelope                   1682 non-null   bool   \n",
            " 16  sow_Garage                     1682 non-null   bool   \n",
            " 17  sow_Mechanical                 1682 non-null   bool   \n",
            " 18  sow_Other                      1682 non-null   bool   \n",
            " 19  sow_PA & Class 1 RFS           1682 non-null   bool   \n",
            " 20  sow_PA1, C1, PA2               1682 non-null   bool   \n",
            " 21  sow_PCA                        1682 non-null   bool   \n",
            " 22  sow_PPA                        1682 non-null   bool   \n",
            " 23  sow_Pavement                   1682 non-null   bool   \n",
            " 24  sow_Renovation                 1682 non-null   bool   \n",
            " 25  sow_Roofing                    1682 non-null   bool   \n",
            " 26  sow_Structural                 1682 non-null   bool   \n",
            " 27  region_EO                      1682 non-null   bool   \n",
            " 28  region_GH                      1682 non-null   bool   \n",
            " 29  region_HUR                     1682 non-null   bool   \n",
            " 30  region_Other                   1682 non-null   bool   \n",
            " 31  region_PC                      1682 non-null   bool   \n",
            " 32  region_TOR                     1682 non-null   bool   \n",
            " 33  region_Unknown                 1682 non-null   bool   \n",
            " 34  region_YR                      1682 non-null   bool   \n",
            "dtypes: bool(33), float64(1), int64(1)\n",
            "memory usage: 80.6 KB\n"
          ]
        }
      ]
    },
    {
      "cell_type": "markdown",
      "source": [
        "train-test-split"
      ],
      "metadata": {
        "id": "PEJJGbrra8KB"
      }
    },
    {
      "cell_type": "code",
      "source": [
        "X = all.drop('outcome', axis=1)\n",
        "y = all['outcome']"
      ],
      "metadata": {
        "id": "9Jz2Ak-6a6Gb"
      },
      "execution_count": null,
      "outputs": []
    },
    {
      "cell_type": "code",
      "source": [
        "X_train_all, X_test_all, y_train_all, y_test_all = train_test_split(X, y, test_size=0.2, random_state=37)"
      ],
      "metadata": {
        "id": "Oxv5LeCkfL1V"
      },
      "execution_count": null,
      "outputs": []
    },
    {
      "cell_type": "markdown",
      "source": [
        "**probable_ fee**"
      ],
      "metadata": {
        "id": "AmFL_ZVna00Y"
      }
    },
    {
      "cell_type": "markdown",
      "source": [
        "Given the extreme left skew of our data, we're going to use log-binning which does not need the data to be standardized"
      ],
      "metadata": {
        "id": "PjI_dxDBOqBW"
      }
    },
    {
      "cell_type": "code",
      "source": [
        "X_train_all['log_fee'] = np.log1p(X_train_all['fee_probable'])\n",
        "\n",
        "def log_bins(data, num_bins):\n",
        "    min_val = data.min() + 1\n",
        "    max_val = data.max()\n",
        "    bin_edges = np.logspace(np.log10(min_val), np.log10(max_val), num_bins)\n",
        "    return pd.cut(data, bins=bin_edges, labels=False)\n",
        "\n",
        "X_train_all['log_fee_binned'] = log_bins(X_train_all['log_fee'], num_bins=10)"
      ],
      "metadata": {
        "id": "8s2I58W1f7Gf"
      },
      "execution_count": null,
      "outputs": []
    },
    {
      "cell_type": "code",
      "source": [
        "pd.pivot_table(X_train_all, index='log_fee_binned', values='fee_probable', aggfunc=['min', 'max', 'count'])"
      ],
      "metadata": {
        "colab": {
          "base_uri": "https://localhost:8080/",
          "height": 414
        },
        "id": "umm8DyjsT6_X",
        "outputId": "25d7e153-e002-41f3-bff9-f50839bfa223"
      },
      "execution_count": null,
      "outputs": [
        {
          "output_type": "execute_result",
          "data": {
            "text/plain": [
              "                        min          max        count\n",
              "               fee_probable fee_probable fee_probable\n",
              "log_fee_binned                                       \n",
              "0.0                   495.0        825.0           20\n",
              "1.0                   880.0       1500.0           81\n",
              "2.0                  1550.0       2925.0          216\n",
              "3.0                  2950.0       6000.0          430\n",
              "4.0                  6100.0      13095.0          283\n",
              "5.0                 13290.0      30760.0          161\n",
              "6.0                 31000.0      75250.0           76\n",
              "7.0                 78570.0     210400.0           49\n",
              "8.0                216473.0     651000.0           16"
            ],
            "text/html": [
              "\n",
              "  <div id=\"df-2d9164cd-4d54-499b-a20e-aec547b90d50\" class=\"colab-df-container\">\n",
              "    <div>\n",
              "<style scoped>\n",
              "    .dataframe tbody tr th:only-of-type {\n",
              "        vertical-align: middle;\n",
              "    }\n",
              "\n",
              "    .dataframe tbody tr th {\n",
              "        vertical-align: top;\n",
              "    }\n",
              "\n",
              "    .dataframe thead tr th {\n",
              "        text-align: left;\n",
              "    }\n",
              "\n",
              "    .dataframe thead tr:last-of-type th {\n",
              "        text-align: right;\n",
              "    }\n",
              "</style>\n",
              "<table border=\"1\" class=\"dataframe\">\n",
              "  <thead>\n",
              "    <tr>\n",
              "      <th></th>\n",
              "      <th>min</th>\n",
              "      <th>max</th>\n",
              "      <th>count</th>\n",
              "    </tr>\n",
              "    <tr>\n",
              "      <th></th>\n",
              "      <th>fee_probable</th>\n",
              "      <th>fee_probable</th>\n",
              "      <th>fee_probable</th>\n",
              "    </tr>\n",
              "    <tr>\n",
              "      <th>log_fee_binned</th>\n",
              "      <th></th>\n",
              "      <th></th>\n",
              "      <th></th>\n",
              "    </tr>\n",
              "  </thead>\n",
              "  <tbody>\n",
              "    <tr>\n",
              "      <th>0.0</th>\n",
              "      <td>495.0</td>\n",
              "      <td>825.0</td>\n",
              "      <td>20</td>\n",
              "    </tr>\n",
              "    <tr>\n",
              "      <th>1.0</th>\n",
              "      <td>880.0</td>\n",
              "      <td>1500.0</td>\n",
              "      <td>81</td>\n",
              "    </tr>\n",
              "    <tr>\n",
              "      <th>2.0</th>\n",
              "      <td>1550.0</td>\n",
              "      <td>2925.0</td>\n",
              "      <td>216</td>\n",
              "    </tr>\n",
              "    <tr>\n",
              "      <th>3.0</th>\n",
              "      <td>2950.0</td>\n",
              "      <td>6000.0</td>\n",
              "      <td>430</td>\n",
              "    </tr>\n",
              "    <tr>\n",
              "      <th>4.0</th>\n",
              "      <td>6100.0</td>\n",
              "      <td>13095.0</td>\n",
              "      <td>283</td>\n",
              "    </tr>\n",
              "    <tr>\n",
              "      <th>5.0</th>\n",
              "      <td>13290.0</td>\n",
              "      <td>30760.0</td>\n",
              "      <td>161</td>\n",
              "    </tr>\n",
              "    <tr>\n",
              "      <th>6.0</th>\n",
              "      <td>31000.0</td>\n",
              "      <td>75250.0</td>\n",
              "      <td>76</td>\n",
              "    </tr>\n",
              "    <tr>\n",
              "      <th>7.0</th>\n",
              "      <td>78570.0</td>\n",
              "      <td>210400.0</td>\n",
              "      <td>49</td>\n",
              "    </tr>\n",
              "    <tr>\n",
              "      <th>8.0</th>\n",
              "      <td>216473.0</td>\n",
              "      <td>651000.0</td>\n",
              "      <td>16</td>\n",
              "    </tr>\n",
              "  </tbody>\n",
              "</table>\n",
              "</div>\n",
              "    <div class=\"colab-df-buttons\">\n",
              "\n",
              "  <div class=\"colab-df-container\">\n",
              "    <button class=\"colab-df-convert\" onclick=\"convertToInteractive('df-2d9164cd-4d54-499b-a20e-aec547b90d50')\"\n",
              "            title=\"Convert this dataframe to an interactive table.\"\n",
              "            style=\"display:none;\">\n",
              "\n",
              "  <svg xmlns=\"http://www.w3.org/2000/svg\" height=\"24px\" viewBox=\"0 -960 960 960\">\n",
              "    <path d=\"M120-120v-720h720v720H120Zm60-500h600v-160H180v160Zm220 220h160v-160H400v160Zm0 220h160v-160H400v160ZM180-400h160v-160H180v160Zm440 0h160v-160H620v160ZM180-180h160v-160H180v160Zm440 0h160v-160H620v160Z\"/>\n",
              "  </svg>\n",
              "    </button>\n",
              "\n",
              "  <style>\n",
              "    .colab-df-container {\n",
              "      display:flex;\n",
              "      gap: 12px;\n",
              "    }\n",
              "\n",
              "    .colab-df-convert {\n",
              "      background-color: #E8F0FE;\n",
              "      border: none;\n",
              "      border-radius: 50%;\n",
              "      cursor: pointer;\n",
              "      display: none;\n",
              "      fill: #1967D2;\n",
              "      height: 32px;\n",
              "      padding: 0 0 0 0;\n",
              "      width: 32px;\n",
              "    }\n",
              "\n",
              "    .colab-df-convert:hover {\n",
              "      background-color: #E2EBFA;\n",
              "      box-shadow: 0px 1px 2px rgba(60, 64, 67, 0.3), 0px 1px 3px 1px rgba(60, 64, 67, 0.15);\n",
              "      fill: #174EA6;\n",
              "    }\n",
              "\n",
              "    .colab-df-buttons div {\n",
              "      margin-bottom: 4px;\n",
              "    }\n",
              "\n",
              "    [theme=dark] .colab-df-convert {\n",
              "      background-color: #3B4455;\n",
              "      fill: #D2E3FC;\n",
              "    }\n",
              "\n",
              "    [theme=dark] .colab-df-convert:hover {\n",
              "      background-color: #434B5C;\n",
              "      box-shadow: 0px 1px 3px 1px rgba(0, 0, 0, 0.15);\n",
              "      filter: drop-shadow(0px 1px 2px rgba(0, 0, 0, 0.3));\n",
              "      fill: #FFFFFF;\n",
              "    }\n",
              "  </style>\n",
              "\n",
              "    <script>\n",
              "      const buttonEl =\n",
              "        document.querySelector('#df-2d9164cd-4d54-499b-a20e-aec547b90d50 button.colab-df-convert');\n",
              "      buttonEl.style.display =\n",
              "        google.colab.kernel.accessAllowed ? 'block' : 'none';\n",
              "\n",
              "      async function convertToInteractive(key) {\n",
              "        const element = document.querySelector('#df-2d9164cd-4d54-499b-a20e-aec547b90d50');\n",
              "        const dataTable =\n",
              "          await google.colab.kernel.invokeFunction('convertToInteractive',\n",
              "                                                    [key], {});\n",
              "        if (!dataTable) return;\n",
              "\n",
              "        const docLinkHtml = 'Like what you see? Visit the ' +\n",
              "          '<a target=\"_blank\" href=https://colab.research.google.com/notebooks/data_table.ipynb>data table notebook</a>'\n",
              "          + ' to learn more about interactive tables.';\n",
              "        element.innerHTML = '';\n",
              "        dataTable['output_type'] = 'display_data';\n",
              "        await google.colab.output.renderOutput(dataTable, element);\n",
              "        const docLink = document.createElement('div');\n",
              "        docLink.innerHTML = docLinkHtml;\n",
              "        element.appendChild(docLink);\n",
              "      }\n",
              "    </script>\n",
              "  </div>\n",
              "\n",
              "\n",
              "<div id=\"df-b6fcd7c4-74c4-41b1-9b82-6548d1f7f81b\">\n",
              "  <button class=\"colab-df-quickchart\" onclick=\"quickchart('df-b6fcd7c4-74c4-41b1-9b82-6548d1f7f81b')\"\n",
              "            title=\"Suggest charts\"\n",
              "            style=\"display:none;\">\n",
              "\n",
              "<svg xmlns=\"http://www.w3.org/2000/svg\" height=\"24px\"viewBox=\"0 0 24 24\"\n",
              "     width=\"24px\">\n",
              "    <g>\n",
              "        <path d=\"M19 3H5c-1.1 0-2 .9-2 2v14c0 1.1.9 2 2 2h14c1.1 0 2-.9 2-2V5c0-1.1-.9-2-2-2zM9 17H7v-7h2v7zm4 0h-2V7h2v10zm4 0h-2v-4h2v4z\"/>\n",
              "    </g>\n",
              "</svg>\n",
              "  </button>\n",
              "\n",
              "<style>\n",
              "  .colab-df-quickchart {\n",
              "      --bg-color: #E8F0FE;\n",
              "      --fill-color: #1967D2;\n",
              "      --hover-bg-color: #E2EBFA;\n",
              "      --hover-fill-color: #174EA6;\n",
              "      --disabled-fill-color: #AAA;\n",
              "      --disabled-bg-color: #DDD;\n",
              "  }\n",
              "\n",
              "  [theme=dark] .colab-df-quickchart {\n",
              "      --bg-color: #3B4455;\n",
              "      --fill-color: #D2E3FC;\n",
              "      --hover-bg-color: #434B5C;\n",
              "      --hover-fill-color: #FFFFFF;\n",
              "      --disabled-bg-color: #3B4455;\n",
              "      --disabled-fill-color: #666;\n",
              "  }\n",
              "\n",
              "  .colab-df-quickchart {\n",
              "    background-color: var(--bg-color);\n",
              "    border: none;\n",
              "    border-radius: 50%;\n",
              "    cursor: pointer;\n",
              "    display: none;\n",
              "    fill: var(--fill-color);\n",
              "    height: 32px;\n",
              "    padding: 0;\n",
              "    width: 32px;\n",
              "  }\n",
              "\n",
              "  .colab-df-quickchart:hover {\n",
              "    background-color: var(--hover-bg-color);\n",
              "    box-shadow: 0 1px 2px rgba(60, 64, 67, 0.3), 0 1px 3px 1px rgba(60, 64, 67, 0.15);\n",
              "    fill: var(--button-hover-fill-color);\n",
              "  }\n",
              "\n",
              "  .colab-df-quickchart-complete:disabled,\n",
              "  .colab-df-quickchart-complete:disabled:hover {\n",
              "    background-color: var(--disabled-bg-color);\n",
              "    fill: var(--disabled-fill-color);\n",
              "    box-shadow: none;\n",
              "  }\n",
              "\n",
              "  .colab-df-spinner {\n",
              "    border: 2px solid var(--fill-color);\n",
              "    border-color: transparent;\n",
              "    border-bottom-color: var(--fill-color);\n",
              "    animation:\n",
              "      spin 1s steps(1) infinite;\n",
              "  }\n",
              "\n",
              "  @keyframes spin {\n",
              "    0% {\n",
              "      border-color: transparent;\n",
              "      border-bottom-color: var(--fill-color);\n",
              "      border-left-color: var(--fill-color);\n",
              "    }\n",
              "    20% {\n",
              "      border-color: transparent;\n",
              "      border-left-color: var(--fill-color);\n",
              "      border-top-color: var(--fill-color);\n",
              "    }\n",
              "    30% {\n",
              "      border-color: transparent;\n",
              "      border-left-color: var(--fill-color);\n",
              "      border-top-color: var(--fill-color);\n",
              "      border-right-color: var(--fill-color);\n",
              "    }\n",
              "    40% {\n",
              "      border-color: transparent;\n",
              "      border-right-color: var(--fill-color);\n",
              "      border-top-color: var(--fill-color);\n",
              "    }\n",
              "    60% {\n",
              "      border-color: transparent;\n",
              "      border-right-color: var(--fill-color);\n",
              "    }\n",
              "    80% {\n",
              "      border-color: transparent;\n",
              "      border-right-color: var(--fill-color);\n",
              "      border-bottom-color: var(--fill-color);\n",
              "    }\n",
              "    90% {\n",
              "      border-color: transparent;\n",
              "      border-bottom-color: var(--fill-color);\n",
              "    }\n",
              "  }\n",
              "</style>\n",
              "\n",
              "  <script>\n",
              "    async function quickchart(key) {\n",
              "      const quickchartButtonEl =\n",
              "        document.querySelector('#' + key + ' button');\n",
              "      quickchartButtonEl.disabled = true;  // To prevent multiple clicks.\n",
              "      quickchartButtonEl.classList.add('colab-df-spinner');\n",
              "      try {\n",
              "        const charts = await google.colab.kernel.invokeFunction(\n",
              "            'suggestCharts', [key], {});\n",
              "      } catch (error) {\n",
              "        console.error('Error during call to suggestCharts:', error);\n",
              "      }\n",
              "      quickchartButtonEl.classList.remove('colab-df-spinner');\n",
              "      quickchartButtonEl.classList.add('colab-df-quickchart-complete');\n",
              "    }\n",
              "    (() => {\n",
              "      let quickchartButtonEl =\n",
              "        document.querySelector('#df-b6fcd7c4-74c4-41b1-9b82-6548d1f7f81b button');\n",
              "      quickchartButtonEl.style.display =\n",
              "        google.colab.kernel.accessAllowed ? 'block' : 'none';\n",
              "    })();\n",
              "  </script>\n",
              "</div>\n",
              "\n",
              "    </div>\n",
              "  </div>\n"
            ],
            "application/vnd.google.colaboratory.intrinsic+json": {
              "type": "dataframe",
              "summary": "{\n  \"name\": \"pd\",\n  \"rows\": 9,\n  \"fields\": [\n    {\n      \"column\": [\n        \"log_fee_binned\",\n        \"\"\n      ],\n      \"properties\": {\n        \"dtype\": \"number\",\n        \"std\": 2.7386127875258306,\n        \"min\": 0.0,\n        \"max\": 8.0,\n        \"num_unique_values\": 9,\n        \"samples\": [\n          7.0,\n          1.0,\n          5.0\n        ],\n        \"semantic_type\": \"\",\n        \"description\": \"\"\n      }\n    },\n    {\n      \"column\": [\n        \"min\",\n        \"fee_probable\"\n      ],\n      \"properties\": {\n        \"dtype\": \"number\",\n        \"std\": 71158.03592493573,\n        \"min\": 495.0,\n        \"max\": 216473.0,\n        \"num_unique_values\": 9,\n        \"samples\": [\n          78570.0,\n          880.0,\n          13290.0\n        ],\n        \"semantic_type\": \"\",\n        \"description\": \"\"\n      }\n    },\n    {\n      \"column\": [\n        \"max\",\n        \"fee_probable\"\n      ],\n      \"properties\": {\n        \"dtype\": \"number\",\n        \"std\": 213778.6305825491,\n        \"min\": 825.0,\n        \"max\": 651000.0,\n        \"num_unique_values\": 9,\n        \"samples\": [\n          210400.0,\n          1500.0,\n          30760.0\n        ],\n        \"semantic_type\": \"\",\n        \"description\": \"\"\n      }\n    },\n    {\n      \"column\": [\n        \"count\",\n        \"fee_probable\"\n      ],\n      \"properties\": {\n        \"dtype\": \"number\",\n        \"std\": 139,\n        \"min\": 16,\n        \"max\": 430,\n        \"num_unique_values\": 9,\n        \"samples\": [\n          49,\n          81,\n          161\n        ],\n        \"semantic_type\": \"\",\n        \"description\": \"\"\n      }\n    }\n  ]\n}"
            }
          },
          "metadata": {},
          "execution_count": 756
        }
      ]
    },
    {
      "cell_type": "code",
      "source": [
        "plt.figure(figsize=(8, 6))\n",
        "plt.hist(X_train_all['log_fee_binned'], bins=10, edgecolor='k')\n",
        "plt.xlabel('Log Fee Bin')\n",
        "plt.ylabel('Frequency')\n",
        "plt.title('Distribution of Fee Bins')"
      ],
      "metadata": {
        "colab": {
          "base_uri": "https://localhost:8080/",
          "height": 162
        },
        "id": "FEH9z5BnQs6z",
        "outputId": "ca657637-b1c5-448b-e4ab-ebe7ad8cc151"
      },
      "execution_count": null,
      "outputs": [
        {
          "output_type": "execute_result",
          "data": {
            "text/plain": [
              "Text(0.5, 1.0, 'Distribution of Fee Bins')"
            ]
          },
          "metadata": {},
          "execution_count": 757
        },
        {
          "output_type": "display_data",
          "data": {
            "text/plain": [
              "<Figure size 800x600 with 1 Axes>"
            ],
            "image/png": "[encoded data removed]"
          },
          "metadata": {}
        }
      ]
    },
    {
      "cell_type": "markdown",
      "source": [
        "The data is bunched to the left without much discernable groupings in the numbers, so we're going to try equal frequency binning"
      ],
      "metadata": {
        "id": "QYyQNWuTVcBq"
      }
    },
    {
      "cell_type": "code",
      "source": [
        "X_train_all['equal_fee_binned'], bin_edges = pd.qcut(X_train_all['fee_probable'], q=10, labels=False, retbins=True)"
      ],
      "metadata": {
        "id": "W9sCj9JbVrF1"
      },
      "execution_count": null,
      "outputs": []
    },
    {
      "cell_type": "code",
      "source": [
        "pd.pivot_table(X_train_all, index='equal_fee_binned', values='fee_probable', aggfunc=['min', 'max', 'count'])"
      ],
      "metadata": {
        "colab": {
          "base_uri": "https://localhost:8080/",
          "height": 446
        },
        "id": "fViOKw6VWG5-",
        "outputId": "e53a3877-da64-4099-dbd8-90e3a53aca3f"
      },
      "execution_count": null,
      "outputs": [
        {
          "output_type": "execute_result",
          "data": {
            "text/plain": [
              "                          min          max        count\n",
              "                 fee_probable fee_probable fee_probable\n",
              "equal_fee_binned                                       \n",
              "0                       175.0       1695.0          141\n",
              "1                      1700.0       2650.0          128\n",
              "2                      2685.0       3190.0          135\n",
              "3                      3195.0       4150.0          135\n",
              "4                      4190.0       5400.0          135\n",
              "5                      5490.0       6750.0          133\n",
              "6                      6790.0       9720.0          134\n",
              "7                      9750.0      15095.0          135\n",
              "8                     15190.0      33975.0          134\n",
              "9                     34500.0     651000.0          135"
            ],
            "text/html": [
              "\n",
              "  <div id=\"df-cc6a9d69-c0bf-4e1b-9757-cac34c21b60f\" class=\"colab-df-container\">\n",
              "    <div>\n",
              "<style scoped>\n",
              "    .dataframe tbody tr th:only-of-type {\n",
              "        vertical-align: middle;\n",
              "    }\n",
              "\n",
              "    .dataframe tbody tr th {\n",
              "        vertical-align: top;\n",
              "    }\n",
              "\n",
              "    .dataframe thead tr th {\n",
              "        text-align: left;\n",
              "    }\n",
              "\n",
              "    .dataframe thead tr:last-of-type th {\n",
              "        text-align: right;\n",
              "    }\n",
              "</style>\n",
              "<table border=\"1\" class=\"dataframe\">\n",
              "  <thead>\n",
              "    <tr>\n",
              "      <th></th>\n",
              "      <th>min</th>\n",
              "      <th>max</th>\n",
              "      <th>count</th>\n",
              "    </tr>\n",
              "    <tr>\n",
              "      <th></th>\n",
              "      <th>fee_probable</th>\n",
              "      <th>fee_probable</th>\n",
              "      <th>fee_probable</th>\n",
              "    </tr>\n",
              "    <tr>\n",
              "      <th>equal_fee_binned</th>\n",
              "      <th></th>\n",
              "      <th></th>\n",
              "      <th></th>\n",
              "    </tr>\n",
              "  </thead>\n",
              "  <tbody>\n",
              "    <tr>\n",
              "      <th>0</th>\n",
              "      <td>175.0</td>\n",
              "      <td>1695.0</td>\n",
              "      <td>141</td>\n",
              "    </tr>\n",
              "    <tr>\n",
              "      <th>1</th>\n",
              "      <td>1700.0</td>\n",
              "      <td>2650.0</td>\n",
              "      <td>128</td>\n",
              "    </tr>\n",
              "    <tr>\n",
              "      <th>2</th>\n",
              "      <td>2685.0</td>\n",
              "      <td>3190.0</td>\n",
              "      <td>135</td>\n",
              "    </tr>\n",
              "    <tr>\n",
              "      <th>3</th>\n",
              "      <td>3195.0</td>\n",
              "      <td>4150.0</td>\n",
              "      <td>135</td>\n",
              "    </tr>\n",
              "    <tr>\n",
              "      <th>4</th>\n",
              "      <td>4190.0</td>\n",
              "      <td>5400.0</td>\n",
              "      <td>135</td>\n",
              "    </tr>\n",
              "    <tr>\n",
              "      <th>5</th>\n",
              "      <td>5490.0</td>\n",
              "      <td>6750.0</td>\n",
              "      <td>133</td>\n",
              "    </tr>\n",
              "    <tr>\n",
              "      <th>6</th>\n",
              "      <td>6790.0</td>\n",
              "      <td>9720.0</td>\n",
              "      <td>134</td>\n",
              "    </tr>\n",
              "    <tr>\n",
              "      <th>7</th>\n",
              "      <td>9750.0</td>\n",
              "      <td>15095.0</td>\n",
              "      <td>135</td>\n",
              "    </tr>\n",
              "    <tr>\n",
              "      <th>8</th>\n",
              "      <td>15190.0</td>\n",
              "      <td>33975.0</td>\n",
              "      <td>134</td>\n",
              "    </tr>\n",
              "    <tr>\n",
              "      <th>9</th>\n",
              "      <td>34500.0</td>\n",
              "      <td>651000.0</td>\n",
              "      <td>135</td>\n",
              "    </tr>\n",
              "  </tbody>\n",
              "</table>\n",
              "</div>\n",
              "    <div class=\"colab-df-buttons\">\n",
              "\n",
              "  <div class=\"colab-df-container\">\n",
              "    <button class=\"colab-df-convert\" onclick=\"convertToInteractive('df-cc6a9d69-c0bf-4e1b-9757-cac34c21b60f')\"\n",
              "            title=\"Convert this dataframe to an interactive table.\"\n",
              "            style=\"display:none;\">\n",
              "\n",
              "  <svg xmlns=\"http://www.w3.org/2000/svg\" height=\"24px\" viewBox=\"0 -960 960 960\">\n",
              "    <path d=\"M120-120v-720h720v720H120Zm60-500h600v-160H180v160Zm220 220h160v-160H400v160Zm0 220h160v-160H400v160ZM180-400h160v-160H180v160Zm440 0h160v-160H620v160ZM180-180h160v-160H180v160Zm440 0h160v-160H620v160Z\"/>\n",
              "  </svg>\n",
              "    </button>\n",
              "\n",
              "  <style>\n",
              "    .colab-df-container {\n",
              "      display:flex;\n",
              "      gap: 12px;\n",
              "    }\n",
              "\n",
              "    .colab-df-convert {\n",
              "      background-color: #E8F0FE;\n",
              "      border: none;\n",
              "      border-radius: 50%;\n",
              "      cursor: pointer;\n",
              "      display: none;\n",
              "      fill: #1967D2;\n",
              "      height: 32px;\n",
              "      padding: 0 0 0 0;\n",
              "      width: 32px;\n",
              "    }\n",
              "\n",
              "    .colab-df-convert:hover {\n",
              "      background-color: #E2EBFA;\n",
              "      box-shadow: 0px 1px 2px rgba(60, 64, 67, 0.3), 0px 1px 3px 1px rgba(60, 64, 67, 0.15);\n",
              "      fill: #174EA6;\n",
              "    }\n",
              "\n",
              "    .colab-df-buttons div {\n",
              "      margin-bottom: 4px;\n",
              "    }\n",
              "\n",
              "    [theme=dark] .colab-df-convert {\n",
              "      background-color: #3B4455;\n",
              "      fill: #D2E3FC;\n",
              "    }\n",
              "\n",
              "    [theme=dark] .colab-df-convert:hover {\n",
              "      background-color: #434B5C;\n",
              "      box-shadow: 0px 1px 3px 1px rgba(0, 0, 0, 0.15);\n",
              "      filter: drop-shadow(0px 1px 2px rgba(0, 0, 0, 0.3));\n",
              "      fill: #FFFFFF;\n",
              "    }\n",
              "  </style>\n",
              "\n",
              "    <script>\n",
              "      const buttonEl =\n",
              "        document.querySelector('#df-cc6a9d69-c0bf-4e1b-9757-cac34c21b60f button.colab-df-convert');\n",
              "      buttonEl.style.display =\n",
              "        google.colab.kernel.accessAllowed ? 'block' : 'none';\n",
              "\n",
              "      async function convertToInteractive(key) {\n",
              "        const element = document.querySelector('#df-cc6a9d69-c0bf-4e1b-9757-cac34c21b60f');\n",
              "        const dataTable =\n",
              "          await google.colab.kernel.invokeFunction('convertToInteractive',\n",
              "                                                    [key], {});\n",
              "        if (!dataTable) return;\n",
              "\n",
              "        const docLinkHtml = 'Like what you see? Visit the ' +\n",
              "          '<a target=\"_blank\" href=https://colab.research.google.com/notebooks/data_table.ipynb>data table notebook</a>'\n",
              "          + ' to learn more about interactive tables.';\n",
              "        element.innerHTML = '';\n",
              "        dataTable['output_type'] = 'display_data';\n",
              "        await google.colab.output.renderOutput(dataTable, element);\n",
              "        const docLink = document.createElement('div');\n",
              "        docLink.innerHTML = docLinkHtml;\n",
              "        element.appendChild(docLink);\n",
              "      }\n",
              "    </script>\n",
              "  </div>\n",
              "\n",
              "\n",
              "<div id=\"df-874b22b5-c811-4449-8aad-3632af134979\">\n",
              "  <button class=\"colab-df-quickchart\" onclick=\"quickchart('df-874b22b5-c811-4449-8aad-3632af134979')\"\n",
              "            title=\"Suggest charts\"\n",
              "            style=\"display:none;\">\n",
              "\n",
              "<svg xmlns=\"http://www.w3.org/2000/svg\" height=\"24px\"viewBox=\"0 0 24 24\"\n",
              "     width=\"24px\">\n",
              "    <g>\n",
              "        <path d=\"M19 3H5c-1.1 0-2 .9-2 2v14c0 1.1.9 2 2 2h14c1.1 0 2-.9 2-2V5c0-1.1-.9-2-2-2zM9 17H7v-7h2v7zm4 0h-2V7h2v10zm4 0h-2v-4h2v4z\"/>\n",
              "    </g>\n",
              "</svg>\n",
              "  </button>\n",
              "\n",
              "<style>\n",
              "  .colab-df-quickchart {\n",
              "      --bg-color: #E8F0FE;\n",
              "      --fill-color: #1967D2;\n",
              "      --hover-bg-color: #E2EBFA;\n",
              "      --hover-fill-color: #174EA6;\n",
              "      --disabled-fill-color: #AAA;\n",
              "      --disabled-bg-color: #DDD;\n",
              "  }\n",
              "\n",
              "  [theme=dark] .colab-df-quickchart {\n",
              "      --bg-color: #3B4455;\n",
              "      --fill-color: #D2E3FC;\n",
              "      --hover-bg-color: #434B5C;\n",
              "      --hover-fill-color: #FFFFFF;\n",
              "      --disabled-bg-color: #3B4455;\n",
              "      --disabled-fill-color: #666;\n",
              "  }\n",
              "\n",
              "  .colab-df-quickchart {\n",
              "    background-color: var(--bg-color);\n",
              "    border: none;\n",
              "    border-radius: 50%;\n",
              "    cursor: pointer;\n",
              "    display: none;\n",
              "    fill: var(--fill-color);\n",
              "    height: 32px;\n",
              "    padding: 0;\n",
              "    width: 32px;\n",
              "  }\n",
              "\n",
              "  .colab-df-quickchart:hover {\n",
              "    background-color: var(--hover-bg-color);\n",
              "    box-shadow: 0 1px 2px rgba(60, 64, 67, 0.3), 0 1px 3px 1px rgba(60, 64, 67, 0.15);\n",
              "    fill: var(--button-hover-fill-color);\n",
              "  }\n",
              "\n",
              "  .colab-df-quickchart-complete:disabled,\n",
              "  .colab-df-quickchart-complete:disabled:hover {\n",
              "    background-color: var(--disabled-bg-color);\n",
              "    fill: var(--disabled-fill-color);\n",
              "    box-shadow: none;\n",
              "  }\n",
              "\n",
              "  .colab-df-spinner {\n",
              "    border: 2px solid var(--fill-color);\n",
              "    border-color: transparent;\n",
              "    border-bottom-color: var(--fill-color);\n",
              "    animation:\n",
              "      spin 1s steps(1) infinite;\n",
              "  }\n",
              "\n",
              "  @keyframes spin {\n",
              "    0% {\n",
              "      border-color: transparent;\n",
              "      border-bottom-color: var(--fill-color);\n",
              "      border-left-color: var(--fill-color);\n",
              "    }\n",
              "    20% {\n",
              "      border-color: transparent;\n",
              "      border-left-color: var(--fill-color);\n",
              "      border-top-color: var(--fill-color);\n",
              "    }\n",
              "    30% {\n",
              "      border-color: transparent;\n",
              "      border-left-color: var(--fill-color);\n",
              "      border-top-color: var(--fill-color);\n",
              "      border-right-color: var(--fill-color);\n",
              "    }\n",
              "    40% {\n",
              "      border-color: transparent;\n",
              "      border-right-color: var(--fill-color);\n",
              "      border-top-color: var(--fill-color);\n",
              "    }\n",
              "    60% {\n",
              "      border-color: transparent;\n",
              "      border-right-color: var(--fill-color);\n",
              "    }\n",
              "    80% {\n",
              "      border-color: transparent;\n",
              "      border-right-color: var(--fill-color);\n",
              "      border-bottom-color: var(--fill-color);\n",
              "    }\n",
              "    90% {\n",
              "      border-color: transparent;\n",
              "      border-bottom-color: var(--fill-color);\n",
              "    }\n",
              "  }\n",
              "</style>\n",
              "\n",
              "  <script>\n",
              "    async function quickchart(key) {\n",
              "      const quickchartButtonEl =\n",
              "        document.querySelector('#' + key + ' button');\n",
              "      quickchartButtonEl.disabled = true;  // To prevent multiple clicks.\n",
              "      quickchartButtonEl.classList.add('colab-df-spinner');\n",
              "      try {\n",
              "        const charts = await google.colab.kernel.invokeFunction(\n",
              "            'suggestCharts', [key], {});\n",
              "      } catch (error) {\n",
              "        console.error('Error during call to suggestCharts:', error);\n",
              "      }\n",
              "      quickchartButtonEl.classList.remove('colab-df-spinner');\n",
              "      quickchartButtonEl.classList.add('colab-df-quickchart-complete');\n",
              "    }\n",
              "    (() => {\n",
              "      let quickchartButtonEl =\n",
              "        document.querySelector('#df-874b22b5-c811-4449-8aad-3632af134979 button');\n",
              "      quickchartButtonEl.style.display =\n",
              "        google.colab.kernel.accessAllowed ? 'block' : 'none';\n",
              "    })();\n",
              "  </script>\n",
              "</div>\n",
              "\n",
              "    </div>\n",
              "  </div>\n"
            ],
            "application/vnd.google.colaboratory.intrinsic+json": {
              "type": "dataframe",
              "summary": "{\n  \"name\": \"pd\",\n  \"rows\": 10,\n  \"fields\": [\n    {\n      \"column\": [\n        \"equal_fee_binned\",\n        \"\"\n      ],\n      \"properties\": {\n        \"dtype\": \"number\",\n        \"std\": 3,\n        \"min\": 0,\n        \"max\": 9,\n        \"num_unique_values\": 10,\n        \"samples\": [\n          8,\n          1,\n          5\n        ],\n        \"semantic_type\": \"\",\n        \"description\": \"\"\n      }\n    },\n    {\n      \"column\": [\n        \"min\",\n        \"fee_probable\"\n      ],\n      \"properties\": {\n        \"dtype\": \"number\",\n        \"std\": 10166.412852022968,\n        \"min\": 175.0,\n        \"max\": 34500.0,\n        \"num_unique_values\": 10,\n        \"samples\": [\n          15190.0,\n          1700.0,\n          5490.0\n        ],\n        \"semantic_type\": \"\",\n        \"description\": \"\"\n      }\n    },\n    {\n      \"column\": [\n        \"max\",\n        \"fee_probable\"\n      ],\n      \"properties\": {\n        \"dtype\": \"number\",\n        \"std\": 203188.22434506385,\n        \"min\": 1695.0,\n        \"max\": 651000.0,\n        \"num_unique_values\": 10,\n        \"samples\": [\n          33975.0,\n          2650.0,\n          6750.0\n        ],\n        \"semantic_type\": \"\",\n        \"description\": \"\"\n      }\n    },\n    {\n      \"column\": [\n        \"count\",\n        \"fee_probable\"\n      ],\n      \"properties\": {\n        \"dtype\": \"number\",\n        \"std\": 3,\n        \"min\": 128,\n        \"max\": 141,\n        \"num_unique_values\": 5,\n        \"samples\": [\n          128,\n          134,\n          135\n        ],\n        \"semantic_type\": \"\",\n        \"description\": \"\"\n      }\n    }\n  ]\n}"
            }
          },
          "metadata": {},
          "execution_count": 759
        }
      ]
    },
    {
      "cell_type": "markdown",
      "source": [
        "The results from equal frequency binning seem more fitting and explainable, so let's apply this to out train and test data"
      ],
      "metadata": {
        "id": "bLUF6H9LWem1"
      }
    },
    {
      "cell_type": "code",
      "source": [
        "X_train_all.info()"
      ],
      "metadata": {
        "colab": {
          "base_uri": "https://localhost:8080/"
        },
        "id": "MxM7QSYsXLf_",
        "outputId": "729ef23c-b2d5-4267-f835-4a9b0123a5a3"
      },
      "execution_count": null,
      "outputs": [
        {
          "output_type": "stream",
          "name": "stdout",
          "text": [
            "<class 'pandas.core.frame.DataFrame'>\n",
            "Index: 1345 entries, 38 to 363\n",
            "Data columns (total 37 columns):\n",
            " #   Column                         Non-Null Count  Dtype  \n",
            "---  ------                         --------------  -----  \n",
            " 0   fee_probable                   1345 non-null   float64\n",
            " 1   project_type_BCA               1345 non-null   bool   \n",
            " 2   project_type_Consult           1345 non-null   bool   \n",
            " 3   project_type_Envelope          1345 non-null   bool   \n",
            " 4   project_type_Garage            1345 non-null   bool   \n",
            " 5   project_type_Mechanical        1345 non-null   bool   \n",
            " 6   project_type_Other             1345 non-null   bool   \n",
            " 7   project_type_PA & Class 1 RFS  1345 non-null   bool   \n",
            " 8   project_type_PCA               1345 non-null   bool   \n",
            " 9   project_type_Roofing           1345 non-null   bool   \n",
            " 10  sow_BCA                        1345 non-null   bool   \n",
            " 11  sow_BCA & RFS                  1345 non-null   bool   \n",
            " 12  sow_Balcony                    1345 non-null   bool   \n",
            " 13  sow_Consult                    1345 non-null   bool   \n",
            " 14  sow_Envelope                   1345 non-null   bool   \n",
            " 15  sow_Garage                     1345 non-null   bool   \n",
            " 16  sow_Mechanical                 1345 non-null   bool   \n",
            " 17  sow_Other                      1345 non-null   bool   \n",
            " 18  sow_PA & Class 1 RFS           1345 non-null   bool   \n",
            " 19  sow_PA1, C1, PA2               1345 non-null   bool   \n",
            " 20  sow_PCA                        1345 non-null   bool   \n",
            " 21  sow_PPA                        1345 non-null   bool   \n",
            " 22  sow_Pavement                   1345 non-null   bool   \n",
            " 23  sow_Renovation                 1345 non-null   bool   \n",
            " 24  sow_Roofing                    1345 non-null   bool   \n",
            " 25  sow_Structural                 1345 non-null   bool   \n",
            " 26  region_EO                      1345 non-null   bool   \n",
            " 27  region_GH                      1345 non-null   bool   \n",
            " 28  region_HUR                     1345 non-null   bool   \n",
            " 29  region_Other                   1345 non-null   bool   \n",
            " 30  region_PC                      1345 non-null   bool   \n",
            " 31  region_TOR                     1345 non-null   bool   \n",
            " 32  region_Unknown                 1345 non-null   bool   \n",
            " 33  region_YR                      1345 non-null   bool   \n",
            " 34  log_fee                        1345 non-null   float64\n",
            " 35  log_fee_binned                 1332 non-null   float64\n",
            " 36  equal_fee_binned               1345 non-null   int64  \n",
            "dtypes: bool(33), float64(3), int64(1)\n",
            "memory usage: 95.9 KB\n"
          ]
        }
      ]
    },
    {
      "cell_type": "code",
      "source": [
        "#drop fee_probable, log_fee and log_fee_binned from X_train\n",
        "X_train_all = X_train_all.drop(['fee_probable', 'log_fee', 'log_fee_binned'], axis=1)"
      ],
      "metadata": {
        "id": "iZkESE9aWoc_"
      },
      "execution_count": null,
      "outputs": []
    },
    {
      "cell_type": "code",
      "source": [
        "#Apply the binning to X_test\n",
        "X_test_all['equal_fee_binned'] = pd.cut(X_test_all['fee_probable'], bins=bin_edges, labels=False, include_lowest=True)"
      ],
      "metadata": {
        "id": "YIUJQ30_EmJl"
      },
      "execution_count": null,
      "outputs": []
    },
    {
      "cell_type": "code",
      "source": [
        "#This matches our training bins, so we can now drop fee_probable\n",
        "pd.pivot_table(X_test_all, index='equal_fee_binned', values='fee_probable', aggfunc=['min', 'max', 'count'])"
      ],
      "metadata": {
        "colab": {
          "base_uri": "https://localhost:8080/",
          "height": 446
        },
        "id": "sw6pUB-wF5zc",
        "outputId": "c3cabe3d-4f65-4ee8-bbab-d0d5421da40f"
      },
      "execution_count": null,
      "outputs": [
        {
          "output_type": "execute_result",
          "data": {
            "text/plain": [
              "                          min          max        count\n",
              "                 fee_probable fee_probable fee_probable\n",
              "equal_fee_binned                                       \n",
              "0                       350.0       1695.0           25\n",
              "1                      1770.0       2650.0           33\n",
              "2                      2690.0       3100.0           28\n",
              "3                      3195.0       4095.0           34\n",
              "4                      4200.0       5250.0           41\n",
              "5                      5450.0       6590.0           24\n",
              "6                      6790.0       9590.0           51\n",
              "7                      9745.0      15000.0           36\n",
              "8                     15190.0      33065.0           32\n",
              "9                     35000.0     576788.0           33"
            ],
            "text/html": [
              "\n",
              "  <div id=\"df-ccc8cd81-63cb-40dd-9e11-0766b4b77491\" class=\"colab-df-container\">\n",
              "    <div>\n",
              "<style scoped>\n",
              "    .dataframe tbody tr th:only-of-type {\n",
              "        vertical-align: middle;\n",
              "    }\n",
              "\n",
              "    .dataframe tbody tr th {\n",
              "        vertical-align: top;\n",
              "    }\n",
              "\n",
              "    .dataframe thead tr th {\n",
              "        text-align: left;\n",
              "    }\n",
              "\n",
              "    .dataframe thead tr:last-of-type th {\n",
              "        text-align: right;\n",
              "    }\n",
              "</style>\n",
              "<table border=\"1\" class=\"dataframe\">\n",
              "  <thead>\n",
              "    <tr>\n",
              "      <th></th>\n",
              "      <th>min</th>\n",
              "      <th>max</th>\n",
              "      <th>count</th>\n",
              "    </tr>\n",
              "    <tr>\n",
              "      <th></th>\n",
              "      <th>fee_probable</th>\n",
              "      <th>fee_probable</th>\n",
              "      <th>fee_probable</th>\n",
              "    </tr>\n",
              "    <tr>\n",
              "      <th>equal_fee_binned</th>\n",
              "      <th></th>\n",
              "      <th></th>\n",
              "      <th></th>\n",
              "    </tr>\n",
              "  </thead>\n",
              "  <tbody>\n",
              "    <tr>\n",
              "      <th>0</th>\n",
              "      <td>350.0</td>\n",
              "      <td>1695.0</td>\n",
              "      <td>25</td>\n",
              "    </tr>\n",
              "    <tr>\n",
              "      <th>1</th>\n",
              "      <td>1770.0</td>\n",
              "      <td>2650.0</td>\n",
              "      <td>33</td>\n",
              "    </tr>\n",
              "    <tr>\n",
              "      <th>2</th>\n",
              "      <td>2690.0</td>\n",
              "      <td>3100.0</td>\n",
              "      <td>28</td>\n",
              "    </tr>\n",
              "    <tr>\n",
              "      <th>3</th>\n",
              "      <td>3195.0</td>\n",
              "      <td>4095.0</td>\n",
              "      <td>34</td>\n",
              "    </tr>\n",
              "    <tr>\n",
              "      <th>4</th>\n",
              "      <td>4200.0</td>\n",
              "      <td>5250.0</td>\n",
              "      <td>41</td>\n",
              "    </tr>\n",
              "    <tr>\n",
              "      <th>5</th>\n",
              "      <td>5450.0</td>\n",
              "      <td>6590.0</td>\n",
              "      <td>24</td>\n",
              "    </tr>\n",
              "    <tr>\n",
              "      <th>6</th>\n",
              "      <td>6790.0</td>\n",
              "      <td>9590.0</td>\n",
              "      <td>51</td>\n",
              "    </tr>\n",
              "    <tr>\n",
              "      <th>7</th>\n",
              "      <td>9745.0</td>\n",
              "      <td>15000.0</td>\n",
              "      <td>36</td>\n",
              "    </tr>\n",
              "    <tr>\n",
              "      <th>8</th>\n",
              "      <td>15190.0</td>\n",
              "      <td>33065.0</td>\n",
              "      <td>32</td>\n",
              "    </tr>\n",
              "    <tr>\n",
              "      <th>9</th>\n",
              "      <td>35000.0</td>\n",
              "      <td>576788.0</td>\n",
              "      <td>33</td>\n",
              "    </tr>\n",
              "  </tbody>\n",
              "</table>\n",
              "</div>\n",
              "    <div class=\"colab-df-buttons\">\n",
              "\n",
              "  <div class=\"colab-df-container\">\n",
              "    <button class=\"colab-df-convert\" onclick=\"convertToInteractive('df-ccc8cd81-63cb-40dd-9e11-0766b4b77491')\"\n",
              "            title=\"Convert this dataframe to an interactive table.\"\n",
              "            style=\"display:none;\">\n",
              "\n",
              "  <svg xmlns=\"http://www.w3.org/2000/svg\" height=\"24px\" viewBox=\"0 -960 960 960\">\n",
              "    <path d=\"M120-120v-720h720v720H120Zm60-500h600v-160H180v160Zm220 220h160v-160H400v160Zm0 220h160v-160H400v160ZM180-400h160v-160H180v160Zm440 0h160v-160H620v160ZM180-180h160v-160H180v160Zm440 0h160v-160H620v160Z\"/>\n",
              "  </svg>\n",
              "    </button>\n",
              "\n",
              "  <style>\n",
              "    .colab-df-container {\n",
              "      display:flex;\n",
              "      gap: 12px;\n",
              "    }\n",
              "\n",
              "    .colab-df-convert {\n",
              "      background-color: #E8F0FE;\n",
              "      border: none;\n",
              "      border-radius: 50%;\n",
              "      cursor: pointer;\n",
              "      display: none;\n",
              "      fill: #1967D2;\n",
              "      height: 32px;\n",
              "      padding: 0 0 0 0;\n",
              "      width: 32px;\n",
              "    }\n",
              "\n",
              "    .colab-df-convert:hover {\n",
              "      background-color: #E2EBFA;\n",
              "      box-shadow: 0px 1px 2px rgba(60, 64, 67, 0.3), 0px 1px 3px 1px rgba(60, 64, 67, 0.15);\n",
              "      fill: #174EA6;\n",
              "    }\n",
              "\n",
              "    .colab-df-buttons div {\n",
              "      margin-bottom: 4px;\n",
              "    }\n",
              "\n",
              "    [theme=dark] .colab-df-convert {\n",
              "      background-color: #3B4455;\n",
              "      fill: #D2E3FC;\n",
              "    }\n",
              "\n",
              "    [theme=dark] .colab-df-convert:hover {\n",
              "      background-color: #434B5C;\n",
              "      box-shadow: 0px 1px 3px 1px rgba(0, 0, 0, 0.15);\n",
              "      filter: drop-shadow(0px 1px 2px rgba(0, 0, 0, 0.3));\n",
              "      fill: #FFFFFF;\n",
              "    }\n",
              "  </style>\n",
              "\n",
              "    <script>\n",
              "      const buttonEl =\n",
              "        document.querySelector('#df-ccc8cd81-63cb-40dd-9e11-0766b4b77491 button.colab-df-convert');\n",
              "      buttonEl.style.display =\n",
              "        google.colab.kernel.accessAllowed ? 'block' : 'none';\n",
              "\n",
              "      async function convertToInteractive(key) {\n",
              "        const element = document.querySelector('#df-ccc8cd81-63cb-40dd-9e11-0766b4b77491');\n",
              "        const dataTable =\n",
              "          await google.colab.kernel.invokeFunction('convertToInteractive',\n",
              "                                                    [key], {});\n",
              "        if (!dataTable) return;\n",
              "\n",
              "        const docLinkHtml = 'Like what you see? Visit the ' +\n",
              "          '<a target=\"_blank\" href=https://colab.research.google.com/notebooks/data_table.ipynb>data table notebook</a>'\n",
              "          + ' to learn more about interactive tables.';\n",
              "        element.innerHTML = '';\n",
              "        dataTable['output_type'] = 'display_data';\n",
              "        await google.colab.output.renderOutput(dataTable, element);\n",
              "        const docLink = document.createElement('div');\n",
              "        docLink.innerHTML = docLinkHtml;\n",
              "        element.appendChild(docLink);\n",
              "      }\n",
              "    </script>\n",
              "  </div>\n",
              "\n",
              "\n",
              "<div id=\"df-5b103260-6a46-4003-9021-57b977884ab7\">\n",
              "  <button class=\"colab-df-quickchart\" onclick=\"quickchart('df-5b103260-6a46-4003-9021-57b977884ab7')\"\n",
              "            title=\"Suggest charts\"\n",
              "            style=\"display:none;\">\n",
              "\n",
              "<svg xmlns=\"http://www.w3.org/2000/svg\" height=\"24px\"viewBox=\"0 0 24 24\"\n",
              "     width=\"24px\">\n",
              "    <g>\n",
              "        <path d=\"M19 3H5c-1.1 0-2 .9-2 2v14c0 1.1.9 2 2 2h14c1.1 0 2-.9 2-2V5c0-1.1-.9-2-2-2zM9 17H7v-7h2v7zm4 0h-2V7h2v10zm4 0h-2v-4h2v4z\"/>\n",
              "    </g>\n",
              "</svg>\n",
              "  </button>\n",
              "\n",
              "<style>\n",
              "  .colab-df-quickchart {\n",
              "      --bg-color: #E8F0FE;\n",
              "      --fill-color: #1967D2;\n",
              "      --hover-bg-color: #E2EBFA;\n",
              "      --hover-fill-color: #174EA6;\n",
              "      --disabled-fill-color: #AAA;\n",
              "      --disabled-bg-color: #DDD;\n",
              "  }\n",
              "\n",
              "  [theme=dark] .colab-df-quickchart {\n",
              "      --bg-color: #3B4455;\n",
              "      --fill-color: #D2E3FC;\n",
              "      --hover-bg-color: #434B5C;\n",
              "      --hover-fill-color: #FFFFFF;\n",
              "      --disabled-bg-color: #3B4455;\n",
              "      --disabled-fill-color: #666;\n",
              "  }\n",
              "\n",
              "  .colab-df-quickchart {\n",
              "    background-color: var(--bg-color);\n",
              "    border: none;\n",
              "    border-radius: 50%;\n",
              "    cursor: pointer;\n",
              "    display: none;\n",
              "    fill: var(--fill-color);\n",
              "    height: 32px;\n",
              "    padding: 0;\n",
              "    width: 32px;\n",
              "  }\n",
              "\n",
              "  .colab-df-quickchart:hover {\n",
              "    background-color: var(--hover-bg-color);\n",
              "    box-shadow: 0 1px 2px rgba(60, 64, 67, 0.3), 0 1px 3px 1px rgba(60, 64, 67, 0.15);\n",
              "    fill: var(--button-hover-fill-color);\n",
              "  }\n",
              "\n",
              "  .colab-df-quickchart-complete:disabled,\n",
              "  .colab-df-quickchart-complete:disabled:hover {\n",
              "    background-color: var(--disabled-bg-color);\n",
              "    fill: var(--disabled-fill-color);\n",
              "    box-shadow: none;\n",
              "  }\n",
              "\n",
              "  .colab-df-spinner {\n",
              "    border: 2px solid var(--fill-color);\n",
              "    border-color: transparent;\n",
              "    border-bottom-color: var(--fill-color);\n",
              "    animation:\n",
              "      spin 1s steps(1) infinite;\n",
              "  }\n",
              "\n",
              "  @keyframes spin {\n",
              "    0% {\n",
              "      border-color: transparent;\n",
              "      border-bottom-color: var(--fill-color);\n",
              "      border-left-color: var(--fill-color);\n",
              "    }\n",
              "    20% {\n",
              "      border-color: transparent;\n",
              "      border-left-color: var(--fill-color);\n",
              "      border-top-color: var(--fill-color);\n",
              "    }\n",
              "    30% {\n",
              "      border-color: transparent;\n",
              "      border-left-color: var(--fill-color);\n",
              "      border-top-color: var(--fill-color);\n",
              "      border-right-color: var(--fill-color);\n",
              "    }\n",
              "    40% {\n",
              "      border-color: transparent;\n",
              "      border-right-color: var(--fill-color);\n",
              "      border-top-color: var(--fill-color);\n",
              "    }\n",
              "    60% {\n",
              "      border-color: transparent;\n",
              "      border-right-color: var(--fill-color);\n",
              "    }\n",
              "    80% {\n",
              "      border-color: transparent;\n",
              "      border-right-color: var(--fill-color);\n",
              "      border-bottom-color: var(--fill-color);\n",
              "    }\n",
              "    90% {\n",
              "      border-color: transparent;\n",
              "      border-bottom-color: var(--fill-color);\n",
              "    }\n",
              "  }\n",
              "</style>\n",
              "\n",
              "  <script>\n",
              "    async function quickchart(key) {\n",
              "      const quickchartButtonEl =\n",
              "        document.querySelector('#' + key + ' button');\n",
              "      quickchartButtonEl.disabled = true;  // To prevent multiple clicks.\n",
              "      quickchartButtonEl.classList.add('colab-df-spinner');\n",
              "      try {\n",
              "        const charts = await google.colab.kernel.invokeFunction(\n",
              "            'suggestCharts', [key], {});\n",
              "      } catch (error) {\n",
              "        console.error('Error during call to suggestCharts:', error);\n",
              "      }\n",
              "      quickchartButtonEl.classList.remove('colab-df-spinner');\n",
              "      quickchartButtonEl.classList.add('colab-df-quickchart-complete');\n",
              "    }\n",
              "    (() => {\n",
              "      let quickchartButtonEl =\n",
              "        document.querySelector('#df-5b103260-6a46-4003-9021-57b977884ab7 button');\n",
              "      quickchartButtonEl.style.display =\n",
              "        google.colab.kernel.accessAllowed ? 'block' : 'none';\n",
              "    })();\n",
              "  </script>\n",
              "</div>\n",
              "\n",
              "    </div>\n",
              "  </div>\n"
            ],
            "application/vnd.google.colaboratory.intrinsic+json": {
              "type": "dataframe",
              "summary": "{\n  \"name\": \"pd\",\n  \"rows\": 10,\n  \"fields\": [\n    {\n      \"column\": [\n        \"equal_fee_binned\",\n        \"\"\n      ],\n      \"properties\": {\n        \"dtype\": \"number\",\n        \"std\": 3,\n        \"min\": 0,\n        \"max\": 9,\n        \"num_unique_values\": 10,\n        \"samples\": [\n          8,\n          1,\n          5\n        ],\n        \"semantic_type\": \"\",\n        \"description\": \"\"\n      }\n    },\n    {\n      \"column\": [\n        \"min\",\n        \"fee_probable\"\n      ],\n      \"properties\": {\n        \"dtype\": \"number\",\n        \"std\": 10289.416407163237,\n        \"min\": 350.0,\n        \"max\": 35000.0,\n        \"num_unique_values\": 10,\n        \"samples\": [\n          15190.0,\n          1770.0,\n          5450.0\n        ],\n        \"semantic_type\": \"\",\n        \"description\": \"\"\n      }\n    },\n    {\n      \"column\": [\n        \"max\",\n        \"fee_probable\"\n      ],\n      \"properties\": {\n        \"dtype\": \"number\",\n        \"std\": 179792.72463531134,\n        \"min\": 1695.0,\n        \"max\": 576788.0,\n        \"num_unique_values\": 10,\n        \"samples\": [\n          33065.0,\n          2650.0,\n          6590.0\n        ],\n        \"semantic_type\": \"\",\n        \"description\": \"\"\n      }\n    },\n    {\n      \"column\": [\n        \"count\",\n        \"fee_probable\"\n      ],\n      \"properties\": {\n        \"dtype\": \"number\",\n        \"std\": 7,\n        \"min\": 24,\n        \"max\": 51,\n        \"num_unique_values\": 9,\n        \"samples\": [\n          36,\n          33,\n          24\n        ],\n        \"semantic_type\": \"\",\n        \"description\": \"\"\n      }\n    }\n  ]\n}"
            }
          },
          "metadata": {},
          "execution_count": 763
        }
      ]
    },
    {
      "cell_type": "code",
      "source": [
        "X_test_all = X_test_all.drop('fee_probable', axis=1)"
      ],
      "metadata": {
        "id": "cfjHJu5lGM_M"
      },
      "execution_count": null,
      "outputs": []
    },
    {
      "cell_type": "code",
      "source": [
        "#convert the fee bins to dummy variables\n",
        "X_train_all = pd.get_dummies(X_train_all, columns=['equal_fee_binned'], prefix = 'fee')\n",
        "X_test_all = pd.get_dummies(X_test_all, columns=['equal_fee_binned'], prefix = 'fee')"
      ],
      "metadata": {
        "id": "yprbGIMpXieL"
      },
      "execution_count": null,
      "outputs": []
    },
    {
      "cell_type": "code",
      "source": [
        "X_train_all.info()"
      ],
      "metadata": {
        "colab": {
          "base_uri": "https://localhost:8080/"
        },
        "id": "QxYm9hip-ybA",
        "outputId": "9b041637-21f7-43f6-f606-9ce03adfa79f"
      },
      "execution_count": null,
      "outputs": [
        {
          "output_type": "stream",
          "name": "stdout",
          "text": [
            "<class 'pandas.core.frame.DataFrame'>\n",
            "Index: 1345 entries, 38 to 363\n",
            "Data columns (total 43 columns):\n",
            " #   Column                         Non-Null Count  Dtype\n",
            "---  ------                         --------------  -----\n",
            " 0   project_type_BCA               1345 non-null   bool \n",
            " 1   project_type_Consult           1345 non-null   bool \n",
            " 2   project_type_Envelope          1345 non-null   bool \n",
            " 3   project_type_Garage            1345 non-null   bool \n",
            " 4   project_type_Mechanical        1345 non-null   bool \n",
            " 5   project_type_Other             1345 non-null   bool \n",
            " 6   project_type_PA & Class 1 RFS  1345 non-null   bool \n",
            " 7   project_type_PCA               1345 non-null   bool \n",
            " 8   project_type_Roofing           1345 non-null   bool \n",
            " 9   sow_BCA                        1345 non-null   bool \n",
            " 10  sow_BCA & RFS                  1345 non-null   bool \n",
            " 11  sow_Balcony                    1345 non-null   bool \n",
            " 12  sow_Consult                    1345 non-null   bool \n",
            " 13  sow_Envelope                   1345 non-null   bool \n",
            " 14  sow_Garage                     1345 non-null   bool \n",
            " 15  sow_Mechanical                 1345 non-null   bool \n",
            " 16  sow_Other                      1345 non-null   bool \n",
            " 17  sow_PA & Class 1 RFS           1345 non-null   bool \n",
            " 18  sow_PA1, C1, PA2               1345 non-null   bool \n",
            " 19  sow_PCA                        1345 non-null   bool \n",
            " 20  sow_PPA                        1345 non-null   bool \n",
            " 21  sow_Pavement                   1345 non-null   bool \n",
            " 22  sow_Renovation                 1345 non-null   bool \n",
            " 23  sow_Roofing                    1345 non-null   bool \n",
            " 24  sow_Structural                 1345 non-null   bool \n",
            " 25  region_EO                      1345 non-null   bool \n",
            " 26  region_GH                      1345 non-null   bool \n",
            " 27  region_HUR                     1345 non-null   bool \n",
            " 28  region_Other                   1345 non-null   bool \n",
            " 29  region_PC                      1345 non-null   bool \n",
            " 30  region_TOR                     1345 non-null   bool \n",
            " 31  region_Unknown                 1345 non-null   bool \n",
            " 32  region_YR                      1345 non-null   bool \n",
            " 33  fee_0                          1345 non-null   bool \n",
            " 34  fee_1                          1345 non-null   bool \n",
            " 35  fee_2                          1345 non-null   bool \n",
            " 36  fee_3                          1345 non-null   bool \n",
            " 37  fee_4                          1345 non-null   bool \n",
            " 38  fee_5                          1345 non-null   bool \n",
            " 39  fee_6                          1345 non-null   bool \n",
            " 40  fee_7                          1345 non-null   bool \n",
            " 41  fee_8                          1345 non-null   bool \n",
            " 42  fee_9                          1345 non-null   bool \n",
            "dtypes: bool(43)\n",
            "memory usage: 67.0 KB\n"
          ]
        }
      ]
    },
    {
      "cell_type": "code",
      "source": [
        "X_test_all.info()"
      ],
      "metadata": {
        "colab": {
          "base_uri": "https://localhost:8080/"
        },
        "collapsed": true,
        "id": "uytf6tkdGXyi",
        "outputId": "34276bcb-d73b-4804-d719-aaf5ecbf48ca"
      },
      "execution_count": null,
      "outputs": [
        {
          "output_type": "stream",
          "name": "stdout",
          "text": [
            "<class 'pandas.core.frame.DataFrame'>\n",
            "Index: 337 entries, 233 to 1285\n",
            "Data columns (total 43 columns):\n",
            " #   Column                         Non-Null Count  Dtype\n",
            "---  ------                         --------------  -----\n",
            " 0   project_type_BCA               337 non-null    bool \n",
            " 1   project_type_Consult           337 non-null    bool \n",
            " 2   project_type_Envelope          337 non-null    bool \n",
            " 3   project_type_Garage            337 non-null    bool \n",
            " 4   project_type_Mechanical        337 non-null    bool \n",
            " 5   project_type_Other             337 non-null    bool \n",
            " 6   project_type_PA & Class 1 RFS  337 non-null    bool \n",
            " 7   project_type_PCA               337 non-null    bool \n",
            " 8   project_type_Roofing           337 non-null    bool \n",
            " 9   sow_BCA                        337 non-null    bool \n",
            " 10  sow_BCA & RFS                  337 non-null    bool \n",
            " 11  sow_Balcony                    337 non-null    bool \n",
            " 12  sow_Consult                    337 non-null    bool \n",
            " 13  sow_Envelope                   337 non-null    bool \n",
            " 14  sow_Garage                     337 non-null    bool \n",
            " 15  sow_Mechanical                 337 non-null    bool \n",
            " 16  sow_Other                      337 non-null    bool \n",
            " 17  sow_PA & Class 1 RFS           337 non-null    bool \n",
            " 18  sow_PA1, C1, PA2               337 non-null    bool \n",
            " 19  sow_PCA                        337 non-null    bool \n",
            " 20  sow_PPA                        337 non-null    bool \n",
            " 21  sow_Pavement                   337 non-null    bool \n",
            " 22  sow_Renovation                 337 non-null    bool \n",
            " 23  sow_Roofing                    337 non-null    bool \n",
            " 24  sow_Structural                 337 non-null    bool \n",
            " 25  region_EO                      337 non-null    bool \n",
            " 26  region_GH                      337 non-null    bool \n",
            " 27  region_HUR                     337 non-null    bool \n",
            " 28  region_Other                   337 non-null    bool \n",
            " 29  region_PC                      337 non-null    bool \n",
            " 30  region_TOR                     337 non-null    bool \n",
            " 31  region_Unknown                 337 non-null    bool \n",
            " 32  region_YR                      337 non-null    bool \n",
            " 33  fee_0                          337 non-null    bool \n",
            " 34  fee_1                          337 non-null    bool \n",
            " 35  fee_2                          337 non-null    bool \n",
            " 36  fee_3                          337 non-null    bool \n",
            " 37  fee_4                          337 non-null    bool \n",
            " 38  fee_5                          337 non-null    bool \n",
            " 39  fee_6                          337 non-null    bool \n",
            " 40  fee_7                          337 non-null    bool \n",
            " 41  fee_8                          337 non-null    bool \n",
            " 42  fee_9                          337 non-null    bool \n",
            "dtypes: bool(43)\n",
            "memory usage: 16.8 KB\n"
          ]
        }
      ]
    },
    {
      "cell_type": "markdown",
      "source": [
        "The ALL data is now ready for modelling"
      ],
      "metadata": {
        "id": "H9LtDTMTG6On"
      }
    },
    {
      "cell_type": "markdown",
      "source": [
        "# **RFS Model Feature Prep**"
      ],
      "metadata": {
        "id": "MaqM8wunHF4Z"
      }
    },
    {
      "cell_type": "markdown",
      "source": [
        "The model will be applied to proposals for Reserve Fund Studies. The data is consistently much more complete for this project type, so there are more features that will be included\n",
        "*   region\n",
        "*   fee_probable\n",
        "*   sow\n",
        "*   prev_rfs\n",
        "*   reminder\n",
        "*   building_type\n",
        "*   units\n",
        "\n",
        "project_type has been excluded from this list since it would be RFS for all records\n"
      ],
      "metadata": {
        "id": "tYFige2aHMN2"
      }
    },
    {
      "cell_type": "markdown",
      "source": [
        "**SOW**"
      ],
      "metadata": {
        "id": "-X5Q1u1QJrOW"
      }
    },
    {
      "cell_type": "markdown",
      "source": [
        "This is the column we'll use to identify projects that are RFSs"
      ],
      "metadata": {
        "id": "l_G1E_wRJ7dj"
      }
    },
    {
      "cell_type": "code",
      "source": [
        "#From the below list we'll be using Class 2 RFS, Update RFS, PA & Class 1 RFS, Class 1 RFS and Class 3 RFS\n",
        "prop['sow'].value_counts(dropna=False)"
      ],
      "metadata": {
        "colab": {
          "base_uri": "https://localhost:8080/",
          "height": 1000
        },
        "collapsed": true,
        "id": "FX3JI-OIJ6cO",
        "outputId": "71c885bc-03a7-4686-b559-8450980c1490"
      },
      "execution_count": null,
      "outputs": [
        {
          "output_type": "execute_result",
          "data": {
            "text/plain": [
              "sow\n",
              "Class 2 RFS            844\n",
              "Update RFS             457\n",
              "Consult                285\n",
              "PCA                    268\n",
              "BCA                    258\n",
              "Roofing                153\n",
              "Mechanical             116\n",
              "Envelope               101\n",
              "Garage                  98\n",
              "PA & Class 1 RFS        88\n",
              "Class 1 RFS             53\n",
              "PPA                     52\n",
              "Balcony                 46\n",
              "BCA & RFS               33\n",
              "PA1, C1, PA2            27\n",
              "Structural              27\n",
              "Pavement                22\n",
              "Windows                 18\n",
              "Class 3 RFS             16\n",
              "Renovation              15\n",
              "Landscaping             14\n",
              "PA Follow-Up            12\n",
              "Accessibility Audit      9\n",
              "Sealants                 8\n",
              "Bulletin 18              7\n",
              "PA Year 7                6\n",
              "C2 RFS with C3 Fee       5\n",
              "PA Year 1                4\n",
              "Stairs                   2\n",
              "Doors                    2\n",
              "Electrical               2\n",
              "PA Year 2                1\n",
              "PCA/ESA                  1\n",
              "PCA & ESA                1\n",
              "Energy Audits            1\n",
              "Name: count, dtype: int64"
            ],
            "text/html": [
              "<div>\n",
              "<style scoped>\n",
              "    .dataframe tbody tr th:only-of-type {\n",
              "        vertical-align: middle;\n",
              "    }\n",
              "\n",
              "    .dataframe tbody tr th {\n",
              "        vertical-align: top;\n",
              "    }\n",
              "\n",
              "    .dataframe thead th {\n",
              "        text-align: right;\n",
              "    }\n",
              "</style>\n",
              "<table border=\"1\" class=\"dataframe\">\n",
              "  <thead>\n",
              "    <tr style=\"text-align: right;\">\n",
              "      <th></th>\n",
              "      <th>count</th>\n",
              "    </tr>\n",
              "    <tr>\n",
              "      <th>sow</th>\n",
              "      <th></th>\n",
              "    </tr>\n",
              "  </thead>\n",
              "  <tbody>\n",
              "    <tr>\n",
              "      <th>Class 2 RFS</th>\n",
              "      <td>844</td>\n",
              "    </tr>\n",
              "    <tr>\n",
              "      <th>Update RFS</th>\n",
              "      <td>457</td>\n",
              "    </tr>\n",
              "    <tr>\n",
              "      <th>Consult</th>\n",
              "      <td>285</td>\n",
              "    </tr>\n",
              "    <tr>\n",
              "      <th>PCA</th>\n",
              "      <td>268</td>\n",
              "    </tr>\n",
              "    <tr>\n",
              "      <th>BCA</th>\n",
              "      <td>258</td>\n",
              "    </tr>\n",
              "    <tr>\n",
              "      <th>Roofing</th>\n",
              "      <td>153</td>\n",
              "    </tr>\n",
              "    <tr>\n",
              "      <th>Mechanical</th>\n",
              "      <td>116</td>\n",
              "    </tr>\n",
              "    <tr>\n",
              "      <th>Envelope</th>\n",
              "      <td>101</td>\n",
              "    </tr>\n",
              "    <tr>\n",
              "      <th>Garage</th>\n",
              "      <td>98</td>\n",
              "    </tr>\n",
              "    <tr>\n",
              "      <th>PA &amp; Class 1 RFS</th>\n",
              "      <td>88</td>\n",
              "    </tr>\n",
              "    <tr>\n",
              "      <th>Class 1 RFS</th>\n",
              "      <td>53</td>\n",
              "    </tr>\n",
              "    <tr>\n",
              "      <th>PPA</th>\n",
              "      <td>52</td>\n",
              "    </tr>\n",
              "    <tr>\n",
              "      <th>Balcony</th>\n",
              "      <td>46</td>\n",
              "    </tr>\n",
              "    <tr>\n",
              "      <th>BCA &amp; RFS</th>\n",
              "      <td>33</td>\n",
              "    </tr>\n",
              "    <tr>\n",
              "      <th>PA1, C1, PA2</th>\n",
              "      <td>27</td>\n",
              "    </tr>\n",
              "    <tr>\n",
              "      <th>Structural</th>\n",
              "      <td>27</td>\n",
              "    </tr>\n",
              "    <tr>\n",
              "      <th>Pavement</th>\n",
              "      <td>22</td>\n",
              "    </tr>\n",
              "    <tr>\n",
              "      <th>Windows</th>\n",
              "      <td>18</td>\n",
              "    </tr>\n",
              "    <tr>\n",
              "      <th>Class 3 RFS</th>\n",
              "      <td>16</td>\n",
              "    </tr>\n",
              "    <tr>\n",
              "      <th>Renovation</th>\n",
              "      <td>15</td>\n",
              "    </tr>\n",
              "    <tr>\n",
              "      <th>Landscaping</th>\n",
              "      <td>14</td>\n",
              "    </tr>\n",
              "    <tr>\n",
              "      <th>PA Follow-Up</th>\n",
              "      <td>12</td>\n",
              "    </tr>\n",
              "    <tr>\n",
              "      <th>Accessibility Audit</th>\n",
              "      <td>9</td>\n",
              "    </tr>\n",
              "    <tr>\n",
              "      <th>Sealants</th>\n",
              "      <td>8</td>\n",
              "    </tr>\n",
              "    <tr>\n",
              "      <th>Bulletin 18</th>\n",
              "      <td>7</td>\n",
              "    </tr>\n",
              "    <tr>\n",
              "      <th>PA Year 7</th>\n",
              "      <td>6</td>\n",
              "    </tr>\n",
              "    <tr>\n",
              "      <th>C2 RFS with C3 Fee</th>\n",
              "      <td>5</td>\n",
              "    </tr>\n",
              "    <tr>\n",
              "      <th>PA Year 1</th>\n",
              "      <td>4</td>\n",
              "    </tr>\n",
              "    <tr>\n",
              "      <th>Stairs</th>\n",
              "      <td>2</td>\n",
              "    </tr>\n",
              "    <tr>\n",
              "      <th>Doors</th>\n",
              "      <td>2</td>\n",
              "    </tr>\n",
              "    <tr>\n",
              "      <th>Electrical</th>\n",
              "      <td>2</td>\n",
              "    </tr>\n",
              "    <tr>\n",
              "      <th>PA Year 2</th>\n",
              "      <td>1</td>\n",
              "    </tr>\n",
              "    <tr>\n",
              "      <th>PCA/ESA</th>\n",
              "      <td>1</td>\n",
              "    </tr>\n",
              "    <tr>\n",
              "      <th>PCA &amp; ESA</th>\n",
              "      <td>1</td>\n",
              "    </tr>\n",
              "    <tr>\n",
              "      <th>Energy Audits</th>\n",
              "      <td>1</td>\n",
              "    </tr>\n",
              "  </tbody>\n",
              "</table>\n",
              "</div><br><label><b>dtype:</b> int64</label>"
            ]
          },
          "metadata": {},
          "execution_count": 768
        }
      ]
    },
    {
      "cell_type": "code",
      "source": [
        "#create a new df rfs with all rfs proposals\n",
        "rfs = prop[prop['sow'].isin(['Class 2 RFS', 'Update RFS', 'Class 1 RFS', 'Class 3 RFS'])]"
      ],
      "metadata": {
        "id": "z2zjJcA5Luv9"
      },
      "execution_count": null,
      "outputs": []
    },
    {
      "cell_type": "code",
      "source": [
        "rfs['sow'].value_counts(dropna=False)"
      ],
      "metadata": {
        "colab": {
          "base_uri": "https://localhost:8080/",
          "height": 241
        },
        "id": "Q9vjm-a5MYOH",
        "outputId": "dad85b59-0365-4ebe-d12d-a2f7fed06b4b"
      },
      "execution_count": null,
      "outputs": [
        {
          "output_type": "execute_result",
          "data": {
            "text/plain": [
              "sow\n",
              "Class 2 RFS    844\n",
              "Update RFS     457\n",
              "Class 1 RFS     53\n",
              "Class 3 RFS     16\n",
              "Name: count, dtype: int64"
            ],
            "text/html": [
              "<div>\n",
              "<style scoped>\n",
              "    .dataframe tbody tr th:only-of-type {\n",
              "        vertical-align: middle;\n",
              "    }\n",
              "\n",
              "    .dataframe tbody tr th {\n",
              "        vertical-align: top;\n",
              "    }\n",
              "\n",
              "    .dataframe thead th {\n",
              "        text-align: right;\n",
              "    }\n",
              "</style>\n",
              "<table border=\"1\" class=\"dataframe\">\n",
              "  <thead>\n",
              "    <tr style=\"text-align: right;\">\n",
              "      <th></th>\n",
              "      <th>count</th>\n",
              "    </tr>\n",
              "    <tr>\n",
              "      <th>sow</th>\n",
              "      <th></th>\n",
              "    </tr>\n",
              "  </thead>\n",
              "  <tbody>\n",
              "    <tr>\n",
              "      <th>Class 2 RFS</th>\n",
              "      <td>844</td>\n",
              "    </tr>\n",
              "    <tr>\n",
              "      <th>Update RFS</th>\n",
              "      <td>457</td>\n",
              "    </tr>\n",
              "    <tr>\n",
              "      <th>Class 1 RFS</th>\n",
              "      <td>53</td>\n",
              "    </tr>\n",
              "    <tr>\n",
              "      <th>Class 3 RFS</th>\n",
              "      <td>16</td>\n",
              "    </tr>\n",
              "  </tbody>\n",
              "</table>\n",
              "</div><br><label><b>dtype:</b> int64</label>"
            ]
          },
          "metadata": {},
          "execution_count": 770
        }
      ]
    },
    {
      "cell_type": "code",
      "source": [
        "#We are left with 1458 records, and can already see that units is the only column where we will have nulls to deal with\n",
        "rfs.info()"
      ],
      "metadata": {
        "colab": {
          "base_uri": "https://localhost:8080/"
        },
        "id": "8_IeJGF7MCxz",
        "outputId": "a62486b1-8c1a-42a8-ea3f-046e1250eae7"
      },
      "execution_count": null,
      "outputs": [
        {
          "output_type": "stream",
          "name": "stdout",
          "text": [
            "<class 'pandas.core.frame.DataFrame'>\n",
            "Index: 1370 entries, 0 to 3150\n",
            "Data columns (total 9 columns):\n",
            " #   Column         Non-Null Count  Dtype  \n",
            "---  ------         --------------  -----  \n",
            " 0   region         1370 non-null   object \n",
            " 1   prev_rfs       1370 non-null   object \n",
            " 2   reminder       1370 non-null   object \n",
            " 3   fee_probable   1370 non-null   float64\n",
            " 4   outcome        1370 non-null   int64  \n",
            " 5   project_type   1370 non-null   object \n",
            " 6   building_type  1370 non-null   object \n",
            " 7   units          1245 non-null   float64\n",
            " 8   sow            1370 non-null   object \n",
            "dtypes: float64(2), int64(1), object(6)\n",
            "memory usage: 107.0+ KB\n"
          ]
        }
      ]
    },
    {
      "cell_type": "code",
      "source": [
        "#We'll convert the sow column to dummies\n",
        "rfs = pd.get_dummies(rfs, columns=['sow'], prefix = 'sow')"
      ],
      "metadata": {
        "id": "-CHOtlKfJLyS"
      },
      "execution_count": null,
      "outputs": []
    },
    {
      "cell_type": "code",
      "source": [
        "rfs.info()"
      ],
      "metadata": {
        "colab": {
          "base_uri": "https://localhost:8080/"
        },
        "id": "S4XP8OIuJW01",
        "outputId": "67437d3e-1e75-4874-beae-c69c1539b2a4"
      },
      "execution_count": null,
      "outputs": [
        {
          "output_type": "stream",
          "name": "stdout",
          "text": [
            "<class 'pandas.core.frame.DataFrame'>\n",
            "Index: 1370 entries, 0 to 3150\n",
            "Data columns (total 12 columns):\n",
            " #   Column           Non-Null Count  Dtype  \n",
            "---  ------           --------------  -----  \n",
            " 0   region           1370 non-null   object \n",
            " 1   prev_rfs         1370 non-null   object \n",
            " 2   reminder         1370 non-null   object \n",
            " 3   fee_probable     1370 non-null   float64\n",
            " 4   outcome          1370 non-null   int64  \n",
            " 5   project_type     1370 non-null   object \n",
            " 6   building_type    1370 non-null   object \n",
            " 7   units            1245 non-null   float64\n",
            " 8   sow_Class 1 RFS  1370 non-null   bool   \n",
            " 9   sow_Class 2 RFS  1370 non-null   bool   \n",
            " 10  sow_Class 3 RFS  1370 non-null   bool   \n",
            " 11  sow_Update RFS   1370 non-null   bool   \n",
            "dtypes: bool(4), float64(2), int64(1), object(5)\n",
            "memory usage: 101.7+ KB\n"
          ]
        }
      ]
    },
    {
      "cell_type": "markdown",
      "source": [
        "***region***"
      ],
      "metadata": {
        "id": "yGdokqkaOQ4o"
      }
    },
    {
      "cell_type": "markdown",
      "source": [
        "We already checked this one for the ALL model data,"
      ],
      "metadata": {
        "id": "jGcMo7aSOVPi"
      }
    },
    {
      "cell_type": "code",
      "source": [
        "rfs['region'].value_counts(dropna=False)"
      ],
      "metadata": {
        "colab": {
          "base_uri": "https://localhost:8080/",
          "height": 429
        },
        "id": "7z4CcXOROieN",
        "outputId": "cccda9df-02ac-4296-ef18-5f62e0753ab8"
      },
      "execution_count": null,
      "outputs": [
        {
          "output_type": "execute_result",
          "data": {
            "text/plain": [
              "region\n",
              "TOR        528\n",
              "EO         208\n",
              "HUR        201\n",
              "YR         175\n",
              "PC         120\n",
              "Unknown     66\n",
              "GH          54\n",
              "GR           8\n",
              "LON          7\n",
              "WIN          3\n",
              "Name: count, dtype: int64"
            ],
            "text/html": [
              "<div>\n",
              "<style scoped>\n",
              "    .dataframe tbody tr th:only-of-type {\n",
              "        vertical-align: middle;\n",
              "    }\n",
              "\n",
              "    .dataframe tbody tr th {\n",
              "        vertical-align: top;\n",
              "    }\n",
              "\n",
              "    .dataframe thead th {\n",
              "        text-align: right;\n",
              "    }\n",
              "</style>\n",
              "<table border=\"1\" class=\"dataframe\">\n",
              "  <thead>\n",
              "    <tr style=\"text-align: right;\">\n",
              "      <th></th>\n",
              "      <th>count</th>\n",
              "    </tr>\n",
              "    <tr>\n",
              "      <th>region</th>\n",
              "      <th></th>\n",
              "    </tr>\n",
              "  </thead>\n",
              "  <tbody>\n",
              "    <tr>\n",
              "      <th>TOR</th>\n",
              "      <td>528</td>\n",
              "    </tr>\n",
              "    <tr>\n",
              "      <th>EO</th>\n",
              "      <td>208</td>\n",
              "    </tr>\n",
              "    <tr>\n",
              "      <th>HUR</th>\n",
              "      <td>201</td>\n",
              "    </tr>\n",
              "    <tr>\n",
              "      <th>YR</th>\n",
              "      <td>175</td>\n",
              "    </tr>\n",
              "    <tr>\n",
              "      <th>PC</th>\n",
              "      <td>120</td>\n",
              "    </tr>\n",
              "    <tr>\n",
              "      <th>Unknown</th>\n",
              "      <td>66</td>\n",
              "    </tr>\n",
              "    <tr>\n",
              "      <th>GH</th>\n",
              "      <td>54</td>\n",
              "    </tr>\n",
              "    <tr>\n",
              "      <th>GR</th>\n",
              "      <td>8</td>\n",
              "    </tr>\n",
              "    <tr>\n",
              "      <th>LON</th>\n",
              "      <td>7</td>\n",
              "    </tr>\n",
              "    <tr>\n",
              "      <th>WIN</th>\n",
              "      <td>3</td>\n",
              "    </tr>\n",
              "  </tbody>\n",
              "</table>\n",
              "</div><br><label><b>dtype:</b> int64</label>"
            ]
          },
          "metadata": {},
          "execution_count": 774
        }
      ]
    },
    {
      "cell_type": "code",
      "source": [
        "#we'll apply the same goruping we did to the ALL data\n",
        "rfs['region'] = rfs['region'].replace({\n",
        "    'WIN': 'Other',\n",
        "    'GR': 'Other',\n",
        "    'LON': 'Other'\n",
        "})"
      ],
      "metadata": {
        "id": "0JnrGQtGOfMS"
      },
      "execution_count": null,
      "outputs": []
    },
    {
      "cell_type": "code",
      "source": [
        "#create dummies\n",
        "rfs = pd.get_dummies(rfs, columns=['region'], prefix = 'region')"
      ],
      "metadata": {
        "id": "wdHEknr1IkP2"
      },
      "execution_count": null,
      "outputs": []
    },
    {
      "cell_type": "code",
      "source": [
        "#We'll drop the unknown region column\n",
        "rfs = rfs.drop('region_Unknown', axis=1)"
      ],
      "metadata": {
        "id": "9LzvwnNSv2Vu"
      },
      "execution_count": null,
      "outputs": []
    },
    {
      "cell_type": "code",
      "source": [
        "rfs.info()"
      ],
      "metadata": {
        "colab": {
          "base_uri": "https://localhost:8080/"
        },
        "id": "iovmR_O0Jbox",
        "outputId": "0a995991-d21d-45b1-c489-f0021c99d810"
      },
      "execution_count": null,
      "outputs": [
        {
          "output_type": "stream",
          "name": "stdout",
          "text": [
            "<class 'pandas.core.frame.DataFrame'>\n",
            "Index: 1370 entries, 0 to 3150\n",
            "Data columns (total 18 columns):\n",
            " #   Column           Non-Null Count  Dtype  \n",
            "---  ------           --------------  -----  \n",
            " 0   prev_rfs         1370 non-null   object \n",
            " 1   reminder         1370 non-null   object \n",
            " 2   fee_probable     1370 non-null   float64\n",
            " 3   outcome          1370 non-null   int64  \n",
            " 4   project_type     1370 non-null   object \n",
            " 5   building_type    1370 non-null   object \n",
            " 6   units            1245 non-null   float64\n",
            " 7   sow_Class 1 RFS  1370 non-null   bool   \n",
            " 8   sow_Class 2 RFS  1370 non-null   bool   \n",
            " 9   sow_Class 3 RFS  1370 non-null   bool   \n",
            " 10  sow_Update RFS   1370 non-null   bool   \n",
            " 11  region_EO        1370 non-null   bool   \n",
            " 12  region_GH        1370 non-null   bool   \n",
            " 13  region_HUR       1370 non-null   bool   \n",
            " 14  region_Other     1370 non-null   bool   \n",
            " 15  region_PC        1370 non-null   bool   \n",
            " 16  region_TOR       1370 non-null   bool   \n",
            " 17  region_YR        1370 non-null   bool   \n",
            "dtypes: bool(11), float64(2), int64(1), object(4)\n",
            "memory usage: 100.3+ KB\n"
          ]
        }
      ]
    },
    {
      "cell_type": "markdown",
      "source": [
        "**prev_RFS + reminder**"
      ],
      "metadata": {
        "id": "1oobH01rm8gH"
      }
    },
    {
      "cell_type": "markdown",
      "source": [
        "During EDA we noticed that combining these two features into one feature creates stronger significance, so we'll test which results in the best modelling results"
      ],
      "metadata": {
        "id": "C23qVi4Km-X8"
      }
    },
    {
      "cell_type": "code",
      "source": [
        "#create a column called prev_reminder that concatenates the values from prev_rfs and reminder\n",
        "#rfs['prev_reminder'] = rfs['prev_rfs'].astype(str) + '_' + rfs['reminder'].astype(str)"
      ],
      "metadata": {
        "id": "wSC9XjX3nWM3"
      },
      "execution_count": null,
      "outputs": []
    },
    {
      "cell_type": "code",
      "source": [
        "#rfs['prev_reminder'].value_counts(dropna=False)"
      ],
      "metadata": {
        "id": "gg0uED9vnvr4"
      },
      "execution_count": null,
      "outputs": []
    },
    {
      "cell_type": "code",
      "source": [
        "#create dummies\n",
        "#rfs = pd.get_dummies(rfs, columns=['prev_reminder'], prefix = 'prev_reminder')"
      ],
      "metadata": {
        "id": "PKLGtEEsn_yY"
      },
      "execution_count": null,
      "outputs": []
    },
    {
      "cell_type": "code",
      "source": [
        "#rfs.info()"
      ],
      "metadata": {
        "id": "H3EslS6loS0R"
      },
      "execution_count": null,
      "outputs": []
    },
    {
      "cell_type": "code",
      "source": [
        "#rfs = rfs.drop(['prev_rfs', 'reminder', 'prev_reminder_No_Yes'], axis=1)"
      ],
      "metadata": {
        "id": "4GvDyTwwozYX"
      },
      "execution_count": null,
      "outputs": []
    },
    {
      "cell_type": "code",
      "source": [
        "#rfs.info()"
      ],
      "metadata": {
        "id": "iRdiUF_so3aQ"
      },
      "execution_count": null,
      "outputs": []
    },
    {
      "cell_type": "markdown",
      "source": [
        "**prev_rfs**"
      ],
      "metadata": {
        "id": "4wYyYGTgOxi8"
      }
    },
    {
      "cell_type": "code",
      "source": [
        "rfs['prev_rfs'].value_counts(dropna=False)"
      ],
      "metadata": {
        "colab": {
          "base_uri": "https://localhost:8080/",
          "height": 178
        },
        "id": "SXd9yBpNO2Qb",
        "outputId": "ee8546df-8c12-4786-afe5-9659d02e0264"
      },
      "execution_count": null,
      "outputs": [
        {
          "output_type": "execute_result",
          "data": {
            "text/plain": [
              "prev_rfs\n",
              "No     703\n",
              "Yes    667\n",
              "Name: count, dtype: int64"
            ],
            "text/html": [
              "<div>\n",
              "<style scoped>\n",
              "    .dataframe tbody tr th:only-of-type {\n",
              "        vertical-align: middle;\n",
              "    }\n",
              "\n",
              "    .dataframe tbody tr th {\n",
              "        vertical-align: top;\n",
              "    }\n",
              "\n",
              "    .dataframe thead th {\n",
              "        text-align: right;\n",
              "    }\n",
              "</style>\n",
              "<table border=\"1\" class=\"dataframe\">\n",
              "  <thead>\n",
              "    <tr style=\"text-align: right;\">\n",
              "      <th></th>\n",
              "      <th>count</th>\n",
              "    </tr>\n",
              "    <tr>\n",
              "      <th>prev_rfs</th>\n",
              "      <th></th>\n",
              "    </tr>\n",
              "  </thead>\n",
              "  <tbody>\n",
              "    <tr>\n",
              "      <th>No</th>\n",
              "      <td>703</td>\n",
              "    </tr>\n",
              "    <tr>\n",
              "      <th>Yes</th>\n",
              "      <td>667</td>\n",
              "    </tr>\n",
              "  </tbody>\n",
              "</table>\n",
              "</div><br><label><b>dtype:</b> int64</label>"
            ]
          },
          "metadata": {},
          "execution_count": 785
        }
      ]
    },
    {
      "cell_type": "code",
      "source": [
        "#We'll convert this to 1 and 0\n",
        "rfs['prev_rfs'] = rfs['prev_rfs'].replace({'No': 0, 'Yes': 1})"
      ],
      "metadata": {
        "colab": {
          "base_uri": "https://localhost:8080/"
        },
        "id": "k3To9oVmPGEB",
        "outputId": "dd85cd81-1e7e-436d-908d-ee810eedf93c"
      },
      "execution_count": null,
      "outputs": [
        {
          "output_type": "stream",
          "name": "stderr",
          "text": [
            "<ipython-input-786-a839b01b9d29>:2: FutureWarning: Downcasting behavior in `replace` is deprecated and will be removed in a future version. To retain the old behavior, explicitly call `result.infer_objects(copy=False)`. To opt-in to the future behavior, set `pd.set_option('future.no_silent_downcasting', True)`\n",
            "  rfs['prev_rfs'] = rfs['prev_rfs'].replace({'No': 0, 'Yes': 1})\n"
          ]
        }
      ]
    },
    {
      "cell_type": "code",
      "source": [
        "rfs['prev_rfs'].value_counts(dropna=False)"
      ],
      "metadata": {
        "colab": {
          "base_uri": "https://localhost:8080/",
          "height": 178
        },
        "id": "njqPU28JPVTJ",
        "outputId": "a8c44416-223f-4f44-a276-c2efb6194d90"
      },
      "execution_count": null,
      "outputs": [
        {
          "output_type": "execute_result",
          "data": {
            "text/plain": [
              "prev_rfs\n",
              "0    703\n",
              "1    667\n",
              "Name: count, dtype: int64"
            ],
            "text/html": [
              "<div>\n",
              "<style scoped>\n",
              "    .dataframe tbody tr th:only-of-type {\n",
              "        vertical-align: middle;\n",
              "    }\n",
              "\n",
              "    .dataframe tbody tr th {\n",
              "        vertical-align: top;\n",
              "    }\n",
              "\n",
              "    .dataframe thead th {\n",
              "        text-align: right;\n",
              "    }\n",
              "</style>\n",
              "<table border=\"1\" class=\"dataframe\">\n",
              "  <thead>\n",
              "    <tr style=\"text-align: right;\">\n",
              "      <th></th>\n",
              "      <th>count</th>\n",
              "    </tr>\n",
              "    <tr>\n",
              "      <th>prev_rfs</th>\n",
              "      <th></th>\n",
              "    </tr>\n",
              "  </thead>\n",
              "  <tbody>\n",
              "    <tr>\n",
              "      <th>0</th>\n",
              "      <td>703</td>\n",
              "    </tr>\n",
              "    <tr>\n",
              "      <th>1</th>\n",
              "      <td>667</td>\n",
              "    </tr>\n",
              "  </tbody>\n",
              "</table>\n",
              "</div><br><label><b>dtype:</b> int64</label>"
            ]
          },
          "metadata": {},
          "execution_count": 787
        }
      ]
    },
    {
      "cell_type": "markdown",
      "source": [
        "***reminder***"
      ],
      "metadata": {
        "id": "hJib0rNQPX_n"
      }
    },
    {
      "cell_type": "code",
      "source": [
        "rfs['reminder'].value_counts(dropna=False)"
      ],
      "metadata": {
        "colab": {
          "base_uri": "https://localhost:8080/",
          "height": 178
        },
        "id": "gIBX9pe-PdFP",
        "outputId": "debc32ba-edde-486f-d1de-deff36e0139a"
      },
      "execution_count": null,
      "outputs": [
        {
          "output_type": "execute_result",
          "data": {
            "text/plain": [
              "reminder\n",
              "No     891\n",
              "Yes    479\n",
              "Name: count, dtype: int64"
            ],
            "text/html": [
              "<div>\n",
              "<style scoped>\n",
              "    .dataframe tbody tr th:only-of-type {\n",
              "        vertical-align: middle;\n",
              "    }\n",
              "\n",
              "    .dataframe tbody tr th {\n",
              "        vertical-align: top;\n",
              "    }\n",
              "\n",
              "    .dataframe thead th {\n",
              "        text-align: right;\n",
              "    }\n",
              "</style>\n",
              "<table border=\"1\" class=\"dataframe\">\n",
              "  <thead>\n",
              "    <tr style=\"text-align: right;\">\n",
              "      <th></th>\n",
              "      <th>count</th>\n",
              "    </tr>\n",
              "    <tr>\n",
              "      <th>reminder</th>\n",
              "      <th></th>\n",
              "    </tr>\n",
              "  </thead>\n",
              "  <tbody>\n",
              "    <tr>\n",
              "      <th>No</th>\n",
              "      <td>891</td>\n",
              "    </tr>\n",
              "    <tr>\n",
              "      <th>Yes</th>\n",
              "      <td>479</td>\n",
              "    </tr>\n",
              "  </tbody>\n",
              "</table>\n",
              "</div><br><label><b>dtype:</b> int64</label>"
            ]
          },
          "metadata": {},
          "execution_count": 788
        }
      ]
    },
    {
      "cell_type": "code",
      "source": [
        "#we'll convert this too binary as well\n",
        "rfs['reminder'] = rfs['reminder'].replace({'No': 0, 'Yes': 1})"
      ],
      "metadata": {
        "colab": {
          "base_uri": "https://localhost:8080/"
        },
        "id": "rvhzyrIkPls0",
        "outputId": "246ed471-af47-4edf-8d70-ec99d2e60206"
      },
      "execution_count": null,
      "outputs": [
        {
          "output_type": "stream",
          "name": "stderr",
          "text": [
            "<ipython-input-789-5a9f03d97515>:2: FutureWarning: Downcasting behavior in `replace` is deprecated and will be removed in a future version. To retain the old behavior, explicitly call `result.infer_objects(copy=False)`. To opt-in to the future behavior, set `pd.set_option('future.no_silent_downcasting', True)`\n",
            "  rfs['reminder'] = rfs['reminder'].replace({'No': 0, 'Yes': 1})\n"
          ]
        }
      ]
    },
    {
      "cell_type": "code",
      "source": [
        "rfs['reminder'].value_counts(dropna=False)"
      ],
      "metadata": {
        "colab": {
          "base_uri": "https://localhost:8080/",
          "height": 178
        },
        "id": "xHOu8GkOPoMF",
        "outputId": "c4fdca6f-fc41-44df-b265-cb71446b7a36"
      },
      "execution_count": null,
      "outputs": [
        {
          "output_type": "execute_result",
          "data": {
            "text/plain": [
              "reminder\n",
              "0    891\n",
              "1    479\n",
              "Name: count, dtype: int64"
            ],
            "text/html": [
              "<div>\n",
              "<style scoped>\n",
              "    .dataframe tbody tr th:only-of-type {\n",
              "        vertical-align: middle;\n",
              "    }\n",
              "\n",
              "    .dataframe tbody tr th {\n",
              "        vertical-align: top;\n",
              "    }\n",
              "\n",
              "    .dataframe thead th {\n",
              "        text-align: right;\n",
              "    }\n",
              "</style>\n",
              "<table border=\"1\" class=\"dataframe\">\n",
              "  <thead>\n",
              "    <tr style=\"text-align: right;\">\n",
              "      <th></th>\n",
              "      <th>count</th>\n",
              "    </tr>\n",
              "    <tr>\n",
              "      <th>reminder</th>\n",
              "      <th></th>\n",
              "    </tr>\n",
              "  </thead>\n",
              "  <tbody>\n",
              "    <tr>\n",
              "      <th>0</th>\n",
              "      <td>891</td>\n",
              "    </tr>\n",
              "    <tr>\n",
              "      <th>1</th>\n",
              "      <td>479</td>\n",
              "    </tr>\n",
              "  </tbody>\n",
              "</table>\n",
              "</div><br><label><b>dtype:</b> int64</label>"
            ]
          },
          "metadata": {},
          "execution_count": 790
        }
      ]
    },
    {
      "cell_type": "markdown",
      "source": [
        "**building_type**"
      ],
      "metadata": {
        "id": "3ap7wQSCPvxx"
      }
    },
    {
      "cell_type": "code",
      "source": [
        "rfs['building_type'].value_counts(dropna=False)"
      ],
      "metadata": {
        "colab": {
          "base_uri": "https://localhost:8080/",
          "height": 335
        },
        "id": "3Oyj14odP0Yv",
        "outputId": "4fc8aaa1-81b9-4474-b952-bc48fe4a52a3"
      },
      "execution_count": null,
      "outputs": [
        {
          "output_type": "execute_result",
          "data": {
            "text/plain": [
              "building_type\n",
              "highrise       413\n",
              "townhouse      381\n",
              "unknown        180\n",
              "residential    146\n",
              "commercial     139\n",
              "potl            83\n",
              "mixed_use       28\n",
              "Name: count, dtype: int64"
            ],
            "text/html": [
              "<div>\n",
              "<style scoped>\n",
              "    .dataframe tbody tr th:only-of-type {\n",
              "        vertical-align: middle;\n",
              "    }\n",
              "\n",
              "    .dataframe tbody tr th {\n",
              "        vertical-align: top;\n",
              "    }\n",
              "\n",
              "    .dataframe thead th {\n",
              "        text-align: right;\n",
              "    }\n",
              "</style>\n",
              "<table border=\"1\" class=\"dataframe\">\n",
              "  <thead>\n",
              "    <tr style=\"text-align: right;\">\n",
              "      <th></th>\n",
              "      <th>count</th>\n",
              "    </tr>\n",
              "    <tr>\n",
              "      <th>building_type</th>\n",
              "      <th></th>\n",
              "    </tr>\n",
              "  </thead>\n",
              "  <tbody>\n",
              "    <tr>\n",
              "      <th>highrise</th>\n",
              "      <td>413</td>\n",
              "    </tr>\n",
              "    <tr>\n",
              "      <th>townhouse</th>\n",
              "      <td>381</td>\n",
              "    </tr>\n",
              "    <tr>\n",
              "      <th>unknown</th>\n",
              "      <td>180</td>\n",
              "    </tr>\n",
              "    <tr>\n",
              "      <th>residential</th>\n",
              "      <td>146</td>\n",
              "    </tr>\n",
              "    <tr>\n",
              "      <th>commercial</th>\n",
              "      <td>139</td>\n",
              "    </tr>\n",
              "    <tr>\n",
              "      <th>potl</th>\n",
              "      <td>83</td>\n",
              "    </tr>\n",
              "    <tr>\n",
              "      <th>mixed_use</th>\n",
              "      <td>28</td>\n",
              "    </tr>\n",
              "  </tbody>\n",
              "</table>\n",
              "</div><br><label><b>dtype:</b> int64</label>"
            ]
          },
          "metadata": {},
          "execution_count": 791
        }
      ]
    },
    {
      "cell_type": "code",
      "source": [
        "#We'll convert this to dummy variables\n",
        "rfs = pd.get_dummies(rfs, columns=['building_type'], prefix = 'building')"
      ],
      "metadata": {
        "id": "pe8dj4vwP4vE"
      },
      "execution_count": null,
      "outputs": []
    },
    {
      "cell_type": "code",
      "source": [
        "rfs.info()"
      ],
      "metadata": {
        "colab": {
          "base_uri": "https://localhost:8080/"
        },
        "id": "OjTIJ2-LQN7F",
        "outputId": "9c9a4d1b-0278-4e0a-ae16-15e8d0762eb5"
      },
      "execution_count": null,
      "outputs": [
        {
          "output_type": "stream",
          "name": "stdout",
          "text": [
            "<class 'pandas.core.frame.DataFrame'>\n",
            "Index: 1370 entries, 0 to 3150\n",
            "Data columns (total 24 columns):\n",
            " #   Column                Non-Null Count  Dtype  \n",
            "---  ------                --------------  -----  \n",
            " 0   prev_rfs              1370 non-null   int64  \n",
            " 1   reminder              1370 non-null   int64  \n",
            " 2   fee_probable          1370 non-null   float64\n",
            " 3   outcome               1370 non-null   int64  \n",
            " 4   project_type          1370 non-null   object \n",
            " 5   units                 1245 non-null   float64\n",
            " 6   sow_Class 1 RFS       1370 non-null   bool   \n",
            " 7   sow_Class 2 RFS       1370 non-null   bool   \n",
            " 8   sow_Class 3 RFS       1370 non-null   bool   \n",
            " 9   sow_Update RFS        1370 non-null   bool   \n",
            " 10  region_EO             1370 non-null   bool   \n",
            " 11  region_GH             1370 non-null   bool   \n",
            " 12  region_HUR            1370 non-null   bool   \n",
            " 13  region_Other          1370 non-null   bool   \n",
            " 14  region_PC             1370 non-null   bool   \n",
            " 15  region_TOR            1370 non-null   bool   \n",
            " 16  region_YR             1370 non-null   bool   \n",
            " 17  building_commercial   1370 non-null   bool   \n",
            " 18  building_highrise     1370 non-null   bool   \n",
            " 19  building_mixed_use    1370 non-null   bool   \n",
            " 20  building_potl         1370 non-null   bool   \n",
            " 21  building_residential  1370 non-null   bool   \n",
            " 22  building_townhouse    1370 non-null   bool   \n",
            " 23  building_unknown      1370 non-null   bool   \n",
            "dtypes: bool(18), float64(2), int64(3), object(1)\n",
            "memory usage: 99.0+ KB\n"
          ]
        }
      ]
    },
    {
      "cell_type": "markdown",
      "source": [
        "***project_type***"
      ],
      "metadata": {
        "id": "kOXS639hSN1J"
      }
    },
    {
      "cell_type": "markdown",
      "source": [
        "This is RFS for all records, so we we'll drop the column"
      ],
      "metadata": {
        "id": "I0uxj3ObSPX_"
      }
    },
    {
      "cell_type": "code",
      "source": [
        "rfs = rfs.drop('project_type', axis=1)"
      ],
      "metadata": {
        "id": "FVcW1tMQSVY-"
      },
      "execution_count": null,
      "outputs": []
    },
    {
      "cell_type": "code",
      "source": [
        "rfs.info()"
      ],
      "metadata": {
        "colab": {
          "base_uri": "https://localhost:8080/"
        },
        "id": "SneWuekaSYyU",
        "outputId": "33d0f1e0-54c7-4261-8ce1-db48c85f7ecb"
      },
      "execution_count": null,
      "outputs": [
        {
          "output_type": "stream",
          "name": "stdout",
          "text": [
            "<class 'pandas.core.frame.DataFrame'>\n",
            "Index: 1370 entries, 0 to 3150\n",
            "Data columns (total 23 columns):\n",
            " #   Column                Non-Null Count  Dtype  \n",
            "---  ------                --------------  -----  \n",
            " 0   prev_rfs              1370 non-null   int64  \n",
            " 1   reminder              1370 non-null   int64  \n",
            " 2   fee_probable          1370 non-null   float64\n",
            " 3   outcome               1370 non-null   int64  \n",
            " 4   units                 1245 non-null   float64\n",
            " 5   sow_Class 1 RFS       1370 non-null   bool   \n",
            " 6   sow_Class 2 RFS       1370 non-null   bool   \n",
            " 7   sow_Class 3 RFS       1370 non-null   bool   \n",
            " 8   sow_Update RFS        1370 non-null   bool   \n",
            " 9   region_EO             1370 non-null   bool   \n",
            " 10  region_GH             1370 non-null   bool   \n",
            " 11  region_HUR            1370 non-null   bool   \n",
            " 12  region_Other          1370 non-null   bool   \n",
            " 13  region_PC             1370 non-null   bool   \n",
            " 14  region_TOR            1370 non-null   bool   \n",
            " 15  region_YR             1370 non-null   bool   \n",
            " 16  building_commercial   1370 non-null   bool   \n",
            " 17  building_highrise     1370 non-null   bool   \n",
            " 18  building_mixed_use    1370 non-null   bool   \n",
            " 19  building_potl         1370 non-null   bool   \n",
            " 20  building_residential  1370 non-null   bool   \n",
            " 21  building_townhouse    1370 non-null   bool   \n",
            " 22  building_unknown      1370 non-null   bool   \n",
            "dtypes: bool(18), float64(2), int64(3)\n",
            "memory usage: 88.3 KB\n"
          ]
        }
      ]
    },
    {
      "cell_type": "markdown",
      "source": [
        "**units**"
      ],
      "metadata": {
        "id": "tQwlkDIYQR1D"
      }
    },
    {
      "cell_type": "markdown",
      "source": [
        "This feature is continuous, but similar to fee probable, is highly left skewed. We will have to bin it. We'll do this after the train/test split."
      ],
      "metadata": {
        "id": "YUcxWhBFQaXX"
      }
    },
    {
      "cell_type": "markdown",
      "source": [
        "There are quite a few nulls in this column, but since this variable will be binned, that will remove this column. The nulls will simply not have a bin assigned to them"
      ],
      "metadata": {
        "id": "1yHD1PJJQrvt"
      }
    },
    {
      "cell_type": "code",
      "source": [
        "rfs['units'].isnull().sum()"
      ],
      "metadata": {
        "colab": {
          "base_uri": "https://localhost:8080/"
        },
        "id": "z3mbxqr_QXyb",
        "outputId": "c2a30fbc-6d52-4557-f2a6-8c6e5ce4b398"
      },
      "execution_count": null,
      "outputs": [
        {
          "output_type": "execute_result",
          "data": {
            "text/plain": [
              "125"
            ]
          },
          "metadata": {},
          "execution_count": 796
        }
      ]
    },
    {
      "cell_type": "markdown",
      "source": [
        "# **RFS Model Transformations**"
      ],
      "metadata": {
        "id": "5XSZc7Z0RX2Q"
      }
    },
    {
      "cell_type": "markdown",
      "source": [
        "We'll split our data before apply transformations"
      ],
      "metadata": {
        "id": "MT16aP83RjMN"
      }
    },
    {
      "cell_type": "code",
      "source": [
        "X = rfs.drop('outcome', axis=1)\n",
        "y = rfs['outcome']"
      ],
      "metadata": {
        "id": "Pvfd4yAwR3Po"
      },
      "execution_count": null,
      "outputs": []
    },
    {
      "cell_type": "code",
      "source": [
        "X_train_rfs, X_test_rfs, y_train_rfs, y_test_rfs = train_test_split(X, y, test_size=0.2, random_state=37)"
      ],
      "metadata": {
        "id": "p5Png3UyRbtI"
      },
      "execution_count": null,
      "outputs": []
    },
    {
      "cell_type": "markdown",
      "source": [
        "**Units**"
      ],
      "metadata": {
        "id": "O3To3YbiUB8H"
      }
    },
    {
      "cell_type": "markdown",
      "source": [
        "This needs to be binned and converted to dummies."
      ],
      "metadata": {
        "id": "OxGHwlGmUF14"
      }
    },
    {
      "cell_type": "code",
      "source": [
        "print(X_train_rfs['units'].isnull().sum())\n",
        "print(X_test_rfs['units'].isnull().sum())"
      ],
      "metadata": {
        "colab": {
          "base_uri": "https://localhost:8080/"
        },
        "id": "pAXD0sr4E0dd",
        "outputId": "68ff1b31-1568-4ad9-daa1-e52eec68d806"
      },
      "execution_count": null,
      "outputs": [
        {
          "output_type": "stream",
          "name": "stdout",
          "text": [
            "95\n",
            "30\n"
          ]
        }
      ]
    },
    {
      "cell_type": "markdown",
      "source": [
        "The distribution is very similar to probable_fee, so it is doubtful that clustering will work to create meaningful buckets, but we'll try first just in case"
      ],
      "metadata": {
        "id": "-nI4WZnlVJ4-"
      }
    },
    {
      "cell_type": "code",
      "source": [
        "X_train_rfs['log_units'] = np.log1p(X_train_rfs['units'])\n",
        "\n",
        "def log_bins(data, num_bins):\n",
        "    min_val = data.min()\n",
        "    max_val = data.max()\n",
        "    bin_edges = np.logspace(np.log10(min_val), np.log10(max_val), num_bins)\n",
        "    return pd.cut(data, bins=bin_edges, labels=False), bin_edges\n",
        "\n",
        "X_train_rfs['log_units_binned'], bin_edges = log_bins(X_train_rfs['log_units'], num_bins=9)"
      ],
      "metadata": {
        "id": "EMTpBn9DVIxI"
      },
      "execution_count": null,
      "outputs": []
    },
    {
      "cell_type": "code",
      "source": [
        "pd.pivot_table(X_train_rfs, index='log_units_binned', values='units', aggfunc=['min', 'max', 'count'])"
      ],
      "metadata": {
        "colab": {
          "base_uri": "https://localhost:8080/",
          "height": 332
        },
        "id": "SNZno8I5UFAI",
        "outputId": "c25a43ce-1626-46f1-df29-ddd31fc99899"
      },
      "execution_count": null,
      "outputs": [
        {
          "output_type": "execute_result",
          "data": {
            "text/plain": [
              "                    min    max count\n",
              "                  units  units units\n",
              "log_units_binned                    \n",
              "1.0                 2.0    2.0     2\n",
              "2.0                 3.0    4.0    15\n",
              "3.0                 5.0    7.0    31\n",
              "4.0                 8.0   16.0   137\n",
              "5.0                17.0   43.0   301\n",
              "6.0                44.0  152.0   327\n",
              "7.0               154.0  799.0   186"
            ],
            "text/html": [
              "\n",
              "  <div id=\"df-330b8f65-a2df-49ee-8592-418b8ab0d402\" class=\"colab-df-container\">\n",
              "    <div>\n",
              "<style scoped>\n",
              "    .dataframe tbody tr th:only-of-type {\n",
              "        vertical-align: middle;\n",
              "    }\n",
              "\n",
              "    .dataframe tbody tr th {\n",
              "        vertical-align: top;\n",
              "    }\n",
              "\n",
              "    .dataframe thead tr th {\n",
              "        text-align: left;\n",
              "    }\n",
              "\n",
              "    .dataframe thead tr:last-of-type th {\n",
              "        text-align: right;\n",
              "    }\n",
              "</style>\n",
              "<table border=\"1\" class=\"dataframe\">\n",
              "  <thead>\n",
              "    <tr>\n",
              "      <th></th>\n",
              "      <th>min</th>\n",
              "      <th>max</th>\n",
              "      <th>count</th>\n",
              "    </tr>\n",
              "    <tr>\n",
              "      <th></th>\n",
              "      <th>units</th>\n",
              "      <th>units</th>\n",
              "      <th>units</th>\n",
              "    </tr>\n",
              "    <tr>\n",
              "      <th>log_units_binned</th>\n",
              "      <th></th>\n",
              "      <th></th>\n",
              "      <th></th>\n",
              "    </tr>\n",
              "  </thead>\n",
              "  <tbody>\n",
              "    <tr>\n",
              "      <th>1.0</th>\n",
              "      <td>2.0</td>\n",
              "      <td>2.0</td>\n",
              "      <td>2</td>\n",
              "    </tr>\n",
              "    <tr>\n",
              "      <th>2.0</th>\n",
              "      <td>3.0</td>\n",
              "      <td>4.0</td>\n",
              "      <td>15</td>\n",
              "    </tr>\n",
              "    <tr>\n",
              "      <th>3.0</th>\n",
              "      <td>5.0</td>\n",
              "      <td>7.0</td>\n",
              "      <td>31</td>\n",
              "    </tr>\n",
              "    <tr>\n",
              "      <th>4.0</th>\n",
              "      <td>8.0</td>\n",
              "      <td>16.0</td>\n",
              "      <td>137</td>\n",
              "    </tr>\n",
              "    <tr>\n",
              "      <th>5.0</th>\n",
              "      <td>17.0</td>\n",
              "      <td>43.0</td>\n",
              "      <td>301</td>\n",
              "    </tr>\n",
              "    <tr>\n",
              "      <th>6.0</th>\n",
              "      <td>44.0</td>\n",
              "      <td>152.0</td>\n",
              "      <td>327</td>\n",
              "    </tr>\n",
              "    <tr>\n",
              "      <th>7.0</th>\n",
              "      <td>154.0</td>\n",
              "      <td>799.0</td>\n",
              "      <td>186</td>\n",
              "    </tr>\n",
              "  </tbody>\n",
              "</table>\n",
              "</div>\n",
              "    <div class=\"colab-df-buttons\">\n",
              "\n",
              "  <div class=\"colab-df-container\">\n",
              "    <button class=\"colab-df-convert\" onclick=\"convertToInteractive('df-330b8f65-a2df-49ee-8592-418b8ab0d402')\"\n",
              "            title=\"Convert this dataframe to an interactive table.\"\n",
              "            style=\"display:none;\">\n",
              "\n",
              "  <svg xmlns=\"http://www.w3.org/2000/svg\" height=\"24px\" viewBox=\"0 -960 960 960\">\n",
              "    <path d=\"M120-120v-720h720v720H120Zm60-500h600v-160H180v160Zm220 220h160v-160H400v160Zm0 220h160v-160H400v160ZM180-400h160v-160H180v160Zm440 0h160v-160H620v160ZM180-180h160v-160H180v160Zm440 0h160v-160H620v160Z\"/>\n",
              "  </svg>\n",
              "    </button>\n",
              "\n",
              "  <style>\n",
              "    .colab-df-container {\n",
              "      display:flex;\n",
              "      gap: 12px;\n",
              "    }\n",
              "\n",
              "    .colab-df-convert {\n",
              "      background-color: #E8F0FE;\n",
              "      border: none;\n",
              "      border-radius: 50%;\n",
              "      cursor: pointer;\n",
              "      display: none;\n",
              "      fill: #1967D2;\n",
              "      height: 32px;\n",
              "      padding: 0 0 0 0;\n",
              "      width: 32px;\n",
              "    }\n",
              "\n",
              "    .colab-df-convert:hover {\n",
              "      background-color: #E2EBFA;\n",
              "      box-shadow: 0px 1px 2px rgba(60, 64, 67, 0.3), 0px 1px 3px 1px rgba(60, 64, 67, 0.15);\n",
              "      fill: #174EA6;\n",
              "    }\n",
              "\n",
              "    .colab-df-buttons div {\n",
              "      margin-bottom: 4px;\n",
              "    }\n",
              "\n",
              "    [theme=dark] .colab-df-convert {\n",
              "      background-color: #3B4455;\n",
              "      fill: #D2E3FC;\n",
              "    }\n",
              "\n",
              "    [theme=dark] .colab-df-convert:hover {\n",
              "      background-color: #434B5C;\n",
              "      box-shadow: 0px 1px 3px 1px rgba(0, 0, 0, 0.15);\n",
              "      filter: drop-shadow(0px 1px 2px rgba(0, 0, 0, 0.3));\n",
              "      fill: #FFFFFF;\n",
              "    }\n",
              "  </style>\n",
              "\n",
              "    <script>\n",
              "      const buttonEl =\n",
              "        document.querySelector('#df-330b8f65-a2df-49ee-8592-418b8ab0d402 button.colab-df-convert');\n",
              "      buttonEl.style.display =\n",
              "        google.colab.kernel.accessAllowed ? 'block' : 'none';\n",
              "\n",
              "      async function convertToInteractive(key) {\n",
              "        const element = document.querySelector('#df-330b8f65-a2df-49ee-8592-418b8ab0d402');\n",
              "        const dataTable =\n",
              "          await google.colab.kernel.invokeFunction('convertToInteractive',\n",
              "                                                    [key], {});\n",
              "        if (!dataTable) return;\n",
              "\n",
              "        const docLinkHtml = 'Like what you see? Visit the ' +\n",
              "          '<a target=\"_blank\" href=https://colab.research.google.com/notebooks/data_table.ipynb>data table notebook</a>'\n",
              "          + ' to learn more about interactive tables.';\n",
              "        element.innerHTML = '';\n",
              "        dataTable['output_type'] = 'display_data';\n",
              "        await google.colab.output.renderOutput(dataTable, element);\n",
              "        const docLink = document.createElement('div');\n",
              "        docLink.innerHTML = docLinkHtml;\n",
              "        element.appendChild(docLink);\n",
              "      }\n",
              "    </script>\n",
              "  </div>\n",
              "\n",
              "\n",
              "<div id=\"df-ed2b30be-b311-4920-80f0-390b5ab21bc9\">\n",
              "  <button class=\"colab-df-quickchart\" onclick=\"quickchart('df-ed2b30be-b311-4920-80f0-390b5ab21bc9')\"\n",
              "            title=\"Suggest charts\"\n",
              "            style=\"display:none;\">\n",
              "\n",
              "<svg xmlns=\"http://www.w3.org/2000/svg\" height=\"24px\"viewBox=\"0 0 24 24\"\n",
              "     width=\"24px\">\n",
              "    <g>\n",
              "        <path d=\"M19 3H5c-1.1 0-2 .9-2 2v14c0 1.1.9 2 2 2h14c1.1 0 2-.9 2-2V5c0-1.1-.9-2-2-2zM9 17H7v-7h2v7zm4 0h-2V7h2v10zm4 0h-2v-4h2v4z\"/>\n",
              "    </g>\n",
              "</svg>\n",
              "  </button>\n",
              "\n",
              "<style>\n",
              "  .colab-df-quickchart {\n",
              "      --bg-color: #E8F0FE;\n",
              "      --fill-color: #1967D2;\n",
              "      --hover-bg-color: #E2EBFA;\n",
              "      --hover-fill-color: #174EA6;\n",
              "      --disabled-fill-color: #AAA;\n",
              "      --disabled-bg-color: #DDD;\n",
              "  }\n",
              "\n",
              "  [theme=dark] .colab-df-quickchart {\n",
              "      --bg-color: #3B4455;\n",
              "      --fill-color: #D2E3FC;\n",
              "      --hover-bg-color: #434B5C;\n",
              "      --hover-fill-color: #FFFFFF;\n",
              "      --disabled-bg-color: #3B4455;\n",
              "      --disabled-fill-color: #666;\n",
              "  }\n",
              "\n",
              "  .colab-df-quickchart {\n",
              "    background-color: var(--bg-color);\n",
              "    border: none;\n",
              "    border-radius: 50%;\n",
              "    cursor: pointer;\n",
              "    display: none;\n",
              "    fill: var(--fill-color);\n",
              "    height: 32px;\n",
              "    padding: 0;\n",
              "    width: 32px;\n",
              "  }\n",
              "\n",
              "  .colab-df-quickchart:hover {\n",
              "    background-color: var(--hover-bg-color);\n",
              "    box-shadow: 0 1px 2px rgba(60, 64, 67, 0.3), 0 1px 3px 1px rgba(60, 64, 67, 0.15);\n",
              "    fill: var(--button-hover-fill-color);\n",
              "  }\n",
              "\n",
              "  .colab-df-quickchart-complete:disabled,\n",
              "  .colab-df-quickchart-complete:disabled:hover {\n",
              "    background-color: var(--disabled-bg-color);\n",
              "    fill: var(--disabled-fill-color);\n",
              "    box-shadow: none;\n",
              "  }\n",
              "\n",
              "  .colab-df-spinner {\n",
              "    border: 2px solid var(--fill-color);\n",
              "    border-color: transparent;\n",
              "    border-bottom-color: var(--fill-color);\n",
              "    animation:\n",
              "      spin 1s steps(1) infinite;\n",
              "  }\n",
              "\n",
              "  @keyframes spin {\n",
              "    0% {\n",
              "      border-color: transparent;\n",
              "      border-bottom-color: var(--fill-color);\n",
              "      border-left-color: var(--fill-color);\n",
              "    }\n",
              "    20% {\n",
              "      border-color: transparent;\n",
              "      border-left-color: var(--fill-color);\n",
              "      border-top-color: var(--fill-color);\n",
              "    }\n",
              "    30% {\n",
              "      border-color: transparent;\n",
              "      border-left-color: var(--fill-color);\n",
              "      border-top-color: var(--fill-color);\n",
              "      border-right-color: var(--fill-color);\n",
              "    }\n",
              "    40% {\n",
              "      border-color: transparent;\n",
              "      border-right-color: var(--fill-color);\n",
              "      border-top-color: var(--fill-color);\n",
              "    }\n",
              "    60% {\n",
              "      border-color: transparent;\n",
              "      border-right-color: var(--fill-color);\n",
              "    }\n",
              "    80% {\n",
              "      border-color: transparent;\n",
              "      border-right-color: var(--fill-color);\n",
              "      border-bottom-color: var(--fill-color);\n",
              "    }\n",
              "    90% {\n",
              "      border-color: transparent;\n",
              "      border-bottom-color: var(--fill-color);\n",
              "    }\n",
              "  }\n",
              "</style>\n",
              "\n",
              "  <script>\n",
              "    async function quickchart(key) {\n",
              "      const quickchartButtonEl =\n",
              "        document.querySelector('#' + key + ' button');\n",
              "      quickchartButtonEl.disabled = true;  // To prevent multiple clicks.\n",
              "      quickchartButtonEl.classList.add('colab-df-spinner');\n",
              "      try {\n",
              "        const charts = await google.colab.kernel.invokeFunction(\n",
              "            'suggestCharts', [key], {});\n",
              "      } catch (error) {\n",
              "        console.error('Error during call to suggestCharts:', error);\n",
              "      }\n",
              "      quickchartButtonEl.classList.remove('colab-df-spinner');\n",
              "      quickchartButtonEl.classList.add('colab-df-quickchart-complete');\n",
              "    }\n",
              "    (() => {\n",
              "      let quickchartButtonEl =\n",
              "        document.querySelector('#df-ed2b30be-b311-4920-80f0-390b5ab21bc9 button');\n",
              "      quickchartButtonEl.style.display =\n",
              "        google.colab.kernel.accessAllowed ? 'block' : 'none';\n",
              "    })();\n",
              "  </script>\n",
              "</div>\n",
              "\n",
              "    </div>\n",
              "  </div>\n"
            ],
            "application/vnd.google.colaboratory.intrinsic+json": {
              "type": "dataframe",
              "summary": "{\n  \"name\": \"pd\",\n  \"rows\": 7,\n  \"fields\": [\n    {\n      \"column\": [\n        \"log_units_binned\",\n        \"\"\n      ],\n      \"properties\": {\n        \"dtype\": \"number\",\n        \"std\": 2.160246899469287,\n        \"min\": 1.0,\n        \"max\": 7.0,\n        \"num_unique_values\": 7,\n        \"samples\": [\n          1.0,\n          2.0,\n          6.0\n        ],\n        \"semantic_type\": \"\",\n        \"description\": \"\"\n      }\n    },\n    {\n      \"column\": [\n        \"min\",\n        \"units\"\n      ],\n      \"properties\": {\n        \"dtype\": \"number\",\n        \"std\": 55.20783243258842,\n        \"min\": 2.0,\n        \"max\": 154.0,\n        \"num_unique_values\": 7,\n        \"samples\": [\n          2.0,\n          3.0,\n          44.0\n        ],\n        \"semantic_type\": \"\",\n        \"description\": \"\"\n      }\n    },\n    {\n      \"column\": [\n        \"max\",\n        \"units\"\n      ],\n      \"properties\": {\n        \"dtype\": \"number\",\n        \"std\": 292.7384660816025,\n        \"min\": 2.0,\n        \"max\": 799.0,\n        \"num_unique_values\": 7,\n        \"samples\": [\n          2.0,\n          4.0,\n          152.0\n        ],\n        \"semantic_type\": \"\",\n        \"description\": \"\"\n      }\n    },\n    {\n      \"column\": [\n        \"count\",\n        \"units\"\n      ],\n      \"properties\": {\n        \"dtype\": \"number\",\n        \"std\": 135,\n        \"min\": 2,\n        \"max\": 327,\n        \"num_unique_values\": 7,\n        \"samples\": [\n          2,\n          15,\n          327\n        ],\n        \"semantic_type\": \"\",\n        \"description\": \"\"\n      }\n    }\n  ]\n}"
            }
          },
          "metadata": {},
          "execution_count": 801
        }
      ]
    },
    {
      "cell_type": "code",
      "source": [
        "plt.figure(figsize=(8, 6))\n",
        "plt.hist(X_train_rfs['log_units_binned'], bins=8, edgecolor='k')\n",
        "plt.xlabel('Log Units Bin')\n",
        "plt.ylabel('Frequency')\n",
        "plt.title('Distribution of Unit Bins')"
      ],
      "metadata": {
        "colab": {
          "base_uri": "https://localhost:8080/",
          "height": 582
        },
        "id": "dNpESU4HV5bx",
        "outputId": "72f0ebfc-f0da-487d-ae65-03aaffdf6abd"
      },
      "execution_count": null,
      "outputs": [
        {
          "output_type": "execute_result",
          "data": {
            "text/plain": [
              "Text(0.5, 1.0, 'Distribution of Unit Bins')"
            ]
          },
          "metadata": {},
          "execution_count": 802
        },
        {
          "output_type": "display_data",
          "data": {
            "text/plain": [
              "<Figure size 800x600 with 1 Axes>"
            ],
            "image/png": "[encoded data removed]"
          },
          "metadata": {}
        }
      ]
    },
    {
      "cell_type": "markdown",
      "source": [
        "While this isn't as drastically skewed as the ALL fee, it still isn't great. The bins on the left are very sparse. We'll try equal frequency again"
      ],
      "metadata": {
        "id": "iRVG0yNoWHTt"
      }
    },
    {
      "cell_type": "code",
      "source": [
        "X_train_rfs['equal_units_binned'], bin_edges = pd.qcut(X_train_rfs['units'], q=10, labels=False, retbins=True)"
      ],
      "metadata": {
        "id": "1om-vMIgKbrv"
      },
      "execution_count": null,
      "outputs": []
    },
    {
      "cell_type": "code",
      "source": [
        "pd.pivot_table(X_train_rfs, index='equal_units_binned', values='units', aggfunc=['min', 'max', 'count'])"
      ],
      "metadata": {
        "colab": {
          "base_uri": "https://localhost:8080/",
          "height": 426
        },
        "id": "3swTgYFIKhiM",
        "outputId": "a982b18a-a6d6-456f-872b-70e9efc78f4f"
      },
      "execution_count": null,
      "outputs": [
        {
          "output_type": "execute_result",
          "data": {
            "text/plain": [
              "                      min    max count\n",
              "                    units  units units\n",
              "equal_units_binned                    \n",
              "0.0                   1.0   11.0   101\n",
              "1.0                  12.0   18.0   106\n",
              "2.0                  19.0   25.0    95\n",
              "3.0                  26.0   34.0   100\n",
              "4.0                  35.0   45.0    99\n",
              "5.0                  46.0   63.0   101\n",
              "6.0                  64.0   90.0   103\n",
              "7.0                  91.0  143.0    96\n",
              "8.0                 144.0  260.0   100\n",
              "9.0                 261.0  799.0   100"
            ],
            "text/html": [
              "\n",
              "  <div id=\"df-a54ab827-8995-4e9d-ac4a-f32e16783731\" class=\"colab-df-container\">\n",
              "    <div>\n",
              "<style scoped>\n",
              "    .dataframe tbody tr th:only-of-type {\n",
              "        vertical-align: middle;\n",
              "    }\n",
              "\n",
              "    .dataframe tbody tr th {\n",
              "        vertical-align: top;\n",
              "    }\n",
              "\n",
              "    .dataframe thead tr th {\n",
              "        text-align: left;\n",
              "    }\n",
              "\n",
              "    .dataframe thead tr:last-of-type th {\n",
              "        text-align: right;\n",
              "    }\n",
              "</style>\n",
              "<table border=\"1\" class=\"dataframe\">\n",
              "  <thead>\n",
              "    <tr>\n",
              "      <th></th>\n",
              "      <th>min</th>\n",
              "      <th>max</th>\n",
              "      <th>count</th>\n",
              "    </tr>\n",
              "    <tr>\n",
              "      <th></th>\n",
              "      <th>units</th>\n",
              "      <th>units</th>\n",
              "      <th>units</th>\n",
              "    </tr>\n",
              "    <tr>\n",
              "      <th>equal_units_binned</th>\n",
              "      <th></th>\n",
              "      <th></th>\n",
              "      <th></th>\n",
              "    </tr>\n",
              "  </thead>\n",
              "  <tbody>\n",
              "    <tr>\n",
              "      <th>0.0</th>\n",
              "      <td>1.0</td>\n",
              "      <td>11.0</td>\n",
              "      <td>101</td>\n",
              "    </tr>\n",
              "    <tr>\n",
              "      <th>1.0</th>\n",
              "      <td>12.0</td>\n",
              "      <td>18.0</td>\n",
              "      <td>106</td>\n",
              "    </tr>\n",
              "    <tr>\n",
              "      <th>2.0</th>\n",
              "      <td>19.0</td>\n",
              "      <td>25.0</td>\n",
              "      <td>95</td>\n",
              "    </tr>\n",
              "    <tr>\n",
              "      <th>3.0</th>\n",
              "      <td>26.0</td>\n",
              "      <td>34.0</td>\n",
              "      <td>100</td>\n",
              "    </tr>\n",
              "    <tr>\n",
              "      <th>4.0</th>\n",
              "      <td>35.0</td>\n",
              "      <td>45.0</td>\n",
              "      <td>99</td>\n",
              "    </tr>\n",
              "    <tr>\n",
              "      <th>5.0</th>\n",
              "      <td>46.0</td>\n",
              "      <td>63.0</td>\n",
              "      <td>101</td>\n",
              "    </tr>\n",
              "    <tr>\n",
              "      <th>6.0</th>\n",
              "      <td>64.0</td>\n",
              "      <td>90.0</td>\n",
              "      <td>103</td>\n",
              "    </tr>\n",
              "    <tr>\n",
              "      <th>7.0</th>\n",
              "      <td>91.0</td>\n",
              "      <td>143.0</td>\n",
              "      <td>96</td>\n",
              "    </tr>\n",
              "    <tr>\n",
              "      <th>8.0</th>\n",
              "      <td>144.0</td>\n",
              "      <td>260.0</td>\n",
              "      <td>100</td>\n",
              "    </tr>\n",
              "    <tr>\n",
              "      <th>9.0</th>\n",
              "      <td>261.0</td>\n",
              "      <td>799.0</td>\n",
              "      <td>100</td>\n",
              "    </tr>\n",
              "  </tbody>\n",
              "</table>\n",
              "</div>\n",
              "    <div class=\"colab-df-buttons\">\n",
              "\n",
              "  <div class=\"colab-df-container\">\n",
              "    <button class=\"colab-df-convert\" onclick=\"convertToInteractive('df-a54ab827-8995-4e9d-ac4a-f32e16783731')\"\n",
              "            title=\"Convert this dataframe to an interactive table.\"\n",
              "            style=\"display:none;\">\n",
              "\n",
              "  <svg xmlns=\"http://www.w3.org/2000/svg\" height=\"24px\" viewBox=\"0 -960 960 960\">\n",
              "    <path d=\"M120-120v-720h720v720H120Zm60-500h600v-160H180v160Zm220 220h160v-160H400v160Zm0 220h160v-160H400v160ZM180-400h160v-160H180v160Zm440 0h160v-160H620v160ZM180-180h160v-160H180v160Zm440 0h160v-160H620v160Z\"/>\n",
              "  </svg>\n",
              "    </button>\n",
              "\n",
              "  <style>\n",
              "    .colab-df-container {\n",
              "      display:flex;\n",
              "      gap: 12px;\n",
              "    }\n",
              "\n",
              "    .colab-df-convert {\n",
              "      background-color: #E8F0FE;\n",
              "      border: none;\n",
              "      border-radius: 50%;\n",
              "      cursor: pointer;\n",
              "      display: none;\n",
              "      fill: #1967D2;\n",
              "      height: 32px;\n",
              "      padding: 0 0 0 0;\n",
              "      width: 32px;\n",
              "    }\n",
              "\n",
              "    .colab-df-convert:hover {\n",
              "      background-color: #E2EBFA;\n",
              "      box-shadow: 0px 1px 2px rgba(60, 64, 67, 0.3), 0px 1px 3px 1px rgba(60, 64, 67, 0.15);\n",
              "      fill: #174EA6;\n",
              "    }\n",
              "\n",
              "    .colab-df-buttons div {\n",
              "      margin-bottom: 4px;\n",
              "    }\n",
              "\n",
              "    [theme=dark] .colab-df-convert {\n",
              "      background-color: #3B4455;\n",
              "      fill: #D2E3FC;\n",
              "    }\n",
              "\n",
              "    [theme=dark] .colab-df-convert:hover {\n",
              "      background-color: #434B5C;\n",
              "      box-shadow: 0px 1px 3px 1px rgba(0, 0, 0, 0.15);\n",
              "      filter: drop-shadow(0px 1px 2px rgba(0, 0, 0, 0.3));\n",
              "      fill: #FFFFFF;\n",
              "    }\n",
              "  </style>\n",
              "\n",
              "    <script>\n",
              "      const buttonEl =\n",
              "        document.querySelector('#df-a54ab827-8995-4e9d-ac4a-f32e16783731 button.colab-df-convert');\n",
              "      buttonEl.style.display =\n",
              "        google.colab.kernel.accessAllowed ? 'block' : 'none';\n",
              "\n",
              "      async function convertToInteractive(key) {\n",
              "        const element = document.querySelector('#df-a54ab827-8995-4e9d-ac4a-f32e16783731');\n",
              "        const dataTable =\n",
              "          await google.colab.kernel.invokeFunction('convertToInteractive',\n",
              "                                                    [key], {});\n",
              "        if (!dataTable) return;\n",
              "\n",
              "        const docLinkHtml = 'Like what you see? Visit the ' +\n",
              "          '<a target=\"_blank\" href=https://colab.research.google.com/notebooks/data_table.ipynb>data table notebook</a>'\n",
              "          + ' to learn more about interactive tables.';\n",
              "        element.innerHTML = '';\n",
              "        dataTable['output_type'] = 'display_data';\n",
              "        await google.colab.output.renderOutput(dataTable, element);\n",
              "        const docLink = document.createElement('div');\n",
              "        docLink.innerHTML = docLinkHtml;\n",
              "        element.appendChild(docLink);\n",
              "      }\n",
              "    </script>\n",
              "  </div>\n",
              "\n",
              "\n",
              "<div id=\"df-2bc0a79d-e76c-43b9-a006-2b77ed545d10\">\n",
              "  <button class=\"colab-df-quickchart\" onclick=\"quickchart('df-2bc0a79d-e76c-43b9-a006-2b77ed545d10')\"\n",
              "            title=\"Suggest charts\"\n",
              "            style=\"display:none;\">\n",
              "\n",
              "<svg xmlns=\"http://www.w3.org/2000/svg\" height=\"24px\"viewBox=\"0 0 24 24\"\n",
              "     width=\"24px\">\n",
              "    <g>\n",
              "        <path d=\"M19 3H5c-1.1 0-2 .9-2 2v14c0 1.1.9 2 2 2h14c1.1 0 2-.9 2-2V5c0-1.1-.9-2-2-2zM9 17H7v-7h2v7zm4 0h-2V7h2v10zm4 0h-2v-4h2v4z\"/>\n",
              "    </g>\n",
              "</svg>\n",
              "  </button>\n",
              "\n",
              "<style>\n",
              "  .colab-df-quickchart {\n",
              "      --bg-color: #E8F0FE;\n",
              "      --fill-color: #1967D2;\n",
              "      --hover-bg-color: #E2EBFA;\n",
              "      --hover-fill-color: #174EA6;\n",
              "      --disabled-fill-color: #AAA;\n",
              "      --disabled-bg-color: #DDD;\n",
              "  }\n",
              "\n",
              "  [theme=dark] .colab-df-quickchart {\n",
              "      --bg-color: #3B4455;\n",
              "      --fill-color: #D2E3FC;\n",
              "      --hover-bg-color: #434B5C;\n",
              "      --hover-fill-color: #FFFFFF;\n",
              "      --disabled-bg-color: #3B4455;\n",
              "      --disabled-fill-color: #666;\n",
              "  }\n",
              "\n",
              "  .colab-df-quickchart {\n",
              "    background-color: var(--bg-color);\n",
              "    border: none;\n",
              "    border-radius: 50%;\n",
              "    cursor: pointer;\n",
              "    display: none;\n",
              "    fill: var(--fill-color);\n",
              "    height: 32px;\n",
              "    padding: 0;\n",
              "    width: 32px;\n",
              "  }\n",
              "\n",
              "  .colab-df-quickchart:hover {\n",
              "    background-color: var(--hover-bg-color);\n",
              "    box-shadow: 0 1px 2px rgba(60, 64, 67, 0.3), 0 1px 3px 1px rgba(60, 64, 67, 0.15);\n",
              "    fill: var(--button-hover-fill-color);\n",
              "  }\n",
              "\n",
              "  .colab-df-quickchart-complete:disabled,\n",
              "  .colab-df-quickchart-complete:disabled:hover {\n",
              "    background-color: var(--disabled-bg-color);\n",
              "    fill: var(--disabled-fill-color);\n",
              "    box-shadow: none;\n",
              "  }\n",
              "\n",
              "  .colab-df-spinner {\n",
              "    border: 2px solid var(--fill-color);\n",
              "    border-color: transparent;\n",
              "    border-bottom-color: var(--fill-color);\n",
              "    animation:\n",
              "      spin 1s steps(1) infinite;\n",
              "  }\n",
              "\n",
              "  @keyframes spin {\n",
              "    0% {\n",
              "      border-color: transparent;\n",
              "      border-bottom-color: var(--fill-color);\n",
              "      border-left-color: var(--fill-color);\n",
              "    }\n",
              "    20% {\n",
              "      border-color: transparent;\n",
              "      border-left-color: var(--fill-color);\n",
              "      border-top-color: var(--fill-color);\n",
              "    }\n",
              "    30% {\n",
              "      border-color: transparent;\n",
              "      border-left-color: var(--fill-color);\n",
              "      border-top-color: var(--fill-color);\n",
              "      border-right-color: var(--fill-color);\n",
              "    }\n",
              "    40% {\n",
              "      border-color: transparent;\n",
              "      border-right-color: var(--fill-color);\n",
              "      border-top-color: var(--fill-color);\n",
              "    }\n",
              "    60% {\n",
              "      border-color: transparent;\n",
              "      border-right-color: var(--fill-color);\n",
              "    }\n",
              "    80% {\n",
              "      border-color: transparent;\n",
              "      border-right-color: var(--fill-color);\n",
              "      border-bottom-color: var(--fill-color);\n",
              "    }\n",
              "    90% {\n",
              "      border-color: transparent;\n",
              "      border-bottom-color: var(--fill-color);\n",
              "    }\n",
              "  }\n",
              "</style>\n",
              "\n",
              "  <script>\n",
              "    async function quickchart(key) {\n",
              "      const quickchartButtonEl =\n",
              "        document.querySelector('#' + key + ' button');\n",
              "      quickchartButtonEl.disabled = true;  // To prevent multiple clicks.\n",
              "      quickchartButtonEl.classList.add('colab-df-spinner');\n",
              "      try {\n",
              "        const charts = await google.colab.kernel.invokeFunction(\n",
              "            'suggestCharts', [key], {});\n",
              "      } catch (error) {\n",
              "        console.error('Error during call to suggestCharts:', error);\n",
              "      }\n",
              "      quickchartButtonEl.classList.remove('colab-df-spinner');\n",
              "      quickchartButtonEl.classList.add('colab-df-quickchart-complete');\n",
              "    }\n",
              "    (() => {\n",
              "      let quickchartButtonEl =\n",
              "        document.querySelector('#df-2bc0a79d-e76c-43b9-a006-2b77ed545d10 button');\n",
              "      quickchartButtonEl.style.display =\n",
              "        google.colab.kernel.accessAllowed ? 'block' : 'none';\n",
              "    })();\n",
              "  </script>\n",
              "</div>\n",
              "\n",
              "    </div>\n",
              "  </div>\n"
            ],
            "application/vnd.google.colaboratory.intrinsic+json": {
              "type": "dataframe",
              "summary": "{\n  \"name\": \"pd\",\n  \"rows\": 10,\n  \"fields\": [\n    {\n      \"column\": [\n        \"equal_units_binned\",\n        \"\"\n      ],\n      \"properties\": {\n        \"dtype\": \"number\",\n        \"std\": 3.0276503540974917,\n        \"min\": 0.0,\n        \"max\": 9.0,\n        \"num_unique_values\": 10,\n        \"samples\": [\n          8.0,\n          1.0,\n          5.0\n        ],\n        \"semantic_type\": \"\",\n        \"description\": \"\"\n      }\n    },\n    {\n      \"column\": [\n        \"min\",\n        \"units\"\n      ],\n      \"properties\": {\n        \"dtype\": \"number\",\n        \"std\": 79.51023693699936,\n        \"min\": 1.0,\n        \"max\": 261.0,\n        \"num_unique_values\": 10,\n        \"samples\": [\n          144.0,\n          12.0,\n          46.0\n        ],\n        \"semantic_type\": \"\",\n        \"description\": \"\"\n      }\n    },\n    {\n      \"column\": [\n        \"max\",\n        \"units\"\n      ],\n      \"properties\": {\n        \"dtype\": \"number\",\n        \"std\": 240.6831942616684,\n        \"min\": 11.0,\n        \"max\": 799.0,\n        \"num_unique_values\": 10,\n        \"samples\": [\n          260.0,\n          18.0,\n          63.0\n        ],\n        \"semantic_type\": \"\",\n        \"description\": \"\"\n      }\n    },\n    {\n      \"column\": [\n        \"count\",\n        \"units\"\n      ],\n      \"properties\": {\n        \"dtype\": \"number\",\n        \"std\": 3,\n        \"min\": 95,\n        \"max\": 106,\n        \"num_unique_values\": 7,\n        \"samples\": [\n          101,\n          106,\n          103\n        ],\n        \"semantic_type\": \"\",\n        \"description\": \"\"\n      }\n    }\n  ]\n}"
            }
          },
          "metadata": {},
          "execution_count": 804
        }
      ]
    },
    {
      "cell_type": "code",
      "source": [
        "X_test_rfs['equal_units_binned'] = pd.cut(X_test_rfs['units'], bins=bin_edges, labels=False, include_lowest=True)"
      ],
      "metadata": {
        "id": "Zj6_jhXwLKqC"
      },
      "execution_count": null,
      "outputs": []
    },
    {
      "cell_type": "code",
      "source": [
        "X_test_rfs['equal_units_binned'].value_counts(dropna=False)"
      ],
      "metadata": {
        "colab": {
          "base_uri": "https://localhost:8080/",
          "height": 461
        },
        "id": "q_pCjjo_LRcu",
        "outputId": "246b05a2-0b27-444f-d22e-21a3a1dd5cdf"
      },
      "execution_count": null,
      "outputs": [
        {
          "output_type": "execute_result",
          "data": {
            "text/plain": [
              "equal_units_binned\n",
              "NaN    32\n",
              "5.0    28\n",
              "7.0    26\n",
              "8.0    26\n",
              "2.0    26\n",
              "0.0    25\n",
              "9.0    23\n",
              "1.0    23\n",
              "4.0    23\n",
              "3.0    21\n",
              "6.0    21\n",
              "Name: count, dtype: int64"
            ],
            "text/html": [
              "<div>\n",
              "<style scoped>\n",
              "    .dataframe tbody tr th:only-of-type {\n",
              "        vertical-align: middle;\n",
              "    }\n",
              "\n",
              "    .dataframe tbody tr th {\n",
              "        vertical-align: top;\n",
              "    }\n",
              "\n",
              "    .dataframe thead th {\n",
              "        text-align: right;\n",
              "    }\n",
              "</style>\n",
              "<table border=\"1\" class=\"dataframe\">\n",
              "  <thead>\n",
              "    <tr style=\"text-align: right;\">\n",
              "      <th></th>\n",
              "      <th>count</th>\n",
              "    </tr>\n",
              "    <tr>\n",
              "      <th>equal_units_binned</th>\n",
              "      <th></th>\n",
              "    </tr>\n",
              "  </thead>\n",
              "  <tbody>\n",
              "    <tr>\n",
              "      <th>NaN</th>\n",
              "      <td>32</td>\n",
              "    </tr>\n",
              "    <tr>\n",
              "      <th>5.0</th>\n",
              "      <td>28</td>\n",
              "    </tr>\n",
              "    <tr>\n",
              "      <th>7.0</th>\n",
              "      <td>26</td>\n",
              "    </tr>\n",
              "    <tr>\n",
              "      <th>8.0</th>\n",
              "      <td>26</td>\n",
              "    </tr>\n",
              "    <tr>\n",
              "      <th>2.0</th>\n",
              "      <td>26</td>\n",
              "    </tr>\n",
              "    <tr>\n",
              "      <th>0.0</th>\n",
              "      <td>25</td>\n",
              "    </tr>\n",
              "    <tr>\n",
              "      <th>9.0</th>\n",
              "      <td>23</td>\n",
              "    </tr>\n",
              "    <tr>\n",
              "      <th>1.0</th>\n",
              "      <td>23</td>\n",
              "    </tr>\n",
              "    <tr>\n",
              "      <th>4.0</th>\n",
              "      <td>23</td>\n",
              "    </tr>\n",
              "    <tr>\n",
              "      <th>3.0</th>\n",
              "      <td>21</td>\n",
              "    </tr>\n",
              "    <tr>\n",
              "      <th>6.0</th>\n",
              "      <td>21</td>\n",
              "    </tr>\n",
              "  </tbody>\n",
              "</table>\n",
              "</div><br><label><b>dtype:</b> int64</label>"
            ]
          },
          "metadata": {},
          "execution_count": 806
        }
      ]
    },
    {
      "cell_type": "code",
      "source": [
        "#drop the original units column\n",
        "X_train_rfs = X_train_rfs.drop(['units', 'log_units', 'log_units_binned'], axis=1)\n",
        "X_test_rfs = X_test_rfs.drop('units', axis=1)"
      ],
      "metadata": {
        "id": "Hu0ZpDduLdOs"
      },
      "execution_count": null,
      "outputs": []
    },
    {
      "cell_type": "markdown",
      "source": [
        "Now we'll convert the binned units column dummies. Since get_dummies ignores nulls, when we convert this column the nulls will no longer be in our data"
      ],
      "metadata": {
        "id": "3cDLT1z_XJOq"
      }
    },
    {
      "cell_type": "code",
      "source": [
        "X_train_rfs = pd.get_dummies(X_train_rfs, columns=['equal_units_binned'], prefix = 'unit_bin')\n",
        "X_test_rfs = pd.get_dummies(X_test_rfs, columns=['equal_units_binned'], prefix = 'unit_bin')"
      ],
      "metadata": {
        "id": "2sULl7fUHtB8"
      },
      "execution_count": null,
      "outputs": []
    },
    {
      "cell_type": "code",
      "source": [
        "X_train_rfs.info()"
      ],
      "metadata": {
        "colab": {
          "base_uri": "https://localhost:8080/"
        },
        "id": "XaxoaJ8gIES3",
        "outputId": "ead1d24e-eb9a-4c76-d934-a29c38e2c8e0"
      },
      "execution_count": null,
      "outputs": [
        {
          "output_type": "stream",
          "name": "stdout",
          "text": [
            "<class 'pandas.core.frame.DataFrame'>\n",
            "Index: 1096 entries, 693 to 434\n",
            "Data columns (total 31 columns):\n",
            " #   Column                Non-Null Count  Dtype  \n",
            "---  ------                --------------  -----  \n",
            " 0   prev_rfs              1096 non-null   int64  \n",
            " 1   reminder              1096 non-null   int64  \n",
            " 2   fee_probable          1096 non-null   float64\n",
            " 3   sow_Class 1 RFS       1096 non-null   bool   \n",
            " 4   sow_Class 2 RFS       1096 non-null   bool   \n",
            " 5   sow_Class 3 RFS       1096 non-null   bool   \n",
            " 6   sow_Update RFS        1096 non-null   bool   \n",
            " 7   region_EO             1096 non-null   bool   \n",
            " 8   region_GH             1096 non-null   bool   \n",
            " 9   region_HUR            1096 non-null   bool   \n",
            " 10  region_Other          1096 non-null   bool   \n",
            " 11  region_PC             1096 non-null   bool   \n",
            " 12  region_TOR            1096 non-null   bool   \n",
            " 13  region_YR             1096 non-null   bool   \n",
            " 14  building_commercial   1096 non-null   bool   \n",
            " 15  building_highrise     1096 non-null   bool   \n",
            " 16  building_mixed_use    1096 non-null   bool   \n",
            " 17  building_potl         1096 non-null   bool   \n",
            " 18  building_residential  1096 non-null   bool   \n",
            " 19  building_townhouse    1096 non-null   bool   \n",
            " 20  building_unknown      1096 non-null   bool   \n",
            " 21  unit_bin_0.0          1096 non-null   bool   \n",
            " 22  unit_bin_1.0          1096 non-null   bool   \n",
            " 23  unit_bin_2.0          1096 non-null   bool   \n",
            " 24  unit_bin_3.0          1096 non-null   bool   \n",
            " 25  unit_bin_4.0          1096 non-null   bool   \n",
            " 26  unit_bin_5.0          1096 non-null   bool   \n",
            " 27  unit_bin_6.0          1096 non-null   bool   \n",
            " 28  unit_bin_7.0          1096 non-null   bool   \n",
            " 29  unit_bin_8.0          1096 non-null   bool   \n",
            " 30  unit_bin_9.0          1096 non-null   bool   \n",
            "dtypes: bool(28), float64(1), int64(2)\n",
            "memory usage: 64.2 KB\n"
          ]
        }
      ]
    },
    {
      "cell_type": "code",
      "source": [
        "X_test_rfs.info()"
      ],
      "metadata": {
        "colab": {
          "base_uri": "https://localhost:8080/"
        },
        "id": "w-3LgkkHIJJU",
        "outputId": "eecc65d1-95d8-4003-c3f7-da6d18eff1fa"
      },
      "execution_count": null,
      "outputs": [
        {
          "output_type": "stream",
          "name": "stdout",
          "text": [
            "<class 'pandas.core.frame.DataFrame'>\n",
            "Index: 274 entries, 527 to 314\n",
            "Data columns (total 31 columns):\n",
            " #   Column                Non-Null Count  Dtype  \n",
            "---  ------                --------------  -----  \n",
            " 0   prev_rfs              274 non-null    int64  \n",
            " 1   reminder              274 non-null    int64  \n",
            " 2   fee_probable          274 non-null    float64\n",
            " 3   sow_Class 1 RFS       274 non-null    bool   \n",
            " 4   sow_Class 2 RFS       274 non-null    bool   \n",
            " 5   sow_Class 3 RFS       274 non-null    bool   \n",
            " 6   sow_Update RFS        274 non-null    bool   \n",
            " 7   region_EO             274 non-null    bool   \n",
            " 8   region_GH             274 non-null    bool   \n",
            " 9   region_HUR            274 non-null    bool   \n",
            " 10  region_Other          274 non-null    bool   \n",
            " 11  region_PC             274 non-null    bool   \n",
            " 12  region_TOR            274 non-null    bool   \n",
            " 13  region_YR             274 non-null    bool   \n",
            " 14  building_commercial   274 non-null    bool   \n",
            " 15  building_highrise     274 non-null    bool   \n",
            " 16  building_mixed_use    274 non-null    bool   \n",
            " 17  building_potl         274 non-null    bool   \n",
            " 18  building_residential  274 non-null    bool   \n",
            " 19  building_townhouse    274 non-null    bool   \n",
            " 20  building_unknown      274 non-null    bool   \n",
            " 21  unit_bin_0.0          274 non-null    bool   \n",
            " 22  unit_bin_1.0          274 non-null    bool   \n",
            " 23  unit_bin_2.0          274 non-null    bool   \n",
            " 24  unit_bin_3.0          274 non-null    bool   \n",
            " 25  unit_bin_4.0          274 non-null    bool   \n",
            " 26  unit_bin_5.0          274 non-null    bool   \n",
            " 27  unit_bin_6.0          274 non-null    bool   \n",
            " 28  unit_bin_7.0          274 non-null    bool   \n",
            " 29  unit_bin_8.0          274 non-null    bool   \n",
            " 30  unit_bin_9.0          274 non-null    bool   \n",
            "dtypes: bool(28), float64(1), int64(2)\n",
            "memory usage: 16.1 KB\n"
          ]
        }
      ]
    },
    {
      "cell_type": "markdown",
      "source": [
        "**fee_probable**"
      ],
      "metadata": {
        "id": "plD9F-8sMF8p"
      }
    },
    {
      "cell_type": "markdown",
      "source": [
        "We'll bin this one similar to how we binned it for the ALL model"
      ],
      "metadata": {
        "id": "vpX0QxFfMH2-"
      }
    },
    {
      "cell_type": "code",
      "source": [
        "X_train_rfs['equal_fee_binned'], bin_edges = pd.qcut(X_train_rfs['fee_probable'], q=10, labels=False, retbins=True)"
      ],
      "metadata": {
        "id": "5COwX94iMMiF"
      },
      "execution_count": null,
      "outputs": []
    },
    {
      "cell_type": "code",
      "source": [
        "plt.figure(figsize=(8, 6))\n",
        "plt.hist(X_train_rfs['equal_fee_binned'], bins=8, edgecolor='k')\n",
        "plt.xlabel('Equal Fee Bin')\n",
        "plt.ylabel('Frequency')\n",
        "plt.title('Distribution of Fee Bins')"
      ],
      "metadata": {
        "colab": {
          "base_uri": "https://localhost:8080/",
          "height": 582
        },
        "id": "CHdKiZ8TMX9Y",
        "outputId": "d27e8599-da45-4596-b0b4-79c4b0ab25bd"
      },
      "execution_count": null,
      "outputs": [
        {
          "output_type": "execute_result",
          "data": {
            "text/plain": [
              "Text(0.5, 1.0, 'Distribution of Fee Bins')"
            ]
          },
          "metadata": {},
          "execution_count": 812
        },
        {
          "output_type": "display_data",
          "data": {
            "text/plain": [
              "<Figure size 800x600 with 1 Axes>"
            ],
            "image/png": "[encoded data removed]"
          },
          "metadata": {}
        }
      ]
    },
    {
      "cell_type": "code",
      "source": [
        "pd.pivot_table(X_train_rfs, index='equal_fee_binned', values='fee_probable', aggfunc=['min', 'max', 'count'])"
      ],
      "metadata": {
        "colab": {
          "base_uri": "https://localhost:8080/",
          "height": 426
        },
        "id": "5uXDoycLMeqU",
        "outputId": "4d2ff6c4-5689-4ff6-fa93-a47515eba423"
      },
      "execution_count": null,
      "outputs": [
        {
          "output_type": "execute_result",
          "data": {
            "text/plain": [
              "                          min          max        count\n",
              "                 fee_probable fee_probable fee_probable\n",
              "equal_fee_binned                                       \n",
              "0                       932.0       1995.0          121\n",
              "1                      2080.0       2295.0          145\n",
              "2                      2300.0       2495.0          106\n",
              "3                      2500.0       2695.0           83\n",
              "4                      2750.0       2995.0          118\n",
              "5                      3000.0       3295.0          105\n",
              "6                      3345.0       3695.0          102\n",
              "7                      3795.0       4195.0          102\n",
              "8                      4295.0       5195.0          112\n",
              "9                      5295.0      11895.0          102"
            ],
            "text/html": [
              "\n",
              "  <div id=\"df-f547772d-76fc-406a-95d2-609601f0cdfd\" class=\"colab-df-container\">\n",
              "    <div>\n",
              "<style scoped>\n",
              "    .dataframe tbody tr th:only-of-type {\n",
              "        vertical-align: middle;\n",
              "    }\n",
              "\n",
              "    .dataframe tbody tr th {\n",
              "        vertical-align: top;\n",
              "    }\n",
              "\n",
              "    .dataframe thead tr th {\n",
              "        text-align: left;\n",
              "    }\n",
              "\n",
              "    .dataframe thead tr:last-of-type th {\n",
              "        text-align: right;\n",
              "    }\n",
              "</style>\n",
              "<table border=\"1\" class=\"dataframe\">\n",
              "  <thead>\n",
              "    <tr>\n",
              "      <th></th>\n",
              "      <th>min</th>\n",
              "      <th>max</th>\n",
              "      <th>count</th>\n",
              "    </tr>\n",
              "    <tr>\n",
              "      <th></th>\n",
              "      <th>fee_probable</th>\n",
              "      <th>fee_probable</th>\n",
              "      <th>fee_probable</th>\n",
              "    </tr>\n",
              "    <tr>\n",
              "      <th>equal_fee_binned</th>\n",
              "      <th></th>\n",
              "      <th></th>\n",
              "      <th></th>\n",
              "    </tr>\n",
              "  </thead>\n",
              "  <tbody>\n",
              "    <tr>\n",
              "      <th>0</th>\n",
              "      <td>932.0</td>\n",
              "      <td>1995.0</td>\n",
              "      <td>121</td>\n",
              "    </tr>\n",
              "    <tr>\n",
              "      <th>1</th>\n",
              "      <td>2080.0</td>\n",
              "      <td>2295.0</td>\n",
              "      <td>145</td>\n",
              "    </tr>\n",
              "    <tr>\n",
              "      <th>2</th>\n",
              "      <td>2300.0</td>\n",
              "      <td>2495.0</td>\n",
              "      <td>106</td>\n",
              "    </tr>\n",
              "    <tr>\n",
              "      <th>3</th>\n",
              "      <td>2500.0</td>\n",
              "      <td>2695.0</td>\n",
              "      <td>83</td>\n",
              "    </tr>\n",
              "    <tr>\n",
              "      <th>4</th>\n",
              "      <td>2750.0</td>\n",
              "      <td>2995.0</td>\n",
              "      <td>118</td>\n",
              "    </tr>\n",
              "    <tr>\n",
              "      <th>5</th>\n",
              "      <td>3000.0</td>\n",
              "      <td>3295.0</td>\n",
              "      <td>105</td>\n",
              "    </tr>\n",
              "    <tr>\n",
              "      <th>6</th>\n",
              "      <td>3345.0</td>\n",
              "      <td>3695.0</td>\n",
              "      <td>102</td>\n",
              "    </tr>\n",
              "    <tr>\n",
              "      <th>7</th>\n",
              "      <td>3795.0</td>\n",
              "      <td>4195.0</td>\n",
              "      <td>102</td>\n",
              "    </tr>\n",
              "    <tr>\n",
              "      <th>8</th>\n",
              "      <td>4295.0</td>\n",
              "      <td>5195.0</td>\n",
              "      <td>112</td>\n",
              "    </tr>\n",
              "    <tr>\n",
              "      <th>9</th>\n",
              "      <td>5295.0</td>\n",
              "      <td>11895.0</td>\n",
              "      <td>102</td>\n",
              "    </tr>\n",
              "  </tbody>\n",
              "</table>\n",
              "</div>\n",
              "    <div class=\"colab-df-buttons\">\n",
              "\n",
              "  <div class=\"colab-df-container\">\n",
              "    <button class=\"colab-df-convert\" onclick=\"convertToInteractive('df-f547772d-76fc-406a-95d2-609601f0cdfd')\"\n",
              "            title=\"Convert this dataframe to an interactive table.\"\n",
              "            style=\"display:none;\">\n",
              "\n",
              "  <svg xmlns=\"http://www.w3.org/2000/svg\" height=\"24px\" viewBox=\"0 -960 960 960\">\n",
              "    <path d=\"M120-120v-720h720v720H120Zm60-500h600v-160H180v160Zm220 220h160v-160H400v160Zm0 220h160v-160H400v160ZM180-400h160v-160H180v160Zm440 0h160v-160H620v160ZM180-180h160v-160H180v160Zm440 0h160v-160H620v160Z\"/>\n",
              "  </svg>\n",
              "    </button>\n",
              "\n",
              "  <style>\n",
              "    .colab-df-container {\n",
              "      display:flex;\n",
              "      gap: 12px;\n",
              "    }\n",
              "\n",
              "    .colab-df-convert {\n",
              "      background-color: #E8F0FE;\n",
              "      border: none;\n",
              "      border-radius: 50%;\n",
              "      cursor: pointer;\n",
              "      display: none;\n",
              "      fill: #1967D2;\n",
              "      height: 32px;\n",
              "      padding: 0 0 0 0;\n",
              "      width: 32px;\n",
              "    }\n",
              "\n",
              "    .colab-df-convert:hover {\n",
              "      background-color: #E2EBFA;\n",
              "      box-shadow: 0px 1px 2px rgba(60, 64, 67, 0.3), 0px 1px 3px 1px rgba(60, 64, 67, 0.15);\n",
              "      fill: #174EA6;\n",
              "    }\n",
              "\n",
              "    .colab-df-buttons div {\n",
              "      margin-bottom: 4px;\n",
              "    }\n",
              "\n",
              "    [theme=dark] .colab-df-convert {\n",
              "      background-color: #3B4455;\n",
              "      fill: #D2E3FC;\n",
              "    }\n",
              "\n",
              "    [theme=dark] .colab-df-convert:hover {\n",
              "      background-color: #434B5C;\n",
              "      box-shadow: 0px 1px 3px 1px rgba(0, 0, 0, 0.15);\n",
              "      filter: drop-shadow(0px 1px 2px rgba(0, 0, 0, 0.3));\n",
              "      fill: #FFFFFF;\n",
              "    }\n",
              "  </style>\n",
              "\n",
              "    <script>\n",
              "      const buttonEl =\n",
              "        document.querySelector('#df-f547772d-76fc-406a-95d2-609601f0cdfd button.colab-df-convert');\n",
              "      buttonEl.style.display =\n",
              "        google.colab.kernel.accessAllowed ? 'block' : 'none';\n",
              "\n",
              "      async function convertToInteractive(key) {\n",
              "        const element = document.querySelector('#df-f547772d-76fc-406a-95d2-609601f0cdfd');\n",
              "        const dataTable =\n",
              "          await google.colab.kernel.invokeFunction('convertToInteractive',\n",
              "                                                    [key], {});\n",
              "        if (!dataTable) return;\n",
              "\n",
              "        const docLinkHtml = 'Like what you see? Visit the ' +\n",
              "          '<a target=\"_blank\" href=https://colab.research.google.com/notebooks/data_table.ipynb>data table notebook</a>'\n",
              "          + ' to learn more about interactive tables.';\n",
              "        element.innerHTML = '';\n",
              "        dataTable['output_type'] = 'display_data';\n",
              "        await google.colab.output.renderOutput(dataTable, element);\n",
              "        const docLink = document.createElement('div');\n",
              "        docLink.innerHTML = docLinkHtml;\n",
              "        element.appendChild(docLink);\n",
              "      }\n",
              "    </script>\n",
              "  </div>\n",
              "\n",
              "\n",
              "<div id=\"df-64edf0ea-f1a1-49d9-8f69-04802f741f4f\">\n",
              "  <button class=\"colab-df-quickchart\" onclick=\"quickchart('df-64edf0ea-f1a1-49d9-8f69-04802f741f4f')\"\n",
              "            title=\"Suggest charts\"\n",
              "            style=\"display:none;\">\n",
              "\n",
              "<svg xmlns=\"http://www.w3.org/2000/svg\" height=\"24px\"viewBox=\"0 0 24 24\"\n",
              "     width=\"24px\">\n",
              "    <g>\n",
              "        <path d=\"M19 3H5c-1.1 0-2 .9-2 2v14c0 1.1.9 2 2 2h14c1.1 0 2-.9 2-2V5c0-1.1-.9-2-2-2zM9 17H7v-7h2v7zm4 0h-2V7h2v10zm4 0h-2v-4h2v4z\"/>\n",
              "    </g>\n",
              "</svg>\n",
              "  </button>\n",
              "\n",
              "<style>\n",
              "  .colab-df-quickchart {\n",
              "      --bg-color: #E8F0FE;\n",
              "      --fill-color: #1967D2;\n",
              "      --hover-bg-color: #E2EBFA;\n",
              "      --hover-fill-color: #174EA6;\n",
              "      --disabled-fill-color: #AAA;\n",
              "      --disabled-bg-color: #DDD;\n",
              "  }\n",
              "\n",
              "  [theme=dark] .colab-df-quickchart {\n",
              "      --bg-color: #3B4455;\n",
              "      --fill-color: #D2E3FC;\n",
              "      --hover-bg-color: #434B5C;\n",
              "      --hover-fill-color: #FFFFFF;\n",
              "      --disabled-bg-color: #3B4455;\n",
              "      --disabled-fill-color: #666;\n",
              "  }\n",
              "\n",
              "  .colab-df-quickchart {\n",
              "    background-color: var(--bg-color);\n",
              "    border: none;\n",
              "    border-radius: 50%;\n",
              "    cursor: pointer;\n",
              "    display: none;\n",
              "    fill: var(--fill-color);\n",
              "    height: 32px;\n",
              "    padding: 0;\n",
              "    width: 32px;\n",
              "  }\n",
              "\n",
              "  .colab-df-quickchart:hover {\n",
              "    background-color: var(--hover-bg-color);\n",
              "    box-shadow: 0 1px 2px rgba(60, 64, 67, 0.3), 0 1px 3px 1px rgba(60, 64, 67, 0.15);\n",
              "    fill: var(--button-hover-fill-color);\n",
              "  }\n",
              "\n",
              "  .colab-df-quickchart-complete:disabled,\n",
              "  .colab-df-quickchart-complete:disabled:hover {\n",
              "    background-color: var(--disabled-bg-color);\n",
              "    fill: var(--disabled-fill-color);\n",
              "    box-shadow: none;\n",
              "  }\n",
              "\n",
              "  .colab-df-spinner {\n",
              "    border: 2px solid var(--fill-color);\n",
              "    border-color: transparent;\n",
              "    border-bottom-color: var(--fill-color);\n",
              "    animation:\n",
              "      spin 1s steps(1) infinite;\n",
              "  }\n",
              "\n",
              "  @keyframes spin {\n",
              "    0% {\n",
              "      border-color: transparent;\n",
              "      border-bottom-color: var(--fill-color);\n",
              "      border-left-color: var(--fill-color);\n",
              "    }\n",
              "    20% {\n",
              "      border-color: transparent;\n",
              "      border-left-color: var(--fill-color);\n",
              "      border-top-color: var(--fill-color);\n",
              "    }\n",
              "    30% {\n",
              "      border-color: transparent;\n",
              "      border-left-color: var(--fill-color);\n",
              "      border-top-color: var(--fill-color);\n",
              "      border-right-color: var(--fill-color);\n",
              "    }\n",
              "    40% {\n",
              "      border-color: transparent;\n",
              "      border-right-color: var(--fill-color);\n",
              "      border-top-color: var(--fill-color);\n",
              "    }\n",
              "    60% {\n",
              "      border-color: transparent;\n",
              "      border-right-color: var(--fill-color);\n",
              "    }\n",
              "    80% {\n",
              "      border-color: transparent;\n",
              "      border-right-color: var(--fill-color);\n",
              "      border-bottom-color: var(--fill-color);\n",
              "    }\n",
              "    90% {\n",
              "      border-color: transparent;\n",
              "      border-bottom-color: var(--fill-color);\n",
              "    }\n",
              "  }\n",
              "</style>\n",
              "\n",
              "  <script>\n",
              "    async function quickchart(key) {\n",
              "      const quickchartButtonEl =\n",
              "        document.querySelector('#' + key + ' button');\n",
              "      quickchartButtonEl.disabled = true;  // To prevent multiple clicks.\n",
              "      quickchartButtonEl.classList.add('colab-df-spinner');\n",
              "      try {\n",
              "        const charts = await google.colab.kernel.invokeFunction(\n",
              "            'suggestCharts', [key], {});\n",
              "      } catch (error) {\n",
              "        console.error('Error during call to suggestCharts:', error);\n",
              "      }\n",
              "      quickchartButtonEl.classList.remove('colab-df-spinner');\n",
              "      quickchartButtonEl.classList.add('colab-df-quickchart-complete');\n",
              "    }\n",
              "    (() => {\n",
              "      let quickchartButtonEl =\n",
              "        document.querySelector('#df-64edf0ea-f1a1-49d9-8f69-04802f741f4f button');\n",
              "      quickchartButtonEl.style.display =\n",
              "        google.colab.kernel.accessAllowed ? 'block' : 'none';\n",
              "    })();\n",
              "  </script>\n",
              "</div>\n",
              "\n",
              "    </div>\n",
              "  </div>\n"
            ],
            "application/vnd.google.colaboratory.intrinsic+json": {
              "type": "dataframe",
              "summary": "{\n  \"name\": \"pd\",\n  \"rows\": 10,\n  \"fields\": [\n    {\n      \"column\": [\n        \"equal_fee_binned\",\n        \"\"\n      ],\n      \"properties\": {\n        \"dtype\": \"number\",\n        \"std\": 3,\n        \"min\": 0,\n        \"max\": 9,\n        \"num_unique_values\": 10,\n        \"samples\": [\n          8,\n          1,\n          5\n        ],\n        \"semantic_type\": \"\",\n        \"description\": \"\"\n      }\n    },\n    {\n      \"column\": [\n        \"min\",\n        \"fee_probable\"\n      ],\n      \"properties\": {\n        \"dtype\": \"number\",\n        \"std\": 1229.8192098389457,\n        \"min\": 932.0,\n        \"max\": 5295.0,\n        \"num_unique_values\": 10,\n        \"samples\": [\n          4295.0,\n          2080.0,\n          3000.0\n        ],\n        \"semantic_type\": \"\",\n        \"description\": \"\"\n      }\n    },\n    {\n      \"column\": [\n        \"max\",\n        \"fee_probable\"\n      ],\n      \"properties\": {\n        \"dtype\": \"number\",\n        \"std\": 2910.4409746061965,\n        \"min\": 1995.0,\n        \"max\": 11895.0,\n        \"num_unique_values\": 10,\n        \"samples\": [\n          5195.0,\n          2295.0,\n          3295.0\n        ],\n        \"semantic_type\": \"\",\n        \"description\": \"\"\n      }\n    },\n    {\n      \"column\": [\n        \"count\",\n        \"fee_probable\"\n      ],\n      \"properties\": {\n        \"dtype\": \"number\",\n        \"std\": 16,\n        \"min\": 83,\n        \"max\": 145,\n        \"num_unique_values\": 8,\n        \"samples\": [\n          145,\n          105,\n          121\n        ],\n        \"semantic_type\": \"\",\n        \"description\": \"\"\n      }\n    }\n  ]\n}"
            }
          },
          "metadata": {},
          "execution_count": 813
        }
      ]
    },
    {
      "cell_type": "code",
      "source": [
        "X_test_rfs['equal_fee_binned'] = pd.cut(X_test_rfs['fee_probable'], bins=bin_edges, labels=False, include_lowest=True)"
      ],
      "metadata": {
        "id": "UzIXEDLrMnHO"
      },
      "execution_count": null,
      "outputs": []
    },
    {
      "cell_type": "code",
      "source": [
        "X_test_rfs['equal_fee_binned'].value_counts()"
      ],
      "metadata": {
        "colab": {
          "base_uri": "https://localhost:8080/",
          "height": 429
        },
        "id": "9E1adtRTMurr",
        "outputId": "d466e30e-58e7-4dad-da78-0e35d483da70"
      },
      "execution_count": null,
      "outputs": [
        {
          "output_type": "execute_result",
          "data": {
            "text/plain": [
              "equal_fee_binned\n",
              "1.0    40\n",
              "4.0    36\n",
              "0.0    27\n",
              "2.0    26\n",
              "6.0    26\n",
              "9.0    25\n",
              "8.0    24\n",
              "3.0    23\n",
              "7.0    23\n",
              "5.0    22\n",
              "Name: count, dtype: int64"
            ],
            "text/html": [
              "<div>\n",
              "<style scoped>\n",
              "    .dataframe tbody tr th:only-of-type {\n",
              "        vertical-align: middle;\n",
              "    }\n",
              "\n",
              "    .dataframe tbody tr th {\n",
              "        vertical-align: top;\n",
              "    }\n",
              "\n",
              "    .dataframe thead th {\n",
              "        text-align: right;\n",
              "    }\n",
              "</style>\n",
              "<table border=\"1\" class=\"dataframe\">\n",
              "  <thead>\n",
              "    <tr style=\"text-align: right;\">\n",
              "      <th></th>\n",
              "      <th>count</th>\n",
              "    </tr>\n",
              "    <tr>\n",
              "      <th>equal_fee_binned</th>\n",
              "      <th></th>\n",
              "    </tr>\n",
              "  </thead>\n",
              "  <tbody>\n",
              "    <tr>\n",
              "      <th>1.0</th>\n",
              "      <td>40</td>\n",
              "    </tr>\n",
              "    <tr>\n",
              "      <th>4.0</th>\n",
              "      <td>36</td>\n",
              "    </tr>\n",
              "    <tr>\n",
              "      <th>0.0</th>\n",
              "      <td>27</td>\n",
              "    </tr>\n",
              "    <tr>\n",
              "      <th>2.0</th>\n",
              "      <td>26</td>\n",
              "    </tr>\n",
              "    <tr>\n",
              "      <th>6.0</th>\n",
              "      <td>26</td>\n",
              "    </tr>\n",
              "    <tr>\n",
              "      <th>9.0</th>\n",
              "      <td>25</td>\n",
              "    </tr>\n",
              "    <tr>\n",
              "      <th>8.0</th>\n",
              "      <td>24</td>\n",
              "    </tr>\n",
              "    <tr>\n",
              "      <th>3.0</th>\n",
              "      <td>23</td>\n",
              "    </tr>\n",
              "    <tr>\n",
              "      <th>7.0</th>\n",
              "      <td>23</td>\n",
              "    </tr>\n",
              "    <tr>\n",
              "      <th>5.0</th>\n",
              "      <td>22</td>\n",
              "    </tr>\n",
              "  </tbody>\n",
              "</table>\n",
              "</div><br><label><b>dtype:</b> int64</label>"
            ]
          },
          "metadata": {},
          "execution_count": 815
        }
      ]
    },
    {
      "cell_type": "code",
      "source": [
        "#Create dummies\n",
        "X_train_rfs = pd.get_dummies(X_train_rfs, columns=['equal_fee_binned'], prefix = 'fee_bin')\n",
        "X_test_rfs = pd.get_dummies(X_test_rfs, columns=['equal_fee_binned'], prefix = 'fee_bin')"
      ],
      "metadata": {
        "id": "WJGASIRoMzZi"
      },
      "execution_count": null,
      "outputs": []
    },
    {
      "cell_type": "code",
      "source": [
        "#drop fee_probable column\n",
        "X_train_rfs = X_train_rfs.drop('fee_probable', axis=1)\n",
        "X_test_rfs = X_test_rfs.drop('fee_probable', axis=1)"
      ],
      "metadata": {
        "id": "RhSgPSL5M-P6"
      },
      "execution_count": null,
      "outputs": []
    },
    {
      "cell_type": "code",
      "source": [
        "X_train_rfs.info()"
      ],
      "metadata": {
        "colab": {
          "base_uri": "https://localhost:8080/"
        },
        "id": "CwFbtsrBNBxI",
        "outputId": "257dcb63-6fff-4e51-cc7b-8f31ee231df3"
      },
      "execution_count": null,
      "outputs": [
        {
          "output_type": "stream",
          "name": "stdout",
          "text": [
            "<class 'pandas.core.frame.DataFrame'>\n",
            "Index: 1096 entries, 693 to 434\n",
            "Data columns (total 40 columns):\n",
            " #   Column                Non-Null Count  Dtype\n",
            "---  ------                --------------  -----\n",
            " 0   prev_rfs              1096 non-null   int64\n",
            " 1   reminder              1096 non-null   int64\n",
            " 2   sow_Class 1 RFS       1096 non-null   bool \n",
            " 3   sow_Class 2 RFS       1096 non-null   bool \n",
            " 4   sow_Class 3 RFS       1096 non-null   bool \n",
            " 5   sow_Update RFS        1096 non-null   bool \n",
            " 6   region_EO             1096 non-null   bool \n",
            " 7   region_GH             1096 non-null   bool \n",
            " 8   region_HUR            1096 non-null   bool \n",
            " 9   region_Other          1096 non-null   bool \n",
            " 10  region_PC             1096 non-null   bool \n",
            " 11  region_TOR            1096 non-null   bool \n",
            " 12  region_YR             1096 non-null   bool \n",
            " 13  building_commercial   1096 non-null   bool \n",
            " 14  building_highrise     1096 non-null   bool \n",
            " 15  building_mixed_use    1096 non-null   bool \n",
            " 16  building_potl         1096 non-null   bool \n",
            " 17  building_residential  1096 non-null   bool \n",
            " 18  building_townhouse    1096 non-null   bool \n",
            " 19  building_unknown      1096 non-null   bool \n",
            " 20  unit_bin_0.0          1096 non-null   bool \n",
            " 21  unit_bin_1.0          1096 non-null   bool \n",
            " 22  unit_bin_2.0          1096 non-null   bool \n",
            " 23  unit_bin_3.0          1096 non-null   bool \n",
            " 24  unit_bin_4.0          1096 non-null   bool \n",
            " 25  unit_bin_5.0          1096 non-null   bool \n",
            " 26  unit_bin_6.0          1096 non-null   bool \n",
            " 27  unit_bin_7.0          1096 non-null   bool \n",
            " 28  unit_bin_8.0          1096 non-null   bool \n",
            " 29  unit_bin_9.0          1096 non-null   bool \n",
            " 30  fee_bin_0             1096 non-null   bool \n",
            " 31  fee_bin_1             1096 non-null   bool \n",
            " 32  fee_bin_2             1096 non-null   bool \n",
            " 33  fee_bin_3             1096 non-null   bool \n",
            " 34  fee_bin_4             1096 non-null   bool \n",
            " 35  fee_bin_5             1096 non-null   bool \n",
            " 36  fee_bin_6             1096 non-null   bool \n",
            " 37  fee_bin_7             1096 non-null   bool \n",
            " 38  fee_bin_8             1096 non-null   bool \n",
            " 39  fee_bin_9             1096 non-null   bool \n",
            "dtypes: bool(38), int64(2)\n",
            "memory usage: 66.4 KB\n"
          ]
        }
      ]
    },
    {
      "cell_type": "code",
      "source": [
        "X_test_rfs.info()"
      ],
      "metadata": {
        "colab": {
          "base_uri": "https://localhost:8080/"
        },
        "id": "lYkK1sgWNGVI",
        "outputId": "2f5af902-f0f9-49c0-97ba-1c35fe88f142"
      },
      "execution_count": null,
      "outputs": [
        {
          "output_type": "stream",
          "name": "stdout",
          "text": [
            "<class 'pandas.core.frame.DataFrame'>\n",
            "Index: 274 entries, 527 to 314\n",
            "Data columns (total 40 columns):\n",
            " #   Column                Non-Null Count  Dtype\n",
            "---  ------                --------------  -----\n",
            " 0   prev_rfs              274 non-null    int64\n",
            " 1   reminder              274 non-null    int64\n",
            " 2   sow_Class 1 RFS       274 non-null    bool \n",
            " 3   sow_Class 2 RFS       274 non-null    bool \n",
            " 4   sow_Class 3 RFS       274 non-null    bool \n",
            " 5   sow_Update RFS        274 non-null    bool \n",
            " 6   region_EO             274 non-null    bool \n",
            " 7   region_GH             274 non-null    bool \n",
            " 8   region_HUR            274 non-null    bool \n",
            " 9   region_Other          274 non-null    bool \n",
            " 10  region_PC             274 non-null    bool \n",
            " 11  region_TOR            274 non-null    bool \n",
            " 12  region_YR             274 non-null    bool \n",
            " 13  building_commercial   274 non-null    bool \n",
            " 14  building_highrise     274 non-null    bool \n",
            " 15  building_mixed_use    274 non-null    bool \n",
            " 16  building_potl         274 non-null    bool \n",
            " 17  building_residential  274 non-null    bool \n",
            " 18  building_townhouse    274 non-null    bool \n",
            " 19  building_unknown      274 non-null    bool \n",
            " 20  unit_bin_0.0          274 non-null    bool \n",
            " 21  unit_bin_1.0          274 non-null    bool \n",
            " 22  unit_bin_2.0          274 non-null    bool \n",
            " 23  unit_bin_3.0          274 non-null    bool \n",
            " 24  unit_bin_4.0          274 non-null    bool \n",
            " 25  unit_bin_5.0          274 non-null    bool \n",
            " 26  unit_bin_6.0          274 non-null    bool \n",
            " 27  unit_bin_7.0          274 non-null    bool \n",
            " 28  unit_bin_8.0          274 non-null    bool \n",
            " 29  unit_bin_9.0          274 non-null    bool \n",
            " 30  fee_bin_0.0           274 non-null    bool \n",
            " 31  fee_bin_1.0           274 non-null    bool \n",
            " 32  fee_bin_2.0           274 non-null    bool \n",
            " 33  fee_bin_3.0           274 non-null    bool \n",
            " 34  fee_bin_4.0           274 non-null    bool \n",
            " 35  fee_bin_5.0           274 non-null    bool \n",
            " 36  fee_bin_6.0           274 non-null    bool \n",
            " 37  fee_bin_7.0           274 non-null    bool \n",
            " 38  fee_bin_8.0           274 non-null    bool \n",
            " 39  fee_bin_9.0           274 non-null    bool \n",
            "dtypes: bool(38), int64(2)\n",
            "memory usage: 16.6 KB\n"
          ]
        }
      ]
    },
    {
      "cell_type": "code",
      "source": [
        "#Rename X_train_rfs fee_bin_0 to fee_bin_0.0 and fee_bin_1 to fee_bin_1.0\n",
        "X_train_rfs = X_train_rfs.rename(columns={'fee_bin_0': 'fee_bin_0.0',\n",
        "                                          'fee_bin_1': 'fee_bin_1.0',\n",
        "                                          'fee_bin_2': 'fee_bin_2.0',\n",
        "                                          'fee_bin_3': 'fee_bin_3.0',\n",
        "                                          'fee_bin_4': 'fee_bin_4.0',\n",
        "                                          'fee_bin_5': 'fee_bin_5.0',\n",
        "                                          'fee_bin_6': 'fee_bin_6.0',\n",
        "                                          'fee_bin_7': 'fee_bin_7.0',\n",
        "                                          'fee_bin_8': 'fee_bin_8.0',\n",
        "                                          'fee_bin_9': 'fee_bin_9.0',\n",
        "                                          })"
      ],
      "metadata": {
        "id": "s9Z5oumSyoo-"
      },
      "execution_count": null,
      "outputs": []
    },
    {
      "cell_type": "code",
      "source": [
        "X_train_rfs.info()"
      ],
      "metadata": {
        "colab": {
          "base_uri": "https://localhost:8080/"
        },
        "id": "7mmJo1exyzxr",
        "outputId": "be33c964-85c8-46db-f9b9-95e09fb044c0"
      },
      "execution_count": null,
      "outputs": [
        {
          "output_type": "stream",
          "name": "stdout",
          "text": [
            "<class 'pandas.core.frame.DataFrame'>\n",
            "Index: 1096 entries, 693 to 434\n",
            "Data columns (total 40 columns):\n",
            " #   Column                Non-Null Count  Dtype\n",
            "---  ------                --------------  -----\n",
            " 0   prev_rfs              1096 non-null   int64\n",
            " 1   reminder              1096 non-null   int64\n",
            " 2   sow_Class 1 RFS       1096 non-null   bool \n",
            " 3   sow_Class 2 RFS       1096 non-null   bool \n",
            " 4   sow_Class 3 RFS       1096 non-null   bool \n",
            " 5   sow_Update RFS        1096 non-null   bool \n",
            " 6   region_EO             1096 non-null   bool \n",
            " 7   region_GH             1096 non-null   bool \n",
            " 8   region_HUR            1096 non-null   bool \n",
            " 9   region_Other          1096 non-null   bool \n",
            " 10  region_PC             1096 non-null   bool \n",
            " 11  region_TOR            1096 non-null   bool \n",
            " 12  region_YR             1096 non-null   bool \n",
            " 13  building_commercial   1096 non-null   bool \n",
            " 14  building_highrise     1096 non-null   bool \n",
            " 15  building_mixed_use    1096 non-null   bool \n",
            " 16  building_potl         1096 non-null   bool \n",
            " 17  building_residential  1096 non-null   bool \n",
            " 18  building_townhouse    1096 non-null   bool \n",
            " 19  building_unknown      1096 non-null   bool \n",
            " 20  unit_bin_0.0          1096 non-null   bool \n",
            " 21  unit_bin_1.0          1096 non-null   bool \n",
            " 22  unit_bin_2.0          1096 non-null   bool \n",
            " 23  unit_bin_3.0          1096 non-null   bool \n",
            " 24  unit_bin_4.0          1096 non-null   bool \n",
            " 25  unit_bin_5.0          1096 non-null   bool \n",
            " 26  unit_bin_6.0          1096 non-null   bool \n",
            " 27  unit_bin_7.0          1096 non-null   bool \n",
            " 28  unit_bin_8.0          1096 non-null   bool \n",
            " 29  unit_bin_9.0          1096 non-null   bool \n",
            " 30  fee_bin_0.0           1096 non-null   bool \n",
            " 31  fee_bin_1.0           1096 non-null   bool \n",
            " 32  fee_bin_2.0           1096 non-null   bool \n",
            " 33  fee_bin_3.0           1096 non-null   bool \n",
            " 34  fee_bin_4.0           1096 non-null   bool \n",
            " 35  fee_bin_5.0           1096 non-null   bool \n",
            " 36  fee_bin_6.0           1096 non-null   bool \n",
            " 37  fee_bin_7.0           1096 non-null   bool \n",
            " 38  fee_bin_8.0           1096 non-null   bool \n",
            " 39  fee_bin_9.0           1096 non-null   bool \n",
            "dtypes: bool(38), int64(2)\n",
            "memory usage: 66.4 KB\n"
          ]
        }
      ]
    },
    {
      "cell_type": "code",
      "source": [
        "X_test_rfs.info()"
      ],
      "metadata": {
        "colab": {
          "base_uri": "https://localhost:8080/"
        },
        "id": "fsfOYyO1y-7u",
        "outputId": "63591e8d-531d-4144-9be4-5998319f9ef5"
      },
      "execution_count": null,
      "outputs": [
        {
          "output_type": "stream",
          "name": "stdout",
          "text": [
            "<class 'pandas.core.frame.DataFrame'>\n",
            "Index: 274 entries, 527 to 314\n",
            "Data columns (total 40 columns):\n",
            " #   Column                Non-Null Count  Dtype\n",
            "---  ------                --------------  -----\n",
            " 0   prev_rfs              274 non-null    int64\n",
            " 1   reminder              274 non-null    int64\n",
            " 2   sow_Class 1 RFS       274 non-null    bool \n",
            " 3   sow_Class 2 RFS       274 non-null    bool \n",
            " 4   sow_Class 3 RFS       274 non-null    bool \n",
            " 5   sow_Update RFS        274 non-null    bool \n",
            " 6   region_EO             274 non-null    bool \n",
            " 7   region_GH             274 non-null    bool \n",
            " 8   region_HUR            274 non-null    bool \n",
            " 9   region_Other          274 non-null    bool \n",
            " 10  region_PC             274 non-null    bool \n",
            " 11  region_TOR            274 non-null    bool \n",
            " 12  region_YR             274 non-null    bool \n",
            " 13  building_commercial   274 non-null    bool \n",
            " 14  building_highrise     274 non-null    bool \n",
            " 15  building_mixed_use    274 non-null    bool \n",
            " 16  building_potl         274 non-null    bool \n",
            " 17  building_residential  274 non-null    bool \n",
            " 18  building_townhouse    274 non-null    bool \n",
            " 19  building_unknown      274 non-null    bool \n",
            " 20  unit_bin_0.0          274 non-null    bool \n",
            " 21  unit_bin_1.0          274 non-null    bool \n",
            " 22  unit_bin_2.0          274 non-null    bool \n",
            " 23  unit_bin_3.0          274 non-null    bool \n",
            " 24  unit_bin_4.0          274 non-null    bool \n",
            " 25  unit_bin_5.0          274 non-null    bool \n",
            " 26  unit_bin_6.0          274 non-null    bool \n",
            " 27  unit_bin_7.0          274 non-null    bool \n",
            " 28  unit_bin_8.0          274 non-null    bool \n",
            " 29  unit_bin_9.0          274 non-null    bool \n",
            " 30  fee_bin_0.0           274 non-null    bool \n",
            " 31  fee_bin_1.0           274 non-null    bool \n",
            " 32  fee_bin_2.0           274 non-null    bool \n",
            " 33  fee_bin_3.0           274 non-null    bool \n",
            " 34  fee_bin_4.0           274 non-null    bool \n",
            " 35  fee_bin_5.0           274 non-null    bool \n",
            " 36  fee_bin_6.0           274 non-null    bool \n",
            " 37  fee_bin_7.0           274 non-null    bool \n",
            " 38  fee_bin_8.0           274 non-null    bool \n",
            " 39  fee_bin_9.0           274 non-null    bool \n",
            "dtypes: bool(38), int64(2)\n",
            "memory usage: 16.6 KB\n"
          ]
        }
      ]
    },
    {
      "cell_type": "markdown",
      "source": [
        "These are done and ready to go!"
      ],
      "metadata": {
        "id": "xzKT-gEENKGh"
      }
    },
    {
      "cell_type": "markdown",
      "source": [
        "# **Non-RFS Multicollinearity Check**"
      ],
      "metadata": {
        "id": "ELYI6ty1TNOQ"
      }
    },
    {
      "cell_type": "markdown",
      "source": [
        "Before we finalize the data we'll check for correlation between features"
      ],
      "metadata": {
        "id": "h8LVeJkbTSLE"
      }
    },
    {
      "cell_type": "code",
      "source": [
        "correlation_matrix = X_train_all.corr()"
      ],
      "metadata": {
        "id": "T3Z3DoJ7U3ld"
      },
      "execution_count": null,
      "outputs": []
    },
    {
      "cell_type": "code",
      "source": [
        "plt.figure(figsize=(10, 8))\n",
        "sns.heatmap(correlation_matrix, cmap='coolwarm', fmt='.2f', linewidths=0.5)"
      ],
      "metadata": {
        "colab": {
          "base_uri": "https://localhost:8080/",
          "height": 90
        },
        "id": "KhZIu0DoVWn0",
        "outputId": "316eaae0-6997-4dfc-b0cc-2278d7894602"
      },
      "execution_count": null,
      "outputs": [
        {
          "output_type": "execute_result",
          "data": {
            "text/plain": [
              "<Axes: >"
            ]
          },
          "metadata": {},
          "execution_count": 824
        },
        {
          "output_type": "display_data",
          "data": {
            "text/plain": [
              "<Figure size 1000x800 with 2 Axes>"
            ],
            "image/png": "[encoded data removed]"
          },
          "metadata": {}
        }
      ]
    },
    {
      "cell_type": "markdown",
      "source": [
        "There is a lot of overlap between sow and project_type dummies. This isn't hugely surprising since project_type is an aggregated form of sow. We'll remove the ones that do not offer a unique aggregation"
      ],
      "metadata": {
        "id": "KGlkv_sEV2K0"
      }
    },
    {
      "cell_type": "code",
      "source": [
        "X_train_all = X_train_all.drop(['project_type_BCA',\n",
        "                                'project_type_Consult',\n",
        "                                'project_type_Garage',\n",
        "                                'project_type_Mechanical',\n",
        "                                'project_type_Other',\n",
        "                                'project_type_PCA',\n",
        "                                'project_type_Roofing',\n",
        "                                'project_type_Envelope'], axis=1)"
      ],
      "metadata": {
        "id": "Qda25PUAV_Bu"
      },
      "execution_count": null,
      "outputs": []
    },
    {
      "cell_type": "code",
      "source": [
        "X_test_all = X_test_all.drop(['project_type_BCA',\n",
        "                                'project_type_Consult',\n",
        "                                'project_type_Garage',\n",
        "                                'project_type_Mechanical',\n",
        "                                'project_type_Other',\n",
        "                                'project_type_PCA',\n",
        "                                'project_type_Roofing',\n",
        "                                'project_type_Envelope'], axis=1)"
      ],
      "metadata": {
        "id": "-FPJs61NXSh1"
      },
      "execution_count": null,
      "outputs": []
    },
    {
      "cell_type": "markdown",
      "source": [
        "The relationship between region_Unknown and the PCA project type is interesting. While I can't think of a reason for this, there is no harm in removing region_Unknown"
      ],
      "metadata": {
        "id": "cw-AbNPIXqdW"
      }
    },
    {
      "cell_type": "code",
      "source": [
        "X_train_all = X_train_all.drop('region_Unknown', axis=1)\n",
        "X_test_all = X_test_all.drop('region_Unknown', axis=1)"
      ],
      "metadata": {
        "id": "9IaR6soLVt4R"
      },
      "execution_count": null,
      "outputs": []
    },
    {
      "cell_type": "code",
      "source": [
        "print(X_train_all.shape)"
      ],
      "metadata": {
        "colab": {
          "base_uri": "https://localhost:8080/"
        },
        "id": "eHzSfOGWbrJ8",
        "outputId": "2139c5e1-6b89-4d97-8d6c-7b766db57a72"
      },
      "execution_count": null,
      "outputs": [
        {
          "output_type": "stream",
          "name": "stdout",
          "text": [
            "(1345, 34)\n"
          ]
        }
      ]
    },
    {
      "cell_type": "markdown",
      "source": [
        "# **RFS Multicollinearity Check**"
      ],
      "metadata": {
        "id": "_nFceM1qYIna"
      }
    },
    {
      "cell_type": "code",
      "source": [
        "correlation_matrix = X_train_rfs.corr()"
      ],
      "metadata": {
        "id": "afpfLqHXYL3O"
      },
      "execution_count": null,
      "outputs": []
    },
    {
      "cell_type": "code",
      "source": [
        "plt.figure(figsize=(10, 8))\n",
        "sns.heatmap(correlation_matrix, cmap='coolwarm', fmt='.2f', linewidths=0.5)"
      ],
      "metadata": {
        "id": "4mDMJF8_YOMO",
        "colab": {
          "base_uri": "https://localhost:8080/",
          "height": 830
        },
        "outputId": "0f97f6fe-7b4a-4867-ce6a-7e6a7621d964"
      },
      "execution_count": null,
      "outputs": [
        {
          "output_type": "execute_result",
          "data": {
            "text/plain": [
              "<Axes: >"
            ]
          },
          "metadata": {},
          "execution_count": 830
        },
        {
          "output_type": "display_data",
          "data": {
            "text/plain": [
              "<Figure size 1000x800 with 2 Axes>"
            ],
            "image/png": "[encoded data removed]"
          },
          "metadata": {}
        }
      ]
    },
    {
      "cell_type": "markdown",
      "source": [
        "The main worry here is the prev_rfs feature, which is correlated with both reminder and sow_Update RFS. This isn't surprising, since they can usually only send reminders for clients that they did the previous rfs for. These reminder proposals are also usually Update RFS type."
      ],
      "metadata": {
        "id": "ovYjiPpHYpVo"
      }
    },
    {
      "cell_type": "code",
      "source": [
        "print('reminder and prev_rfs corr:', X_train_rfs['reminder'].corr(X_train_rfs['prev_rfs']))\n",
        "print('Update RFS and prev_rfs corr:', X_train_rfs['sow_Update RFS'].corr(X_train_rfs['prev_rfs']))"
      ],
      "metadata": {
        "id": "IzLgqxl3abzL",
        "colab": {
          "base_uri": "https://localhost:8080/"
        },
        "outputId": "6aa54e56-09b2-455e-cfeb-89f6b8a73ac4"
      },
      "execution_count": null,
      "outputs": [
        {
          "output_type": "stream",
          "name": "stdout",
          "text": [
            "reminder and prev_rfs corr: 0.5198887391674677\n",
            "Update RFS and prev_rfs corr: 0.6763285672953366\n"
          ]
        }
      ]
    },
    {
      "cell_type": "markdown",
      "source": [
        "The correlation isn't strong enough to require these features be removed. Each of these features adds unique value to the data, so I will keep them all as is"
      ],
      "metadata": {
        "id": "w-HqSJSKbHKQ"
      }
    },
    {
      "cell_type": "markdown",
      "source": [
        "# **Data Exports**"
      ],
      "metadata": {
        "id": "x4RQX7rnNBly"
      }
    },
    {
      "cell_type": "code",
      "source": [
        "from google.colab import drive\n",
        "drive.mount('/content/drive')"
      ],
      "metadata": {
        "id": "FmGrsrFXKEZB",
        "colab": {
          "base_uri": "https://localhost:8080/"
        },
        "outputId": "d5514226-f60d-4c46-8428-adae192b6987"
      },
      "execution_count": null,
      "outputs": [
        {
          "output_type": "stream",
          "name": "stdout",
          "text": [
            "Drive already mounted at /content/drive; to attempt to forcibly remount, call drive.mount(\"/content/drive\", force_remount=True).\n"
          ]
        }
      ]
    },
    {
      "cell_type": "code",
      "source": [
        "X_train_all.to_pickle('/content/drive/My Drive/shared_folder/X_train_all.pkl')\n",
        "X_test_all.to_pickle('/content/drive/My Drive/shared_folder/X_test_all.pkl')\n",
        "y_train_all.to_pickle('/content/drive/My Drive/shared_folder/y_train_all.pkl')\n",
        "y_test_all.to_pickle('/content/drive/My Drive/shared_folder/y_test_all.pkl')\n",
        "\n",
        "X_train_rfs.to_pickle('/content/drive/My Drive/shared_folder/X_train_rfs.pkl')\n",
        "X_test_rfs.to_pickle('/content/drive/My Drive/shared_folder/X_test_rfs.pkl')\n",
        "y_train_rfs.to_pickle('/content/drive/My Drive/shared_folder/y_train_rfs.pkl')\n",
        "y_test_rfs.to_pickle('/content/drive/My Drive/shared_folder/y_test_rfs.pkl')"
      ],
      "metadata": {
        "id": "dgjGFSFfMd0v"
      },
      "execution_count": null,
      "outputs": []
    },
    {
      "cell_type": "markdown",
      "source": [
        "Download of final RFS and SOW datasets (pre train test split)"
      ],
      "metadata": {
        "id": "7cscH5cjqYIa"
      }
    },
    {
      "cell_type": "code",
      "source": [
        "#from google.colab import files\n",
        "#rfs.to_csv('3.1 Final RFS Data.csv')\n",
        "#files.download(\"3.1 Final RFS Data.csv\")\n",
        "\n",
        "#all.to_csv('3.2 Final All Data.csv')\n",
        "#files.download(\"3.2 Final All Data.csv\")"
      ],
      "metadata": {
        "id": "DL0JhhmdqgFu"
      },
      "execution_count": null,
      "outputs": []
    }
  ]
}